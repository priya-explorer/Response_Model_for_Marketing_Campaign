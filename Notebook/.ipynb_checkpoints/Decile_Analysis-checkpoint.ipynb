{
 "cells": [
  {
   "cell_type": "markdown",
   "metadata": {},
   "source": [
    "# Importing the neccessary libraries "
   ]
  },
  {
   "cell_type": "code",
   "execution_count": 1,
   "metadata": {},
   "outputs": [],
   "source": [
    "import pandas as pd\n",
    "import numpy as np\n",
    "import seaborn as sns\n",
    "import matplotlib.pyplot as plt\n",
    "from urllib.request import urlopen \n",
    "\n",
    "plt.style.use('ggplot')\n",
    "pd.set_option('display.max_columns', 500) "
   ]
  },
  {
   "cell_type": "code",
   "execution_count": 2,
   "metadata": {},
   "outputs": [],
   "source": [
    "# Warning Suppression \n",
    "import warnings\n",
    "warnings.filterwarnings('ignore')"
   ]
  },
  {
   "cell_type": "markdown",
   "metadata": {},
   "source": [
    "# Load the Data"
   ]
  },
  {
   "cell_type": "code",
   "execution_count": 3,
   "metadata": {},
   "outputs": [],
   "source": [
    "# Independent feature dataframe\n",
    "X = pd.read_csv(r\"C:\\Users\\priya\\PycharmProjects\\Response_modeling_for_supermarket\\Data\\X_pred_prob\")\n",
    "\n",
    "# Target feature dataframe\n",
    "Y = pd.read_csv(r\"C:\\Users\\priya\\PycharmProjects\\Response_modeling_for_supermarket\\Data\\Target_feature_df_1\")"
   ]
  },
  {
   "cell_type": "code",
   "execution_count": 4,
   "metadata": {},
   "outputs": [
    {
     "data": {
      "text/html": [
       "<div>\n",
       "<style scoped>\n",
       "    .dataframe tbody tr th:only-of-type {\n",
       "        vertical-align: middle;\n",
       "    }\n",
       "\n",
       "    .dataframe tbody tr th {\n",
       "        vertical-align: top;\n",
       "    }\n",
       "\n",
       "    .dataframe thead th {\n",
       "        text-align: right;\n",
       "    }\n",
       "</style>\n",
       "<table border=\"1\" class=\"dataframe\">\n",
       "  <thead>\n",
       "    <tr style=\"text-align: right;\">\n",
       "      <th></th>\n",
       "      <th>Income</th>\n",
       "      <th>Recency</th>\n",
       "      <th>MntWines</th>\n",
       "      <th>MntFruits</th>\n",
       "      <th>MntMeatProducts</th>\n",
       "      <th>MntFishProducts</th>\n",
       "      <th>MntSweetProducts</th>\n",
       "      <th>MntGoldProds</th>\n",
       "      <th>NumWebPurchases</th>\n",
       "      <th>NumCatalogPurchases</th>\n",
       "      <th>NumStorePurchases</th>\n",
       "      <th>AcceptedCmp3</th>\n",
       "      <th>AcceptedCmp4</th>\n",
       "      <th>AcceptedCmp5</th>\n",
       "      <th>AcceptedCmp1</th>\n",
       "      <th>AcceptedCmp2</th>\n",
       "      <th>Age</th>\n",
       "      <th>Cust_Tenure</th>\n",
       "      <th>Marital_Status_Divorced</th>\n",
       "      <th>Marital_Status_Single</th>\n",
       "      <th>Marital_Status_Widow</th>\n",
       "      <th>childhome_1</th>\n",
       "      <th>childhome_2</th>\n",
       "      <th>childhome_3</th>\n",
       "      <th>Education_Basic</th>\n",
       "      <th>Education_Graduation</th>\n",
       "      <th>Education_Master</th>\n",
       "      <th>Education_PhD</th>\n",
       "      <th>pred_prob</th>\n",
       "    </tr>\n",
       "  </thead>\n",
       "  <tbody>\n",
       "    <tr>\n",
       "      <th>0</th>\n",
       "      <td>58138.0</td>\n",
       "      <td>58</td>\n",
       "      <td>635</td>\n",
       "      <td>88</td>\n",
       "      <td>546</td>\n",
       "      <td>172</td>\n",
       "      <td>88</td>\n",
       "      <td>88</td>\n",
       "      <td>8</td>\n",
       "      <td>10</td>\n",
       "      <td>4</td>\n",
       "      <td>0</td>\n",
       "      <td>0</td>\n",
       "      <td>0</td>\n",
       "      <td>0</td>\n",
       "      <td>0</td>\n",
       "      <td>64.0</td>\n",
       "      <td>8.0</td>\n",
       "      <td>0</td>\n",
       "      <td>1</td>\n",
       "      <td>0</td>\n",
       "      <td>0</td>\n",
       "      <td>0</td>\n",
       "      <td>0</td>\n",
       "      <td>0</td>\n",
       "      <td>1</td>\n",
       "      <td>0</td>\n",
       "      <td>0</td>\n",
       "      <td>0.959747</td>\n",
       "    </tr>\n",
       "    <tr>\n",
       "      <th>1</th>\n",
       "      <td>46344.0</td>\n",
       "      <td>38</td>\n",
       "      <td>11</td>\n",
       "      <td>1</td>\n",
       "      <td>6</td>\n",
       "      <td>2</td>\n",
       "      <td>1</td>\n",
       "      <td>6</td>\n",
       "      <td>1</td>\n",
       "      <td>1</td>\n",
       "      <td>2</td>\n",
       "      <td>0</td>\n",
       "      <td>0</td>\n",
       "      <td>0</td>\n",
       "      <td>0</td>\n",
       "      <td>0</td>\n",
       "      <td>67.0</td>\n",
       "      <td>6.0</td>\n",
       "      <td>0</td>\n",
       "      <td>1</td>\n",
       "      <td>0</td>\n",
       "      <td>0</td>\n",
       "      <td>1</td>\n",
       "      <td>0</td>\n",
       "      <td>0</td>\n",
       "      <td>1</td>\n",
       "      <td>0</td>\n",
       "      <td>0</td>\n",
       "      <td>0.116699</td>\n",
       "    </tr>\n",
       "    <tr>\n",
       "      <th>2</th>\n",
       "      <td>71613.0</td>\n",
       "      <td>26</td>\n",
       "      <td>426</td>\n",
       "      <td>49</td>\n",
       "      <td>127</td>\n",
       "      <td>111</td>\n",
       "      <td>21</td>\n",
       "      <td>42</td>\n",
       "      <td>8</td>\n",
       "      <td>2</td>\n",
       "      <td>10</td>\n",
       "      <td>0</td>\n",
       "      <td>0</td>\n",
       "      <td>0</td>\n",
       "      <td>0</td>\n",
       "      <td>0</td>\n",
       "      <td>56.0</td>\n",
       "      <td>7.0</td>\n",
       "      <td>0</td>\n",
       "      <td>0</td>\n",
       "      <td>0</td>\n",
       "      <td>0</td>\n",
       "      <td>0</td>\n",
       "      <td>0</td>\n",
       "      <td>0</td>\n",
       "      <td>1</td>\n",
       "      <td>0</td>\n",
       "      <td>0</td>\n",
       "      <td>0.076542</td>\n",
       "    </tr>\n",
       "    <tr>\n",
       "      <th>3</th>\n",
       "      <td>26646.0</td>\n",
       "      <td>26</td>\n",
       "      <td>11</td>\n",
       "      <td>4</td>\n",
       "      <td>20</td>\n",
       "      <td>10</td>\n",
       "      <td>3</td>\n",
       "      <td>5</td>\n",
       "      <td>2</td>\n",
       "      <td>0</td>\n",
       "      <td>4</td>\n",
       "      <td>0</td>\n",
       "      <td>0</td>\n",
       "      <td>0</td>\n",
       "      <td>0</td>\n",
       "      <td>0</td>\n",
       "      <td>37.0</td>\n",
       "      <td>6.0</td>\n",
       "      <td>0</td>\n",
       "      <td>0</td>\n",
       "      <td>0</td>\n",
       "      <td>1</td>\n",
       "      <td>0</td>\n",
       "      <td>0</td>\n",
       "      <td>0</td>\n",
       "      <td>1</td>\n",
       "      <td>0</td>\n",
       "      <td>0</td>\n",
       "      <td>0.028384</td>\n",
       "    </tr>\n",
       "    <tr>\n",
       "      <th>4</th>\n",
       "      <td>58293.0</td>\n",
       "      <td>94</td>\n",
       "      <td>173</td>\n",
       "      <td>43</td>\n",
       "      <td>118</td>\n",
       "      <td>46</td>\n",
       "      <td>27</td>\n",
       "      <td>15</td>\n",
       "      <td>5</td>\n",
       "      <td>3</td>\n",
       "      <td>6</td>\n",
       "      <td>0</td>\n",
       "      <td>0</td>\n",
       "      <td>0</td>\n",
       "      <td>0</td>\n",
       "      <td>0</td>\n",
       "      <td>40.0</td>\n",
       "      <td>6.0</td>\n",
       "      <td>0</td>\n",
       "      <td>0</td>\n",
       "      <td>0</td>\n",
       "      <td>1</td>\n",
       "      <td>0</td>\n",
       "      <td>0</td>\n",
       "      <td>0</td>\n",
       "      <td>0</td>\n",
       "      <td>0</td>\n",
       "      <td>1</td>\n",
       "      <td>0.005233</td>\n",
       "    </tr>\n",
       "  </tbody>\n",
       "</table>\n",
       "</div>"
      ],
      "text/plain": [
       "    Income  Recency  MntWines  MntFruits  MntMeatProducts  MntFishProducts  \\\n",
       "0  58138.0       58       635         88              546              172   \n",
       "1  46344.0       38        11          1                6                2   \n",
       "2  71613.0       26       426         49              127              111   \n",
       "3  26646.0       26        11          4               20               10   \n",
       "4  58293.0       94       173         43              118               46   \n",
       "\n",
       "   MntSweetProducts  MntGoldProds  NumWebPurchases  NumCatalogPurchases  \\\n",
       "0                88            88                8                   10   \n",
       "1                 1             6                1                    1   \n",
       "2                21            42                8                    2   \n",
       "3                 3             5                2                    0   \n",
       "4                27            15                5                    3   \n",
       "\n",
       "   NumStorePurchases  AcceptedCmp3  AcceptedCmp4  AcceptedCmp5  AcceptedCmp1  \\\n",
       "0                  4             0             0             0             0   \n",
       "1                  2             0             0             0             0   \n",
       "2                 10             0             0             0             0   \n",
       "3                  4             0             0             0             0   \n",
       "4                  6             0             0             0             0   \n",
       "\n",
       "   AcceptedCmp2   Age  Cust_Tenure  Marital_Status_Divorced  \\\n",
       "0             0  64.0          8.0                        0   \n",
       "1             0  67.0          6.0                        0   \n",
       "2             0  56.0          7.0                        0   \n",
       "3             0  37.0          6.0                        0   \n",
       "4             0  40.0          6.0                        0   \n",
       "\n",
       "   Marital_Status_Single  Marital_Status_Widow  childhome_1  childhome_2  \\\n",
       "0                      1                     0            0            0   \n",
       "1                      1                     0            0            1   \n",
       "2                      0                     0            0            0   \n",
       "3                      0                     0            1            0   \n",
       "4                      0                     0            1            0   \n",
       "\n",
       "   childhome_3  Education_Basic  Education_Graduation  Education_Master  \\\n",
       "0            0                0                     1                 0   \n",
       "1            0                0                     1                 0   \n",
       "2            0                0                     1                 0   \n",
       "3            0                0                     1                 0   \n",
       "4            0                0                     0                 0   \n",
       "\n",
       "   Education_PhD  pred_prob  \n",
       "0              0   0.959747  \n",
       "1              0   0.116699  \n",
       "2              0   0.076542  \n",
       "3              0   0.028384  \n",
       "4              1   0.005233  "
      ]
     },
     "execution_count": 4,
     "metadata": {},
     "output_type": "execute_result"
    }
   ],
   "source": [
    "X.head()"
   ]
  },
  {
   "cell_type": "code",
   "execution_count": 5,
   "metadata": {},
   "outputs": [
    {
     "name": "stdout",
     "output_type": "stream",
     "text": [
      "The event rate is 0.15 %\n"
     ]
    }
   ],
   "source": [
    "print(\"The event rate is\", round(Y['Response'].mean(),2),\"%\")"
   ]
  },
  {
   "cell_type": "code",
   "execution_count": 6,
   "metadata": {},
   "outputs": [],
   "source": [
    "# Concatenating the independent and target feature into one dataframe-df\n",
    "df = pd.concat([X,Y],axis=1)"
   ]
  },
  {
   "cell_type": "code",
   "execution_count": 7,
   "metadata": {},
   "outputs": [
    {
     "data": {
      "text/html": [
       "<div>\n",
       "<style scoped>\n",
       "    .dataframe tbody tr th:only-of-type {\n",
       "        vertical-align: middle;\n",
       "    }\n",
       "\n",
       "    .dataframe tbody tr th {\n",
       "        vertical-align: top;\n",
       "    }\n",
       "\n",
       "    .dataframe thead th {\n",
       "        text-align: right;\n",
       "    }\n",
       "</style>\n",
       "<table border=\"1\" class=\"dataframe\">\n",
       "  <thead>\n",
       "    <tr style=\"text-align: right;\">\n",
       "      <th></th>\n",
       "      <th>Income</th>\n",
       "      <th>Recency</th>\n",
       "      <th>MntWines</th>\n",
       "      <th>MntFruits</th>\n",
       "      <th>MntMeatProducts</th>\n",
       "      <th>MntFishProducts</th>\n",
       "      <th>MntSweetProducts</th>\n",
       "      <th>MntGoldProds</th>\n",
       "      <th>NumWebPurchases</th>\n",
       "      <th>NumCatalogPurchases</th>\n",
       "      <th>NumStorePurchases</th>\n",
       "      <th>AcceptedCmp3</th>\n",
       "      <th>AcceptedCmp4</th>\n",
       "      <th>AcceptedCmp5</th>\n",
       "      <th>AcceptedCmp1</th>\n",
       "      <th>AcceptedCmp2</th>\n",
       "      <th>Age</th>\n",
       "      <th>Cust_Tenure</th>\n",
       "      <th>Marital_Status_Divorced</th>\n",
       "      <th>Marital_Status_Single</th>\n",
       "      <th>Marital_Status_Widow</th>\n",
       "      <th>childhome_1</th>\n",
       "      <th>childhome_2</th>\n",
       "      <th>childhome_3</th>\n",
       "      <th>Education_Basic</th>\n",
       "      <th>Education_Graduation</th>\n",
       "      <th>Education_Master</th>\n",
       "      <th>Education_PhD</th>\n",
       "      <th>pred_prob</th>\n",
       "      <th>Response</th>\n",
       "    </tr>\n",
       "  </thead>\n",
       "  <tbody>\n",
       "    <tr>\n",
       "      <th>0</th>\n",
       "      <td>58138.0</td>\n",
       "      <td>58</td>\n",
       "      <td>635</td>\n",
       "      <td>88</td>\n",
       "      <td>546</td>\n",
       "      <td>172</td>\n",
       "      <td>88</td>\n",
       "      <td>88</td>\n",
       "      <td>8</td>\n",
       "      <td>10</td>\n",
       "      <td>4</td>\n",
       "      <td>0</td>\n",
       "      <td>0</td>\n",
       "      <td>0</td>\n",
       "      <td>0</td>\n",
       "      <td>0</td>\n",
       "      <td>64.0</td>\n",
       "      <td>8.0</td>\n",
       "      <td>0</td>\n",
       "      <td>1</td>\n",
       "      <td>0</td>\n",
       "      <td>0</td>\n",
       "      <td>0</td>\n",
       "      <td>0</td>\n",
       "      <td>0</td>\n",
       "      <td>1</td>\n",
       "      <td>0</td>\n",
       "      <td>0</td>\n",
       "      <td>0.959747</td>\n",
       "      <td>1</td>\n",
       "    </tr>\n",
       "    <tr>\n",
       "      <th>1</th>\n",
       "      <td>46344.0</td>\n",
       "      <td>38</td>\n",
       "      <td>11</td>\n",
       "      <td>1</td>\n",
       "      <td>6</td>\n",
       "      <td>2</td>\n",
       "      <td>1</td>\n",
       "      <td>6</td>\n",
       "      <td>1</td>\n",
       "      <td>1</td>\n",
       "      <td>2</td>\n",
       "      <td>0</td>\n",
       "      <td>0</td>\n",
       "      <td>0</td>\n",
       "      <td>0</td>\n",
       "      <td>0</td>\n",
       "      <td>67.0</td>\n",
       "      <td>6.0</td>\n",
       "      <td>0</td>\n",
       "      <td>1</td>\n",
       "      <td>0</td>\n",
       "      <td>0</td>\n",
       "      <td>1</td>\n",
       "      <td>0</td>\n",
       "      <td>0</td>\n",
       "      <td>1</td>\n",
       "      <td>0</td>\n",
       "      <td>0</td>\n",
       "      <td>0.116699</td>\n",
       "      <td>0</td>\n",
       "    </tr>\n",
       "    <tr>\n",
       "      <th>2</th>\n",
       "      <td>71613.0</td>\n",
       "      <td>26</td>\n",
       "      <td>426</td>\n",
       "      <td>49</td>\n",
       "      <td>127</td>\n",
       "      <td>111</td>\n",
       "      <td>21</td>\n",
       "      <td>42</td>\n",
       "      <td>8</td>\n",
       "      <td>2</td>\n",
       "      <td>10</td>\n",
       "      <td>0</td>\n",
       "      <td>0</td>\n",
       "      <td>0</td>\n",
       "      <td>0</td>\n",
       "      <td>0</td>\n",
       "      <td>56.0</td>\n",
       "      <td>7.0</td>\n",
       "      <td>0</td>\n",
       "      <td>0</td>\n",
       "      <td>0</td>\n",
       "      <td>0</td>\n",
       "      <td>0</td>\n",
       "      <td>0</td>\n",
       "      <td>0</td>\n",
       "      <td>1</td>\n",
       "      <td>0</td>\n",
       "      <td>0</td>\n",
       "      <td>0.076542</td>\n",
       "      <td>0</td>\n",
       "    </tr>\n",
       "    <tr>\n",
       "      <th>3</th>\n",
       "      <td>26646.0</td>\n",
       "      <td>26</td>\n",
       "      <td>11</td>\n",
       "      <td>4</td>\n",
       "      <td>20</td>\n",
       "      <td>10</td>\n",
       "      <td>3</td>\n",
       "      <td>5</td>\n",
       "      <td>2</td>\n",
       "      <td>0</td>\n",
       "      <td>4</td>\n",
       "      <td>0</td>\n",
       "      <td>0</td>\n",
       "      <td>0</td>\n",
       "      <td>0</td>\n",
       "      <td>0</td>\n",
       "      <td>37.0</td>\n",
       "      <td>6.0</td>\n",
       "      <td>0</td>\n",
       "      <td>0</td>\n",
       "      <td>0</td>\n",
       "      <td>1</td>\n",
       "      <td>0</td>\n",
       "      <td>0</td>\n",
       "      <td>0</td>\n",
       "      <td>1</td>\n",
       "      <td>0</td>\n",
       "      <td>0</td>\n",
       "      <td>0.028384</td>\n",
       "      <td>0</td>\n",
       "    </tr>\n",
       "    <tr>\n",
       "      <th>4</th>\n",
       "      <td>58293.0</td>\n",
       "      <td>94</td>\n",
       "      <td>173</td>\n",
       "      <td>43</td>\n",
       "      <td>118</td>\n",
       "      <td>46</td>\n",
       "      <td>27</td>\n",
       "      <td>15</td>\n",
       "      <td>5</td>\n",
       "      <td>3</td>\n",
       "      <td>6</td>\n",
       "      <td>0</td>\n",
       "      <td>0</td>\n",
       "      <td>0</td>\n",
       "      <td>0</td>\n",
       "      <td>0</td>\n",
       "      <td>40.0</td>\n",
       "      <td>6.0</td>\n",
       "      <td>0</td>\n",
       "      <td>0</td>\n",
       "      <td>0</td>\n",
       "      <td>1</td>\n",
       "      <td>0</td>\n",
       "      <td>0</td>\n",
       "      <td>0</td>\n",
       "      <td>0</td>\n",
       "      <td>0</td>\n",
       "      <td>1</td>\n",
       "      <td>0.005233</td>\n",
       "      <td>0</td>\n",
       "    </tr>\n",
       "  </tbody>\n",
       "</table>\n",
       "</div>"
      ],
      "text/plain": [
       "    Income  Recency  MntWines  MntFruits  MntMeatProducts  MntFishProducts  \\\n",
       "0  58138.0       58       635         88              546              172   \n",
       "1  46344.0       38        11          1                6                2   \n",
       "2  71613.0       26       426         49              127              111   \n",
       "3  26646.0       26        11          4               20               10   \n",
       "4  58293.0       94       173         43              118               46   \n",
       "\n",
       "   MntSweetProducts  MntGoldProds  NumWebPurchases  NumCatalogPurchases  \\\n",
       "0                88            88                8                   10   \n",
       "1                 1             6                1                    1   \n",
       "2                21            42                8                    2   \n",
       "3                 3             5                2                    0   \n",
       "4                27            15                5                    3   \n",
       "\n",
       "   NumStorePurchases  AcceptedCmp3  AcceptedCmp4  AcceptedCmp5  AcceptedCmp1  \\\n",
       "0                  4             0             0             0             0   \n",
       "1                  2             0             0             0             0   \n",
       "2                 10             0             0             0             0   \n",
       "3                  4             0             0             0             0   \n",
       "4                  6             0             0             0             0   \n",
       "\n",
       "   AcceptedCmp2   Age  Cust_Tenure  Marital_Status_Divorced  \\\n",
       "0             0  64.0          8.0                        0   \n",
       "1             0  67.0          6.0                        0   \n",
       "2             0  56.0          7.0                        0   \n",
       "3             0  37.0          6.0                        0   \n",
       "4             0  40.0          6.0                        0   \n",
       "\n",
       "   Marital_Status_Single  Marital_Status_Widow  childhome_1  childhome_2  \\\n",
       "0                      1                     0            0            0   \n",
       "1                      1                     0            0            1   \n",
       "2                      0                     0            0            0   \n",
       "3                      0                     0            1            0   \n",
       "4                      0                     0            1            0   \n",
       "\n",
       "   childhome_3  Education_Basic  Education_Graduation  Education_Master  \\\n",
       "0            0                0                     1                 0   \n",
       "1            0                0                     1                 0   \n",
       "2            0                0                     1                 0   \n",
       "3            0                0                     1                 0   \n",
       "4            0                0                     0                 0   \n",
       "\n",
       "   Education_PhD  pred_prob  Response  \n",
       "0              0   0.959747         1  \n",
       "1              0   0.116699         0  \n",
       "2              0   0.076542         0  \n",
       "3              0   0.028384         0  \n",
       "4              1   0.005233         0  "
      ]
     },
     "execution_count": 7,
     "metadata": {},
     "output_type": "execute_result"
    }
   ],
   "source": [
    "df.head()"
   ]
  },
  {
   "cell_type": "code",
   "execution_count": 8,
   "metadata": {},
   "outputs": [
    {
     "data": {
      "text/plain": [
       "(2058, 30)"
      ]
     },
     "execution_count": 8,
     "metadata": {},
     "output_type": "execute_result"
    }
   ],
   "source": [
    "df.shape"
   ]
  },
  {
   "cell_type": "markdown",
   "metadata": {},
   "source": [
    "# Probability Decile Analysis "
   ]
  },
  {
   "cell_type": "markdown",
   "metadata": {},
   "source": [
    "##  1. Create Deciles based on the Model Probabilities\n",
    " - Divide the whole dataset into 10 equal groups "
   ]
  },
  {
   "cell_type": "code",
   "execution_count": 9,
   "metadata": {},
   "outputs": [
    {
     "data": {
      "text/html": [
       "<div>\n",
       "<style scoped>\n",
       "    .dataframe tbody tr th:only-of-type {\n",
       "        vertical-align: middle;\n",
       "    }\n",
       "\n",
       "    .dataframe tbody tr th {\n",
       "        vertical-align: top;\n",
       "    }\n",
       "\n",
       "    .dataframe thead th {\n",
       "        text-align: right;\n",
       "    }\n",
       "</style>\n",
       "<table border=\"1\" class=\"dataframe\">\n",
       "  <thead>\n",
       "    <tr style=\"text-align: right;\">\n",
       "      <th></th>\n",
       "      <th>pred_prob</th>\n",
       "      <th>Prob_Rank</th>\n",
       "    </tr>\n",
       "  </thead>\n",
       "  <tbody>\n",
       "    <tr>\n",
       "      <th>0</th>\n",
       "      <td>0.959747</td>\n",
       "      <td>10</td>\n",
       "    </tr>\n",
       "    <tr>\n",
       "      <th>1</th>\n",
       "      <td>0.116699</td>\n",
       "      <td>5</td>\n",
       "    </tr>\n",
       "    <tr>\n",
       "      <th>2</th>\n",
       "      <td>0.076542</td>\n",
       "      <td>4</td>\n",
       "    </tr>\n",
       "    <tr>\n",
       "      <th>3</th>\n",
       "      <td>0.028384</td>\n",
       "      <td>3</td>\n",
       "    </tr>\n",
       "    <tr>\n",
       "      <th>4</th>\n",
       "      <td>0.005233</td>\n",
       "      <td>1</td>\n",
       "    </tr>\n",
       "  </tbody>\n",
       "</table>\n",
       "</div>"
      ],
      "text/plain": [
       "   pred_prob  Prob_Rank\n",
       "0   0.959747         10\n",
       "1   0.116699          5\n",
       "2   0.076542          4\n",
       "3   0.028384          3\n",
       "4   0.005233          1"
      ]
     },
     "execution_count": 9,
     "metadata": {},
     "output_type": "execute_result"
    }
   ],
   "source": [
    "df['Prob_Rank']=pd.qcut(df['pred_prob'].rank(method='first').values,10,duplicates='drop').codes+1\n",
    "df[['pred_prob','Prob_Rank']].head()"
   ]
  },
  {
   "cell_type": "markdown",
   "metadata": {},
   "source": [
    "## 2. Summarize the data at Decile Level for Analysis\n",
    "- Check if each group has equal number of observations"
   ]
  },
  {
   "cell_type": "code",
   "execution_count": 10,
   "metadata": {},
   "outputs": [
    {
     "data": {
      "text/html": [
       "<div>\n",
       "<style scoped>\n",
       "    .dataframe tbody tr th:only-of-type {\n",
       "        vertical-align: middle;\n",
       "    }\n",
       "\n",
       "    .dataframe tbody tr th {\n",
       "        vertical-align: top;\n",
       "    }\n",
       "\n",
       "    .dataframe thead th {\n",
       "        text-align: right;\n",
       "    }\n",
       "</style>\n",
       "<table border=\"1\" class=\"dataframe\">\n",
       "  <thead>\n",
       "    <tr style=\"text-align: right;\">\n",
       "      <th></th>\n",
       "      <th>count</th>\n",
       "      <th>Actual_event_rate</th>\n",
       "    </tr>\n",
       "    <tr>\n",
       "      <th>Prob_Rank</th>\n",
       "      <th></th>\n",
       "      <th></th>\n",
       "    </tr>\n",
       "  </thead>\n",
       "  <tbody>\n",
       "    <tr>\n",
       "      <th>10</th>\n",
       "      <td>206</td>\n",
       "      <td>0.689320</td>\n",
       "    </tr>\n",
       "    <tr>\n",
       "      <th>9</th>\n",
       "      <td>206</td>\n",
       "      <td>0.383495</td>\n",
       "    </tr>\n",
       "    <tr>\n",
       "      <th>8</th>\n",
       "      <td>206</td>\n",
       "      <td>0.184466</td>\n",
       "    </tr>\n",
       "    <tr>\n",
       "      <th>7</th>\n",
       "      <td>205</td>\n",
       "      <td>0.121951</td>\n",
       "    </tr>\n",
       "    <tr>\n",
       "      <th>6</th>\n",
       "      <td>206</td>\n",
       "      <td>0.077670</td>\n",
       "    </tr>\n",
       "    <tr>\n",
       "      <th>5</th>\n",
       "      <td>206</td>\n",
       "      <td>0.033981</td>\n",
       "    </tr>\n",
       "    <tr>\n",
       "      <th>4</th>\n",
       "      <td>205</td>\n",
       "      <td>0.009756</td>\n",
       "    </tr>\n",
       "    <tr>\n",
       "      <th>3</th>\n",
       "      <td>206</td>\n",
       "      <td>0.019417</td>\n",
       "    </tr>\n",
       "    <tr>\n",
       "      <th>2</th>\n",
       "      <td>206</td>\n",
       "      <td>0.000000</td>\n",
       "    </tr>\n",
       "    <tr>\n",
       "      <th>1</th>\n",
       "      <td>206</td>\n",
       "      <td>0.000000</td>\n",
       "    </tr>\n",
       "  </tbody>\n",
       "</table>\n",
       "</div>"
      ],
      "text/plain": [
       "           count  Actual_event_rate\n",
       "Prob_Rank                          \n",
       "10           206           0.689320\n",
       "9            206           0.383495\n",
       "8            206           0.184466\n",
       "7            205           0.121951\n",
       "6            206           0.077670\n",
       "5            206           0.033981\n",
       "4            205           0.009756\n",
       "3            206           0.019417\n",
       "2            206           0.000000\n",
       "1            206           0.000000"
      ]
     },
     "execution_count": 10,
     "metadata": {},
     "output_type": "execute_result"
    }
   ],
   "source": [
    "rank_df=df.groupby('Prob_Rank')['Response'].agg(['count','mean']).sort_values(by='Prob_Rank',ascending=False)\n",
    "rank_df.rename(columns={'mean':'Actual_event_rate'},inplace=True)\n",
    "rank_df"
   ]
  },
  {
   "cell_type": "markdown",
   "metadata": {},
   "source": [
    "## 3 Event Capture Analysis across Probability Deciles"
   ]
  },
  {
   "cell_type": "code",
   "execution_count": 11,
   "metadata": {},
   "outputs": [
    {
     "data": {
      "text/html": [
       "<div>\n",
       "<style scoped>\n",
       "    .dataframe tbody tr th:only-of-type {\n",
       "        vertical-align: middle;\n",
       "    }\n",
       "\n",
       "    .dataframe tbody tr th {\n",
       "        vertical-align: top;\n",
       "    }\n",
       "\n",
       "    .dataframe thead th {\n",
       "        text-align: right;\n",
       "    }\n",
       "</style>\n",
       "<table border=\"1\" class=\"dataframe\">\n",
       "  <thead>\n",
       "    <tr style=\"text-align: right;\">\n",
       "      <th></th>\n",
       "      <th>count</th>\n",
       "      <th>Actual_event_rate</th>\n",
       "      <th>N_events</th>\n",
       "      <th>cum_events</th>\n",
       "      <th>event_cap</th>\n",
       "      <th>cum_event_cap</th>\n",
       "    </tr>\n",
       "    <tr>\n",
       "      <th>Prob_Rank</th>\n",
       "      <th></th>\n",
       "      <th></th>\n",
       "      <th></th>\n",
       "      <th></th>\n",
       "      <th></th>\n",
       "      <th></th>\n",
       "    </tr>\n",
       "  </thead>\n",
       "  <tbody>\n",
       "    <tr>\n",
       "      <th>10</th>\n",
       "      <td>206</td>\n",
       "      <td>0.689320</td>\n",
       "      <td>142.0</td>\n",
       "      <td>142.0</td>\n",
       "      <td>0.453674</td>\n",
       "      <td>0.453674</td>\n",
       "    </tr>\n",
       "    <tr>\n",
       "      <th>9</th>\n",
       "      <td>206</td>\n",
       "      <td>0.383495</td>\n",
       "      <td>79.0</td>\n",
       "      <td>221.0</td>\n",
       "      <td>0.252396</td>\n",
       "      <td>0.706070</td>\n",
       "    </tr>\n",
       "    <tr>\n",
       "      <th>8</th>\n",
       "      <td>206</td>\n",
       "      <td>0.184466</td>\n",
       "      <td>38.0</td>\n",
       "      <td>259.0</td>\n",
       "      <td>0.121406</td>\n",
       "      <td>0.827476</td>\n",
       "    </tr>\n",
       "    <tr>\n",
       "      <th>7</th>\n",
       "      <td>205</td>\n",
       "      <td>0.121951</td>\n",
       "      <td>25.0</td>\n",
       "      <td>284.0</td>\n",
       "      <td>0.079872</td>\n",
       "      <td>0.907348</td>\n",
       "    </tr>\n",
       "    <tr>\n",
       "      <th>6</th>\n",
       "      <td>206</td>\n",
       "      <td>0.077670</td>\n",
       "      <td>16.0</td>\n",
       "      <td>300.0</td>\n",
       "      <td>0.051118</td>\n",
       "      <td>0.958466</td>\n",
       "    </tr>\n",
       "    <tr>\n",
       "      <th>5</th>\n",
       "      <td>206</td>\n",
       "      <td>0.033981</td>\n",
       "      <td>7.0</td>\n",
       "      <td>307.0</td>\n",
       "      <td>0.022364</td>\n",
       "      <td>0.980831</td>\n",
       "    </tr>\n",
       "    <tr>\n",
       "      <th>4</th>\n",
       "      <td>205</td>\n",
       "      <td>0.009756</td>\n",
       "      <td>2.0</td>\n",
       "      <td>309.0</td>\n",
       "      <td>0.006390</td>\n",
       "      <td>0.987220</td>\n",
       "    </tr>\n",
       "    <tr>\n",
       "      <th>3</th>\n",
       "      <td>206</td>\n",
       "      <td>0.019417</td>\n",
       "      <td>4.0</td>\n",
       "      <td>313.0</td>\n",
       "      <td>0.012780</td>\n",
       "      <td>1.000000</td>\n",
       "    </tr>\n",
       "    <tr>\n",
       "      <th>2</th>\n",
       "      <td>206</td>\n",
       "      <td>0.000000</td>\n",
       "      <td>0.0</td>\n",
       "      <td>313.0</td>\n",
       "      <td>0.000000</td>\n",
       "      <td>1.000000</td>\n",
       "    </tr>\n",
       "    <tr>\n",
       "      <th>1</th>\n",
       "      <td>206</td>\n",
       "      <td>0.000000</td>\n",
       "      <td>0.0</td>\n",
       "      <td>313.0</td>\n",
       "      <td>0.000000</td>\n",
       "      <td>1.000000</td>\n",
       "    </tr>\n",
       "  </tbody>\n",
       "</table>\n",
       "</div>"
      ],
      "text/plain": [
       "           count  Actual_event_rate  N_events  cum_events  event_cap  \\\n",
       "Prob_Rank                                                              \n",
       "10           206           0.689320     142.0       142.0   0.453674   \n",
       "9            206           0.383495      79.0       221.0   0.252396   \n",
       "8            206           0.184466      38.0       259.0   0.121406   \n",
       "7            205           0.121951      25.0       284.0   0.079872   \n",
       "6            206           0.077670      16.0       300.0   0.051118   \n",
       "5            206           0.033981       7.0       307.0   0.022364   \n",
       "4            205           0.009756       2.0       309.0   0.006390   \n",
       "3            206           0.019417       4.0       313.0   0.012780   \n",
       "2            206           0.000000       0.0       313.0   0.000000   \n",
       "1            206           0.000000       0.0       313.0   0.000000   \n",
       "\n",
       "           cum_event_cap  \n",
       "Prob_Rank                 \n",
       "10              0.453674  \n",
       "9               0.706070  \n",
       "8               0.827476  \n",
       "7               0.907348  \n",
       "6               0.958466  \n",
       "5               0.980831  \n",
       "4               0.987220  \n",
       "3               1.000000  \n",
       "2               1.000000  \n",
       "1               1.000000  "
      ]
     },
     "execution_count": 11,
     "metadata": {},
     "output_type": "execute_result"
    }
   ],
   "source": [
    "rank_df['N_events']=rank_df['count']*rank_df['Actual_event_rate']\n",
    "rank_df['cum_events']=rank_df['N_events'].cumsum()\n",
    "rank_df['event_cap']=rank_df['N_events']/max(rank_df['N_events'].cumsum())\n",
    "rank_df['cum_event_cap']=rank_df['event_cap'].cumsum()\n",
    "rank_df"
   ]
  },
  {
   "cell_type": "markdown",
   "metadata": {},
   "source": [
    "## 4 Non Event Capture Analysis across Probability Deciles"
   ]
  },
  {
   "cell_type": "code",
   "execution_count": 12,
   "metadata": {},
   "outputs": [
    {
     "data": {
      "text/html": [
       "<div>\n",
       "<style scoped>\n",
       "    .dataframe tbody tr th:only-of-type {\n",
       "        vertical-align: middle;\n",
       "    }\n",
       "\n",
       "    .dataframe tbody tr th {\n",
       "        vertical-align: top;\n",
       "    }\n",
       "\n",
       "    .dataframe thead th {\n",
       "        text-align: right;\n",
       "    }\n",
       "</style>\n",
       "<table border=\"1\" class=\"dataframe\">\n",
       "  <thead>\n",
       "    <tr style=\"text-align: right;\">\n",
       "      <th></th>\n",
       "      <th>count</th>\n",
       "      <th>Actual_event_rate</th>\n",
       "      <th>N_events</th>\n",
       "      <th>cum_events</th>\n",
       "      <th>event_cap</th>\n",
       "      <th>cum_event_cap</th>\n",
       "      <th>N_non_events</th>\n",
       "      <th>cum_non_events</th>\n",
       "      <th>non_event_cap</th>\n",
       "      <th>cum_non_event_cap</th>\n",
       "    </tr>\n",
       "    <tr>\n",
       "      <th>Prob_Rank</th>\n",
       "      <th></th>\n",
       "      <th></th>\n",
       "      <th></th>\n",
       "      <th></th>\n",
       "      <th></th>\n",
       "      <th></th>\n",
       "      <th></th>\n",
       "      <th></th>\n",
       "      <th></th>\n",
       "      <th></th>\n",
       "    </tr>\n",
       "  </thead>\n",
       "  <tbody>\n",
       "    <tr>\n",
       "      <th>10</th>\n",
       "      <td>206</td>\n",
       "      <td>0.689320</td>\n",
       "      <td>142.0</td>\n",
       "      <td>142.0</td>\n",
       "      <td>0.453674</td>\n",
       "      <td>0.453674</td>\n",
       "      <td>64.0</td>\n",
       "      <td>64.0</td>\n",
       "      <td>0.036676</td>\n",
       "      <td>0.036676</td>\n",
       "    </tr>\n",
       "    <tr>\n",
       "      <th>9</th>\n",
       "      <td>206</td>\n",
       "      <td>0.383495</td>\n",
       "      <td>79.0</td>\n",
       "      <td>221.0</td>\n",
       "      <td>0.252396</td>\n",
       "      <td>0.706070</td>\n",
       "      <td>127.0</td>\n",
       "      <td>191.0</td>\n",
       "      <td>0.072779</td>\n",
       "      <td>0.109456</td>\n",
       "    </tr>\n",
       "    <tr>\n",
       "      <th>8</th>\n",
       "      <td>206</td>\n",
       "      <td>0.184466</td>\n",
       "      <td>38.0</td>\n",
       "      <td>259.0</td>\n",
       "      <td>0.121406</td>\n",
       "      <td>0.827476</td>\n",
       "      <td>168.0</td>\n",
       "      <td>359.0</td>\n",
       "      <td>0.096275</td>\n",
       "      <td>0.205731</td>\n",
       "    </tr>\n",
       "    <tr>\n",
       "      <th>7</th>\n",
       "      <td>205</td>\n",
       "      <td>0.121951</td>\n",
       "      <td>25.0</td>\n",
       "      <td>284.0</td>\n",
       "      <td>0.079872</td>\n",
       "      <td>0.907348</td>\n",
       "      <td>180.0</td>\n",
       "      <td>539.0</td>\n",
       "      <td>0.103152</td>\n",
       "      <td>0.308883</td>\n",
       "    </tr>\n",
       "    <tr>\n",
       "      <th>6</th>\n",
       "      <td>206</td>\n",
       "      <td>0.077670</td>\n",
       "      <td>16.0</td>\n",
       "      <td>300.0</td>\n",
       "      <td>0.051118</td>\n",
       "      <td>0.958466</td>\n",
       "      <td>190.0</td>\n",
       "      <td>729.0</td>\n",
       "      <td>0.108883</td>\n",
       "      <td>0.417765</td>\n",
       "    </tr>\n",
       "    <tr>\n",
       "      <th>5</th>\n",
       "      <td>206</td>\n",
       "      <td>0.033981</td>\n",
       "      <td>7.0</td>\n",
       "      <td>307.0</td>\n",
       "      <td>0.022364</td>\n",
       "      <td>0.980831</td>\n",
       "      <td>199.0</td>\n",
       "      <td>928.0</td>\n",
       "      <td>0.114040</td>\n",
       "      <td>0.531805</td>\n",
       "    </tr>\n",
       "    <tr>\n",
       "      <th>4</th>\n",
       "      <td>205</td>\n",
       "      <td>0.009756</td>\n",
       "      <td>2.0</td>\n",
       "      <td>309.0</td>\n",
       "      <td>0.006390</td>\n",
       "      <td>0.987220</td>\n",
       "      <td>203.0</td>\n",
       "      <td>1131.0</td>\n",
       "      <td>0.116332</td>\n",
       "      <td>0.648138</td>\n",
       "    </tr>\n",
       "    <tr>\n",
       "      <th>3</th>\n",
       "      <td>206</td>\n",
       "      <td>0.019417</td>\n",
       "      <td>4.0</td>\n",
       "      <td>313.0</td>\n",
       "      <td>0.012780</td>\n",
       "      <td>1.000000</td>\n",
       "      <td>202.0</td>\n",
       "      <td>1333.0</td>\n",
       "      <td>0.115759</td>\n",
       "      <td>0.763897</td>\n",
       "    </tr>\n",
       "    <tr>\n",
       "      <th>2</th>\n",
       "      <td>206</td>\n",
       "      <td>0.000000</td>\n",
       "      <td>0.0</td>\n",
       "      <td>313.0</td>\n",
       "      <td>0.000000</td>\n",
       "      <td>1.000000</td>\n",
       "      <td>206.0</td>\n",
       "      <td>1539.0</td>\n",
       "      <td>0.118052</td>\n",
       "      <td>0.881948</td>\n",
       "    </tr>\n",
       "    <tr>\n",
       "      <th>1</th>\n",
       "      <td>206</td>\n",
       "      <td>0.000000</td>\n",
       "      <td>0.0</td>\n",
       "      <td>313.0</td>\n",
       "      <td>0.000000</td>\n",
       "      <td>1.000000</td>\n",
       "      <td>206.0</td>\n",
       "      <td>1745.0</td>\n",
       "      <td>0.118052</td>\n",
       "      <td>1.000000</td>\n",
       "    </tr>\n",
       "  </tbody>\n",
       "</table>\n",
       "</div>"
      ],
      "text/plain": [
       "           count  Actual_event_rate  N_events  cum_events  event_cap  \\\n",
       "Prob_Rank                                                              \n",
       "10           206           0.689320     142.0       142.0   0.453674   \n",
       "9            206           0.383495      79.0       221.0   0.252396   \n",
       "8            206           0.184466      38.0       259.0   0.121406   \n",
       "7            205           0.121951      25.0       284.0   0.079872   \n",
       "6            206           0.077670      16.0       300.0   0.051118   \n",
       "5            206           0.033981       7.0       307.0   0.022364   \n",
       "4            205           0.009756       2.0       309.0   0.006390   \n",
       "3            206           0.019417       4.0       313.0   0.012780   \n",
       "2            206           0.000000       0.0       313.0   0.000000   \n",
       "1            206           0.000000       0.0       313.0   0.000000   \n",
       "\n",
       "           cum_event_cap  N_non_events  cum_non_events  non_event_cap  \\\n",
       "Prob_Rank                                                               \n",
       "10              0.453674          64.0            64.0       0.036676   \n",
       "9               0.706070         127.0           191.0       0.072779   \n",
       "8               0.827476         168.0           359.0       0.096275   \n",
       "7               0.907348         180.0           539.0       0.103152   \n",
       "6               0.958466         190.0           729.0       0.108883   \n",
       "5               0.980831         199.0           928.0       0.114040   \n",
       "4               0.987220         203.0          1131.0       0.116332   \n",
       "3               1.000000         202.0          1333.0       0.115759   \n",
       "2               1.000000         206.0          1539.0       0.118052   \n",
       "1               1.000000         206.0          1745.0       0.118052   \n",
       "\n",
       "           cum_non_event_cap  \n",
       "Prob_Rank                     \n",
       "10                  0.036676  \n",
       "9                   0.109456  \n",
       "8                   0.205731  \n",
       "7                   0.308883  \n",
       "6                   0.417765  \n",
       "5                   0.531805  \n",
       "4                   0.648138  \n",
       "3                   0.763897  \n",
       "2                   0.881948  \n",
       "1                   1.000000  "
      ]
     },
     "execution_count": 12,
     "metadata": {},
     "output_type": "execute_result"
    }
   ],
   "source": [
    "rank_df['N_non_events']=rank_df['count']-rank_df['N_events']\n",
    "rank_df['cum_non_events']=rank_df['N_non_events'].cumsum()\n",
    "rank_df['non_event_cap']=rank_df['N_non_events']/max(rank_df['N_non_events'].cumsum())\n",
    "rank_df['cum_non_event_cap']=rank_df['non_event_cap'].cumsum()\n",
    "rank_df"
   ]
  },
  {
   "cell_type": "markdown",
   "metadata": {},
   "source": [
    "## 5  Calculate KS Statistic, Lift Over Average, and Baseline Event Rate"
   ]
  },
  {
   "cell_type": "code",
   "execution_count": 13,
   "metadata": {},
   "outputs": [],
   "source": [
    "rank_df['KS']=round((rank_df['cum_event_cap']-rank_df['cum_non_event_cap']),4)\n",
    "rank_df['Baseline_Event_Rate']=(max(rank_df['cum_events'])/max(rank_df['count'].cumsum()))\n",
    "rank_df['Lift_over_Avg']=rank_df['Actual_event_rate']/rank_df['Baseline_Event_Rate']\n"
   ]
  },
  {
   "cell_type": "markdown",
   "metadata": {},
   "source": [
    "## 6 Create Deciles (from 1 to 10)"
   ]
  },
  {
   "cell_type": "code",
   "execution_count": 14,
   "metadata": {},
   "outputs": [
    {
     "data": {
      "text/html": [
       "<div>\n",
       "<style scoped>\n",
       "    .dataframe tbody tr th:only-of-type {\n",
       "        vertical-align: middle;\n",
       "    }\n",
       "\n",
       "    .dataframe tbody tr th {\n",
       "        vertical-align: top;\n",
       "    }\n",
       "\n",
       "    .dataframe thead th {\n",
       "        text-align: right;\n",
       "    }\n",
       "</style>\n",
       "<table border=\"1\" class=\"dataframe\">\n",
       "  <thead>\n",
       "    <tr style=\"text-align: right;\">\n",
       "      <th></th>\n",
       "      <th>Prob_Rank</th>\n",
       "      <th>count</th>\n",
       "      <th>Actual_event_rate</th>\n",
       "      <th>N_events</th>\n",
       "      <th>cum_events</th>\n",
       "      <th>event_cap</th>\n",
       "      <th>cum_event_cap</th>\n",
       "      <th>N_non_events</th>\n",
       "      <th>cum_non_events</th>\n",
       "      <th>non_event_cap</th>\n",
       "      <th>cum_non_event_cap</th>\n",
       "      <th>KS</th>\n",
       "      <th>Baseline_Event_Rate</th>\n",
       "      <th>Lift_over_Avg</th>\n",
       "      <th>Decile</th>\n",
       "    </tr>\n",
       "  </thead>\n",
       "  <tbody>\n",
       "    <tr>\n",
       "      <th>0</th>\n",
       "      <td>10</td>\n",
       "      <td>206</td>\n",
       "      <td>0.689320</td>\n",
       "      <td>142.0</td>\n",
       "      <td>142.0</td>\n",
       "      <td>0.453674</td>\n",
       "      <td>0.453674</td>\n",
       "      <td>64.0</td>\n",
       "      <td>64.0</td>\n",
       "      <td>0.036676</td>\n",
       "      <td>0.036676</td>\n",
       "      <td>0.4170</td>\n",
       "      <td>0.152089</td>\n",
       "      <td>4.532337</td>\n",
       "      <td>1</td>\n",
       "    </tr>\n",
       "    <tr>\n",
       "      <th>1</th>\n",
       "      <td>9</td>\n",
       "      <td>206</td>\n",
       "      <td>0.383495</td>\n",
       "      <td>79.0</td>\n",
       "      <td>221.0</td>\n",
       "      <td>0.252396</td>\n",
       "      <td>0.706070</td>\n",
       "      <td>127.0</td>\n",
       "      <td>191.0</td>\n",
       "      <td>0.072779</td>\n",
       "      <td>0.109456</td>\n",
       "      <td>0.5966</td>\n",
       "      <td>0.152089</td>\n",
       "      <td>2.521511</td>\n",
       "      <td>2</td>\n",
       "    </tr>\n",
       "    <tr>\n",
       "      <th>2</th>\n",
       "      <td>8</td>\n",
       "      <td>206</td>\n",
       "      <td>0.184466</td>\n",
       "      <td>38.0</td>\n",
       "      <td>259.0</td>\n",
       "      <td>0.121406</td>\n",
       "      <td>0.827476</td>\n",
       "      <td>168.0</td>\n",
       "      <td>359.0</td>\n",
       "      <td>0.096275</td>\n",
       "      <td>0.205731</td>\n",
       "      <td>0.6217</td>\n",
       "      <td>0.152089</td>\n",
       "      <td>1.212879</td>\n",
       "      <td>3</td>\n",
       "    </tr>\n",
       "    <tr>\n",
       "      <th>3</th>\n",
       "      <td>7</td>\n",
       "      <td>205</td>\n",
       "      <td>0.121951</td>\n",
       "      <td>25.0</td>\n",
       "      <td>284.0</td>\n",
       "      <td>0.079872</td>\n",
       "      <td>0.907348</td>\n",
       "      <td>180.0</td>\n",
       "      <td>539.0</td>\n",
       "      <td>0.103152</td>\n",
       "      <td>0.308883</td>\n",
       "      <td>0.5985</td>\n",
       "      <td>0.152089</td>\n",
       "      <td>0.801839</td>\n",
       "      <td>4</td>\n",
       "    </tr>\n",
       "    <tr>\n",
       "      <th>4</th>\n",
       "      <td>6</td>\n",
       "      <td>206</td>\n",
       "      <td>0.077670</td>\n",
       "      <td>16.0</td>\n",
       "      <td>300.0</td>\n",
       "      <td>0.051118</td>\n",
       "      <td>0.958466</td>\n",
       "      <td>190.0</td>\n",
       "      <td>729.0</td>\n",
       "      <td>0.108883</td>\n",
       "      <td>0.417765</td>\n",
       "      <td>0.5407</td>\n",
       "      <td>0.152089</td>\n",
       "      <td>0.510686</td>\n",
       "      <td>5</td>\n",
       "    </tr>\n",
       "    <tr>\n",
       "      <th>5</th>\n",
       "      <td>5</td>\n",
       "      <td>206</td>\n",
       "      <td>0.033981</td>\n",
       "      <td>7.0</td>\n",
       "      <td>307.0</td>\n",
       "      <td>0.022364</td>\n",
       "      <td>0.980831</td>\n",
       "      <td>199.0</td>\n",
       "      <td>928.0</td>\n",
       "      <td>0.114040</td>\n",
       "      <td>0.531805</td>\n",
       "      <td>0.4490</td>\n",
       "      <td>0.152089</td>\n",
       "      <td>0.223425</td>\n",
       "      <td>6</td>\n",
       "    </tr>\n",
       "    <tr>\n",
       "      <th>6</th>\n",
       "      <td>4</td>\n",
       "      <td>205</td>\n",
       "      <td>0.009756</td>\n",
       "      <td>2.0</td>\n",
       "      <td>309.0</td>\n",
       "      <td>0.006390</td>\n",
       "      <td>0.987220</td>\n",
       "      <td>203.0</td>\n",
       "      <td>1131.0</td>\n",
       "      <td>0.116332</td>\n",
       "      <td>0.648138</td>\n",
       "      <td>0.3391</td>\n",
       "      <td>0.152089</td>\n",
       "      <td>0.064147</td>\n",
       "      <td>7</td>\n",
       "    </tr>\n",
       "    <tr>\n",
       "      <th>7</th>\n",
       "      <td>3</td>\n",
       "      <td>206</td>\n",
       "      <td>0.019417</td>\n",
       "      <td>4.0</td>\n",
       "      <td>313.0</td>\n",
       "      <td>0.012780</td>\n",
       "      <td>1.000000</td>\n",
       "      <td>202.0</td>\n",
       "      <td>1333.0</td>\n",
       "      <td>0.115759</td>\n",
       "      <td>0.763897</td>\n",
       "      <td>0.2361</td>\n",
       "      <td>0.152089</td>\n",
       "      <td>0.127671</td>\n",
       "      <td>8</td>\n",
       "    </tr>\n",
       "    <tr>\n",
       "      <th>8</th>\n",
       "      <td>2</td>\n",
       "      <td>206</td>\n",
       "      <td>0.000000</td>\n",
       "      <td>0.0</td>\n",
       "      <td>313.0</td>\n",
       "      <td>0.000000</td>\n",
       "      <td>1.000000</td>\n",
       "      <td>206.0</td>\n",
       "      <td>1539.0</td>\n",
       "      <td>0.118052</td>\n",
       "      <td>0.881948</td>\n",
       "      <td>0.1181</td>\n",
       "      <td>0.152089</td>\n",
       "      <td>0.000000</td>\n",
       "      <td>9</td>\n",
       "    </tr>\n",
       "    <tr>\n",
       "      <th>9</th>\n",
       "      <td>1</td>\n",
       "      <td>206</td>\n",
       "      <td>0.000000</td>\n",
       "      <td>0.0</td>\n",
       "      <td>313.0</td>\n",
       "      <td>0.000000</td>\n",
       "      <td>1.000000</td>\n",
       "      <td>206.0</td>\n",
       "      <td>1745.0</td>\n",
       "      <td>0.118052</td>\n",
       "      <td>1.000000</td>\n",
       "      <td>-0.0000</td>\n",
       "      <td>0.152089</td>\n",
       "      <td>0.000000</td>\n",
       "      <td>10</td>\n",
       "    </tr>\n",
       "  </tbody>\n",
       "</table>\n",
       "</div>"
      ],
      "text/plain": [
       "   Prob_Rank  count  Actual_event_rate  N_events  cum_events  event_cap  \\\n",
       "0         10    206           0.689320     142.0       142.0   0.453674   \n",
       "1          9    206           0.383495      79.0       221.0   0.252396   \n",
       "2          8    206           0.184466      38.0       259.0   0.121406   \n",
       "3          7    205           0.121951      25.0       284.0   0.079872   \n",
       "4          6    206           0.077670      16.0       300.0   0.051118   \n",
       "5          5    206           0.033981       7.0       307.0   0.022364   \n",
       "6          4    205           0.009756       2.0       309.0   0.006390   \n",
       "7          3    206           0.019417       4.0       313.0   0.012780   \n",
       "8          2    206           0.000000       0.0       313.0   0.000000   \n",
       "9          1    206           0.000000       0.0       313.0   0.000000   \n",
       "\n",
       "   cum_event_cap  N_non_events  cum_non_events  non_event_cap  \\\n",
       "0       0.453674          64.0            64.0       0.036676   \n",
       "1       0.706070         127.0           191.0       0.072779   \n",
       "2       0.827476         168.0           359.0       0.096275   \n",
       "3       0.907348         180.0           539.0       0.103152   \n",
       "4       0.958466         190.0           729.0       0.108883   \n",
       "5       0.980831         199.0           928.0       0.114040   \n",
       "6       0.987220         203.0          1131.0       0.116332   \n",
       "7       1.000000         202.0          1333.0       0.115759   \n",
       "8       1.000000         206.0          1539.0       0.118052   \n",
       "9       1.000000         206.0          1745.0       0.118052   \n",
       "\n",
       "   cum_non_event_cap      KS  Baseline_Event_Rate  Lift_over_Avg  Decile  \n",
       "0           0.036676  0.4170             0.152089       4.532337       1  \n",
       "1           0.109456  0.5966             0.152089       2.521511       2  \n",
       "2           0.205731  0.6217             0.152089       1.212879       3  \n",
       "3           0.308883  0.5985             0.152089       0.801839       4  \n",
       "4           0.417765  0.5407             0.152089       0.510686       5  \n",
       "5           0.531805  0.4490             0.152089       0.223425       6  \n",
       "6           0.648138  0.3391             0.152089       0.064147       7  \n",
       "7           0.763897  0.2361             0.152089       0.127671       8  \n",
       "8           0.881948  0.1181             0.152089       0.000000       9  \n",
       "9           1.000000 -0.0000             0.152089       0.000000      10  "
      ]
     },
     "execution_count": 14,
     "metadata": {},
     "output_type": "execute_result"
    }
   ],
   "source": [
    "rank_df=rank_df.reset_index()\n",
    "rank_df['Decile']=rank_df.index+1\n",
    "rank_df"
   ]
  },
  {
   "cell_type": "markdown",
   "metadata": {},
   "source": [
    "## 7 Visualization\n",
    "\n",
    "## Rank Ordering Chart"
   ]
  },
  {
   "cell_type": "code",
   "execution_count": 15,
   "metadata": {},
   "outputs": [
    {
     "data": {
      "image/png": "[encoded data removed]",
      "text/plain": [
       "<Figure size 432x288 with 1 Axes>"
      ]
     },
     "metadata": {},
     "output_type": "display_data"
    }
   ],
   "source": [
    "ax = sns.lineplot(x=\"Decile\", y=\"Actual_event_rate\", data=rank_df,color='green').set_title('Rank Ordering Chart')\n",
    "ax = sns.scatterplot( x=\"Decile\", y=\"Baseline_Event_Rate\", data=rank_df,color='red')\n",
    "ax.legend(['Actual_event_rate', 'Baseline_Event_Rate'])\n",
    "plt.show()"
   ]
  },
  {
   "cell_type": "markdown",
   "metadata": {},
   "source": [
    "## 8  The Lift Chart"
   ]
  },
  {
   "cell_type": "code",
   "execution_count": 16,
   "metadata": {},
   "outputs": [
    {
     "data": {
      "image/png": "[encoded data removed]",
      "text/plain": [
       "<Figure size 432x288 with 1 Axes>"
      ]
     },
     "metadata": {},
     "output_type": "display_data"
    }
   ],
   "source": [
    "ax = sns.barplot( x=\"Decile\", y=\"Lift_over_Avg\", data=rank_df,color='green').set_title('Lift Chart')"
   ]
  },
  {
   "cell_type": "markdown",
   "metadata": {},
   "source": [
    "## 9  The Gains Chart (Lorenz Curve)"
   ]
  },
  {
   "cell_type": "code",
   "execution_count": 17,
   "metadata": {
    "scrolled": true
   },
   "outputs": [
    {
     "data": {
      "image/png": "[encoded data removed]",
      "text/plain": [
       "<Figure size 432x288 with 1 Axes>"
      ]
     },
     "metadata": {},
     "output_type": "display_data"
    }
   ],
   "source": [
    "ax = sns.lineplot( x=\"Decile\", y=\"cum_event_cap\", data=rank_df,color='blue').set_title('Gains Chart')\n",
    "ax = sns.lineplot( x=\"Decile\", y=\"cum_non_event_cap\", data=rank_df,color='darkorange')\n",
    "ax.legend(['cum_event_cap', 'cum_non_event_cap'])\n",
    "plt.show()"
   ]
  },
  {
   "cell_type": "markdown",
   "metadata": {},
   "source": [
    "--------------------------------------------------------------------------------------------------------------------------------"
   ]
  },
  {
   "cell_type": "markdown",
   "metadata": {},
   "source": [
    "# 3 Steps to Boost Marketing Campaign "
   ]
  },
  {
   "cell_type": "markdown",
   "metadata": {},
   "source": [
    "## Step 1: Find the Target Audience\n",
    "\n",
    "### From our earlier Decile analysis, we can see that the customers with higher repsonse rate are in the first and second decile. So the first two decile, make the top 20% of customers that are, most likely to generate high percentage of overall revenue. Hence focusing on them should be a top priority."
   ]
  },
  {
   "cell_type": "code",
   "execution_count": 18,
   "metadata": {},
   "outputs": [
    {
     "data": {
      "text/plain": [
       "Bottom 8    1646\n",
       "Top 2        412\n",
       "Name: Predicted_Rank, dtype: int64"
      ]
     },
     "execution_count": 18,
     "metadata": {},
     "output_type": "execute_result"
    }
   ],
   "source": [
    "df['Predicted_Rank']=np.where(df['Prob_Rank']>=9,\"Top 2\",\"Bottom 8\")\n",
    "df['Predicted_Rank'].value_counts()"
   ]
  },
  {
   "cell_type": "code",
   "execution_count": 19,
   "metadata": {},
   "outputs": [
    {
     "data": {
      "text/plain": [
       "(412, 32)"
      ]
     },
     "execution_count": 19,
     "metadata": {},
     "output_type": "execute_result"
    }
   ],
   "source": [
    "df_top2=df.loc[df['Predicted_Rank']==\"Top 2\",:]\n",
    "df_top2.shape"
   ]
  },
  {
   "cell_type": "code",
   "execution_count": 20,
   "metadata": {},
   "outputs": [
    {
     "data": {
      "text/plain": [
       "1    221\n",
       "0    191\n",
       "Name: Response, dtype: int64"
      ]
     },
     "execution_count": 20,
     "metadata": {},
     "output_type": "execute_result"
    }
   ],
   "source": [
    "df_top2['Response'].value_counts()"
   ]
  },
  {
   "cell_type": "code",
   "execution_count": 21,
   "metadata": {},
   "outputs": [
    {
     "name": "stdout",
     "output_type": "stream",
     "text": [
      "The response rate in the top 2 decile is 54 %\n"
     ]
    }
   ],
   "source": [
    "response_rate = 221/412 # response rate in top 2 deciles\n",
    "print(\"The response rate in the top 2 decile is\", int(round(response_rate*100, 0)),\"%\")"
   ]
  },
  {
   "cell_type": "code",
   "execution_count": 22,
   "metadata": {},
   "outputs": [
    {
     "data": {
      "text/plain": [
       "Response    3.526923\n",
       "dtype: float64"
      ]
     },
     "execution_count": 22,
     "metadata": {},
     "output_type": "execute_result"
    }
   ],
   "source": [
    "0.5364077/Y.mean() \n",
    "# 3.5% higher response rate, 80% reduction in marketing cost"
   ]
  },
  {
   "cell_type": "markdown",
   "metadata": {},
   "source": [
    "## Step 2: Segmentation of target audience \n",
    "\n",
    "### Customer Segementation is based on the campaign 'Response' for Recency(R), Frequency(F), and Monetary value(M) of the top 2 deciles.\n",
    "\n",
    "### NOTE: We do not use RFM Analysis in the traditional way of setting scores and finding RFM score for each customer. Instead we use these 3 features for prioritization of target audience.\n",
    "\n",
    "#### What is RFM?\n",
    "   - RFM stands for Receny, Frequency, and Monetary value. RFM is a method used to analyze customer value. \n",
    "\n",
    "   - Receny: How recently did the customer purchase? or How much time has elapsed since a customer’s last activity or                        transaction with the brand?\n",
    "\n",
    "   - Frequency: How often do they visit or how often do they purchase?\n",
    "\n",
    "   - Monetary value: How much revenue we get from their visit or how much do they spend when they purchase?\n",
    "   \n",
    "   - customer segmentation, it helps marketers, to find, the best customers and customers that are most likely to respond to          campaigns\n",
    "   \n",
    "   \n",
    "#### Why RFM?\n",
    "   - From our best model, we know that, \"Recency\" is a important feature. And customers with most recent purchase, may show more      response towards promotions.\n",
    "   \n",
    "   - More \"frequently\" the customer buys, the more engaged and satisfied they are.\n",
    "   \n",
    "   - The \"Monetary\" value differentiates heavy spenders from low spenders. \n",
    "  \n",
    "  "
   ]
  },
  {
   "cell_type": "markdown",
   "metadata": {},
   "source": [
    "## Frequency\n",
    "- The **engagement** of the customers are segmented by the following **quantile values**\n",
    "   - 0 - 75 : Low engagement\n",
    "   - 76 - 100 : High engagement"
   ]
  },
  {
   "cell_type": "code",
   "execution_count": 23,
   "metadata": {},
   "outputs": [
    {
     "data": {
      "text/plain": [
       "count    412.00000\n",
       "mean      15.92233\n",
       "std        6.93198\n",
       "min        1.00000\n",
       "25%       11.00000\n",
       "50%       17.00000\n",
       "75%       21.00000\n",
       "max       32.00000\n",
       "Name: Total_Purchases, dtype: float64"
      ]
     },
     "execution_count": 23,
     "metadata": {},
     "output_type": "execute_result"
    }
   ],
   "source": [
    "# To find the total number of purchases made by a customer\n",
    "df_top2['Total_Purchases'] = df_top2[['NumWebPurchases','NumCatalogPurchases','NumStorePurchases']].sum(axis=1)\n",
    "df_top2['Total_Purchases'].describe()"
   ]
  },
  {
   "cell_type": "code",
   "execution_count": 24,
   "metadata": {},
   "outputs": [],
   "source": [
    "df_top2['Engagement']=np.where(df_top2['Total_Purchases']<df_top2['Total_Purchases'].quantile(0.75),\"Low\",\"High\")"
   ]
  },
  {
   "cell_type": "markdown",
   "metadata": {},
   "source": [
    "## Recency\n",
    "- The recency of the customers are segmented by the following **quantile values**\n",
    "   - 0 - 75 : Least recent customers\n",
    "   - 76 - 100 : Most recent customers"
   ]
  },
  {
   "cell_type": "code",
   "execution_count": 25,
   "metadata": {},
   "outputs": [],
   "source": [
    "df_top2['Recent']=np.where(df_top2['Recency']<df_top2['Recency'].quantile(0.75),\"Least\",\"Most\") "
   ]
  },
  {
   "cell_type": "code",
   "execution_count": 26,
   "metadata": {},
   "outputs": [
    {
     "data": {
      "text/html": [
       "<div>\n",
       "<style scoped>\n",
       "    .dataframe tbody tr th:only-of-type {\n",
       "        vertical-align: middle;\n",
       "    }\n",
       "\n",
       "    .dataframe tbody tr th {\n",
       "        vertical-align: top;\n",
       "    }\n",
       "\n",
       "    .dataframe thead th {\n",
       "        text-align: right;\n",
       "    }\n",
       "</style>\n",
       "<table border=\"1\" class=\"dataframe\">\n",
       "  <thead>\n",
       "    <tr style=\"text-align: right;\">\n",
       "      <th>Recent</th>\n",
       "      <th>Least</th>\n",
       "      <th>Most</th>\n",
       "    </tr>\n",
       "    <tr>\n",
       "      <th>Engagement</th>\n",
       "      <th></th>\n",
       "      <th></th>\n",
       "    </tr>\n",
       "  </thead>\n",
       "  <tbody>\n",
       "    <tr>\n",
       "      <th>High</th>\n",
       "      <td>0.520548</td>\n",
       "      <td>0.641026</td>\n",
       "    </tr>\n",
       "    <tr>\n",
       "      <th>Low</th>\n",
       "      <td>0.521186</td>\n",
       "      <td>0.546875</td>\n",
       "    </tr>\n",
       "  </tbody>\n",
       "</table>\n",
       "</div>"
      ],
      "text/plain": [
       "Recent         Least      Most\n",
       "Engagement                    \n",
       "High        0.520548  0.641026\n",
       "Low         0.521186  0.546875"
      ]
     },
     "execution_count": 26,
     "metadata": {},
     "output_type": "execute_result"
    }
   ],
   "source": [
    "pd.crosstab(index=df_top2['Engagement'], columns=df_top2['Recent'],values=df_top2['Response'],aggfunc='mean')"
   ]
  },
  {
   "cell_type": "markdown",
   "metadata": {},
   "source": [
    "## Monetary Value\n",
    "- The monetary of the customers are segmented by the following **quantile values**\n",
    "   - 0 - 75 : High spend \n",
    "   - 76 - 100 : Low spend"
   ]
  },
  {
   "cell_type": "code",
   "execution_count": 27,
   "metadata": {},
   "outputs": [
    {
     "data": {
      "text/plain": [
       "count     412.000000\n",
       "mean     1018.242718\n",
       "std       707.969891\n",
       "min        12.000000\n",
       "25%       356.250000\n",
       "50%      1085.000000\n",
       "75%      1659.000000\n",
       "max      2525.000000\n",
       "Name: Total_Spend, dtype: float64"
      ]
     },
     "execution_count": 27,
     "metadata": {},
     "output_type": "execute_result"
    }
   ],
   "source": [
    "# To find the total amount spend by each customer\n",
    "df_top2['Total_Spend']=df_top2[['MntWines', 'MntFruits', 'MntMeatProducts', 'MntFishProducts', 'MntSweetProducts', 'MntGoldProds']].sum(axis=1)\n",
    "df_top2['Total_Spend'].describe()"
   ]
  },
  {
   "cell_type": "code",
   "execution_count": 28,
   "metadata": {},
   "outputs": [
    {
     "data": {
      "text/plain": [
       "Low     309\n",
       "High    103\n",
       "Name: spend_level, dtype: int64"
      ]
     },
     "execution_count": 28,
     "metadata": {},
     "output_type": "execute_result"
    }
   ],
   "source": [
    "df_top2['spend_level']=np.where(df_top2['Total_Spend']<df_top2['Total_Spend'].quantile(0.75),\"Low\",\"High\")\n",
    "df_top2['spend_level'].value_counts()"
   ]
  },
  {
   "cell_type": "code",
   "execution_count": 29,
   "metadata": {},
   "outputs": [
    {
     "data": {
      "text/html": [
       "<div>\n",
       "<style scoped>\n",
       "    .dataframe tbody tr th:only-of-type {\n",
       "        vertical-align: middle;\n",
       "    }\n",
       "\n",
       "    .dataframe tbody tr th {\n",
       "        vertical-align: top;\n",
       "    }\n",
       "\n",
       "    .dataframe thead th {\n",
       "        text-align: right;\n",
       "    }\n",
       "</style>\n",
       "<table border=\"1\" class=\"dataframe\">\n",
       "  <thead>\n",
       "    <tr style=\"text-align: right;\">\n",
       "      <th>Engagement</th>\n",
       "      <th>High</th>\n",
       "      <th>Low</th>\n",
       "    </tr>\n",
       "    <tr>\n",
       "      <th>spend_level</th>\n",
       "      <th></th>\n",
       "      <th></th>\n",
       "    </tr>\n",
       "  </thead>\n",
       "  <tbody>\n",
       "    <tr>\n",
       "      <th>High</th>\n",
       "      <td>0.651163</td>\n",
       "      <td>0.633333</td>\n",
       "    </tr>\n",
       "    <tr>\n",
       "      <th>Low</th>\n",
       "      <td>0.507246</td>\n",
       "      <td>0.500000</td>\n",
       "    </tr>\n",
       "  </tbody>\n",
       "</table>\n",
       "</div>"
      ],
      "text/plain": [
       "Engagement       High       Low\n",
       "spend_level                    \n",
       "High         0.651163  0.633333\n",
       "Low          0.507246  0.500000"
      ]
     },
     "execution_count": 29,
     "metadata": {},
     "output_type": "execute_result"
    }
   ],
   "source": [
    "pd.crosstab(index=df_top2['spend_level'], columns=df_top2['Engagement'],values=df_top2['Response'],aggfunc='mean')"
   ]
  },
  {
   "cell_type": "code",
   "execution_count": 30,
   "metadata": {},
   "outputs": [
    {
     "data": {
      "text/html": [
       "<div>\n",
       "<style scoped>\n",
       "    .dataframe tbody tr th:only-of-type {\n",
       "        vertical-align: middle;\n",
       "    }\n",
       "\n",
       "    .dataframe tbody tr th {\n",
       "        vertical-align: top;\n",
       "    }\n",
       "\n",
       "    .dataframe thead th {\n",
       "        text-align: right;\n",
       "    }\n",
       "</style>\n",
       "<table border=\"1\" class=\"dataframe\">\n",
       "  <thead>\n",
       "    <tr style=\"text-align: right;\">\n",
       "      <th>Recent</th>\n",
       "      <th>Least</th>\n",
       "      <th>Most</th>\n",
       "    </tr>\n",
       "    <tr>\n",
       "      <th>spend_level</th>\n",
       "      <th></th>\n",
       "      <th></th>\n",
       "    </tr>\n",
       "  </thead>\n",
       "  <tbody>\n",
       "    <tr>\n",
       "      <th>High</th>\n",
       "      <td>0.614286</td>\n",
       "      <td>0.696970</td>\n",
       "    </tr>\n",
       "    <tr>\n",
       "      <th>Low</th>\n",
       "      <td>0.493724</td>\n",
       "      <td>0.528571</td>\n",
       "    </tr>\n",
       "  </tbody>\n",
       "</table>\n",
       "</div>"
      ],
      "text/plain": [
       "Recent          Least      Most\n",
       "spend_level                    \n",
       "High         0.614286  0.696970\n",
       "Low          0.493724  0.528571"
      ]
     },
     "execution_count": 30,
     "metadata": {},
     "output_type": "execute_result"
    }
   ],
   "source": [
    "pd.crosstab(index=df_top2['spend_level'], columns=df_top2['Recent'],values=df_top2['Response'],aggfunc='mean')"
   ]
  },
  {
   "cell_type": "markdown",
   "metadata": {},
   "source": [
    "## Segmentation\n",
    "### The customers are segmented based on the response rate in each segment. "
   ]
  },
  {
   "cell_type": "code",
   "execution_count": 31,
   "metadata": {
    "scrolled": true
   },
   "outputs": [
    {
     "data": {
      "text/html": [
       "<div>\n",
       "<style scoped>\n",
       "    .dataframe tbody tr th:only-of-type {\n",
       "        vertical-align: middle;\n",
       "    }\n",
       "\n",
       "    .dataframe tbody tr th {\n",
       "        vertical-align: top;\n",
       "    }\n",
       "\n",
       "    .dataframe thead tr th {\n",
       "        text-align: left;\n",
       "    }\n",
       "\n",
       "    .dataframe thead tr:last-of-type th {\n",
       "        text-align: right;\n",
       "    }\n",
       "</style>\n",
       "<table border=\"1\" class=\"dataframe\">\n",
       "  <thead>\n",
       "    <tr>\n",
       "      <th>Engagement</th>\n",
       "      <th colspan=\"2\" halign=\"left\">High</th>\n",
       "      <th colspan=\"2\" halign=\"left\">Low</th>\n",
       "    </tr>\n",
       "    <tr>\n",
       "      <th>Recent</th>\n",
       "      <th>Least</th>\n",
       "      <th>Most</th>\n",
       "      <th>Least</th>\n",
       "      <th>Most</th>\n",
       "    </tr>\n",
       "    <tr>\n",
       "      <th>spend</th>\n",
       "      <th></th>\n",
       "      <th></th>\n",
       "      <th></th>\n",
       "      <th></th>\n",
       "    </tr>\n",
       "  </thead>\n",
       "  <tbody>\n",
       "    <tr>\n",
       "      <th>High</th>\n",
       "      <td>0.612903</td>\n",
       "      <td>0.750000</td>\n",
       "      <td>0.615385</td>\n",
       "      <td>0.666667</td>\n",
       "    </tr>\n",
       "    <tr>\n",
       "      <th>Low</th>\n",
       "      <td>0.452381</td>\n",
       "      <td>0.592593</td>\n",
       "      <td>0.502538</td>\n",
       "      <td>0.488372</td>\n",
       "    </tr>\n",
       "  </tbody>\n",
       "</table>\n",
       "</div>"
      ],
      "text/plain": [
       "Engagement      High                 Low          \n",
       "Recent         Least      Most     Least      Most\n",
       "spend                                             \n",
       "High        0.612903  0.750000  0.615385  0.666667\n",
       "Low         0.452381  0.592593  0.502538  0.488372"
      ]
     },
     "execution_count": 31,
     "metadata": {},
     "output_type": "execute_result"
    }
   ],
   "source": [
    "customer_segment = pd.crosstab(df_top2['spend_level'],[df_top2['Engagement'],df_top2['Recent']], rownames=['spend'], colnames=['Engagement', 'Recent'],values=df_top2['Response'],aggfunc='mean')\n",
    "customer_segment"
   ]
  },
  {
   "cell_type": "code",
   "execution_count": 32,
   "metadata": {},
   "outputs": [
    {
     "data": {
      "image/png": "[encoded data removed]",
      "text/plain": [
       "<Figure size 432x288 with 2 Axes>"
      ]
     },
     "metadata": {},
     "output_type": "display_data"
    }
   ],
   "source": [
    "sns.heatmap(customer_segment, annot=True, cmap='viridis')\n",
    "plt.title(\"Response Rate of Segemented Customers\")\n",
    "plt.show()"
   ]
  },
  {
   "cell_type": "markdown",
   "metadata": {},
   "source": [
    "### <font color='blue'>NOTE: Irrespective of different features associated with 'Spend', the high spenders show higher reponse rate.</font>"
   ]
  },
  {
   "cell_type": "code",
   "execution_count": 33,
   "metadata": {
    "scrolled": false
   },
   "outputs": [
    {
     "data": {
      "text/html": [
       "<div>\n",
       "<style scoped>\n",
       "    .dataframe tbody tr th:only-of-type {\n",
       "        vertical-align: middle;\n",
       "    }\n",
       "\n",
       "    .dataframe tbody tr th {\n",
       "        vertical-align: top;\n",
       "    }\n",
       "\n",
       "    .dataframe thead tr th {\n",
       "        text-align: left;\n",
       "    }\n",
       "\n",
       "    .dataframe thead tr:last-of-type th {\n",
       "        text-align: right;\n",
       "    }\n",
       "</style>\n",
       "<table border=\"1\" class=\"dataframe\">\n",
       "  <thead>\n",
       "    <tr>\n",
       "      <th>Engagement</th>\n",
       "      <th colspan=\"2\" halign=\"left\">High</th>\n",
       "      <th colspan=\"2\" halign=\"left\">Low</th>\n",
       "    </tr>\n",
       "    <tr>\n",
       "      <th>Recent</th>\n",
       "      <th>Least</th>\n",
       "      <th>Most</th>\n",
       "      <th>Least</th>\n",
       "      <th>Most</th>\n",
       "    </tr>\n",
       "    <tr>\n",
       "      <th>spend</th>\n",
       "      <th></th>\n",
       "      <th></th>\n",
       "      <th></th>\n",
       "      <th></th>\n",
       "    </tr>\n",
       "  </thead>\n",
       "  <tbody>\n",
       "    <tr>\n",
       "      <th>High</th>\n",
       "      <td>31</td>\n",
       "      <td>12</td>\n",
       "      <td>39</td>\n",
       "      <td>21</td>\n",
       "    </tr>\n",
       "    <tr>\n",
       "      <th>Low</th>\n",
       "      <td>42</td>\n",
       "      <td>27</td>\n",
       "      <td>197</td>\n",
       "      <td>43</td>\n",
       "    </tr>\n",
       "  </tbody>\n",
       "</table>\n",
       "</div>"
      ],
      "text/plain": [
       "Engagement  High        Low     \n",
       "Recent     Least Most Least Most\n",
       "spend                           \n",
       "High          31   12    39   21\n",
       "Low           42   27   197   43"
      ]
     },
     "execution_count": 33,
     "metadata": {},
     "output_type": "execute_result"
    }
   ],
   "source": [
    "pd.crosstab(df_top2['spend_level'],[df_top2['Engagement'],df_top2['Recent']], rownames=['spend'], colnames=['Engagement', 'Recent'],values=df_top2['Response'], aggfunc='count')"
   ]
  },
  {
   "cell_type": "markdown",
   "metadata": {},
   "source": [
    "### Prioritization \n",
    "\n",
    "### The best 20% of customers are divided into different groups. The segment with highest  response rate is given the first priority and the lowest response rate is given the last priority.\n"
   ]
  },
  {
   "cell_type": "markdown",
   "metadata": {},
   "source": [
    "### High Spenders "
   ]
  },
  {
   "cell_type": "code",
   "execution_count": 34,
   "metadata": {},
   "outputs": [
    {
     "data": {
      "text/plain": [
       "(12, 37)"
      ]
     },
     "execution_count": 34,
     "metadata": {},
     "output_type": "execute_result"
    }
   ],
   "source": [
    "# 1st Priority customers - High Spenders, High Engagement, Most Recent\n",
    "priority_1_df = df_top2.loc[(df_top2['spend_level']=='High') & (df_top2['Engagement']=='High') & (df_top2['Recent']=='Most')]\n",
    "priority_1_df.shape"
   ]
  },
  {
   "cell_type": "code",
   "execution_count": 35,
   "metadata": {},
   "outputs": [
    {
     "data": {
      "text/plain": [
       "(21, 37)"
      ]
     },
     "execution_count": 35,
     "metadata": {},
     "output_type": "execute_result"
    }
   ],
   "source": [
    "# 2nd Priority customers - High Spenders, Low Engagement, Most Recent\n",
    "priority_2_df=df_top2.loc[(df_top2['spend_level']=='High') & (df_top2['Engagement']=='Low') & (df_top2['Recent']=='Most')]\n",
    "priority_2_df.shape"
   ]
  },
  {
   "cell_type": "code",
   "execution_count": 36,
   "metadata": {},
   "outputs": [
    {
     "data": {
      "text/plain": [
       "(70, 37)"
      ]
     },
     "execution_count": 36,
     "metadata": {},
     "output_type": "execute_result"
    }
   ],
   "source": [
    "# 3rd Priority customers - High Spenders, High & Low Engagement, Not Recent\n",
    "priority_3_1_df = df_top2.loc[(df_top2['spend_level']=='High') & (df_top2['Recent']=='Least')& (df_top2['Engagement']=='High')]\n",
    "priority_3_2_df = df_top2[(df_top2['spend_level']=='High') & (df_top2['Recent']=='Least')& (df_top2['Engagement']=='Low')]\n",
    "priority_3_df = pd.concat([priority_3_1_df, priority_3_2_df])\n",
    "priority_3_df.shape"
   ]
  },
  {
   "cell_type": "markdown",
   "metadata": {},
   "source": [
    "### Low Spenders"
   ]
  },
  {
   "cell_type": "code",
   "execution_count": 37,
   "metadata": {},
   "outputs": [
    {
     "data": {
      "text/plain": [
       "(27, 37)"
      ]
     },
     "execution_count": 37,
     "metadata": {},
     "output_type": "execute_result"
    }
   ],
   "source": [
    "# 4th Priority customers - Low Spenders, High Engagement, Most Recent\n",
    "priority_4_df=df_top2.loc[(df_top2['spend_level']=='Low') & (df_top2['Engagement']=='High') & (df_top2['Recent']=='Most')]\n",
    "priority_4_df.shape"
   ]
  },
  {
   "cell_type": "code",
   "execution_count": 38,
   "metadata": {},
   "outputs": [
    {
     "data": {
      "text/plain": [
       "(282, 37)"
      ]
     },
     "execution_count": 38,
     "metadata": {},
     "output_type": "execute_result"
    }
   ],
   "source": [
    "# 5th Priority customers - Low Spenders, Low Engagement, Most & Least Recent\n",
    "priority_5_1_df=df_top2.loc[(df_top2['spend_level']=='Low') & df_top2['Recent'] & (df_top2['Engagement']=='Low')]\n",
    "priority_5_2_df=df_top2.loc[(df_top2['spend_level']=='Low') & (df_top2['Recent']=='Least') & (df_top2['Engagement']=='High')]\n",
    "priority_5_df = pd.concat([priority_5_1_df, priority_5_2_df])\n",
    "priority_5_df.shape"
   ]
  },
  {
   "cell_type": "markdown",
   "metadata": {},
   "source": [
    "# Step 3: Solution\n",
    "- Find the products for which offers can be given for each segments."
   ]
  },
  {
   "cell_type": "code",
   "execution_count": 39,
   "metadata": {},
   "outputs": [
    {
     "data": {
      "text/plain": [
       "MntWines            1049.916667\n",
       "MntMeatProducts      606.750000\n",
       "MntGoldProds         103.333333\n",
       "MntFishProducts       90.500000\n",
       "MntSweetProducts      83.250000\n",
       "MntFruits             58.750000\n",
       "dtype: float64"
      ]
     },
     "execution_count": 39,
     "metadata": {},
     "output_type": "execute_result"
    }
   ],
   "source": [
    "spend_cat_priority1=priority_1_df[['MntWines','MntFruits','MntMeatProducts','MntFishProducts','MntSweetProducts','MntGoldProds']]\n",
    "spend_avg = spend_cat_priority1.mean(axis=0).sort_values(ascending=False)\n",
    "spend_avg"
   ]
  },
  {
   "cell_type": "code",
   "execution_count": 40,
   "metadata": {},
   "outputs": [
    {
     "data": {
      "text/plain": [
       "MntWines            997.714286\n",
       "MntMeatProducts     656.238095\n",
       "MntFishProducts      78.809524\n",
       "MntGoldProds         76.666667\n",
       "MntFruits            73.000000\n",
       "MntSweetProducts     63.142857\n",
       "dtype: float64"
      ]
     },
     "execution_count": 40,
     "metadata": {},
     "output_type": "execute_result"
    }
   ],
   "source": [
    "spend_cat_priority2=priority_2_df[['MntWines','MntFruits','MntMeatProducts','MntFishProducts','MntSweetProducts','MntGoldProds']]\n",
    "spend_avg = spend_cat_priority2.mean(axis=0).sort_values(ascending=False)\n",
    "spend_avg"
   ]
  },
  {
   "cell_type": "code",
   "execution_count": 41,
   "metadata": {},
   "outputs": [
    {
     "data": {
      "text/plain": [
       "MntWines            894.685714\n",
       "MntMeatProducts     696.642857\n",
       "MntFishProducts     102.357143\n",
       "MntGoldProds         81.142857\n",
       "MntFruits            71.285714\n",
       "MntSweetProducts     67.414286\n",
       "dtype: float64"
      ]
     },
     "execution_count": 41,
     "metadata": {},
     "output_type": "execute_result"
    }
   ],
   "source": [
    "spend_cat_priority3=priority_3_df[['MntWines','MntFruits','MntMeatProducts','MntFishProducts','MntSweetProducts','MntGoldProds']]\n",
    "spend_avg = spend_cat_priority3.mean(axis=0).sort_values(ascending=False)\n",
    "spend_avg"
   ]
  },
  {
   "cell_type": "code",
   "execution_count": 42,
   "metadata": {},
   "outputs": [
    {
     "data": {
      "text/plain": [
       "MntWines            699.703704\n",
       "MntMeatProducts     263.000000\n",
       "MntGoldProds         91.333333\n",
       "MntFishProducts      76.518519\n",
       "MntSweetProducts     53.629630\n",
       "MntFruits            38.962963\n",
       "dtype: float64"
      ]
     },
     "execution_count": 42,
     "metadata": {},
     "output_type": "execute_result"
    }
   ],
   "source": [
    "spend_cat_priority4=priority_4_df[['MntWines','MntFruits','MntMeatProducts','MntFishProducts','MntSweetProducts','MntGoldProds']]\n",
    "spend_avg = spend_cat_priority4.mean(axis=0).sort_values(ascending=False)\n",
    "spend_avg"
   ]
  },
  {
   "cell_type": "code",
   "execution_count": 43,
   "metadata": {},
   "outputs": [
    {
     "data": {
      "text/plain": [
       "MntWines            349.308511\n",
       "MntMeatProducts     169.014184\n",
       "MntGoldProds         58.117021\n",
       "MntFishProducts      33.372340\n",
       "MntFruits            28.195035\n",
       "MntSweetProducts     27.868794\n",
       "dtype: float64"
      ]
     },
     "execution_count": 43,
     "metadata": {},
     "output_type": "execute_result"
    }
   ],
   "source": [
    "spend_cat_priority5=priority_5_df[['MntWines','MntFruits','MntMeatProducts','MntFishProducts','MntSweetProducts','MntGoldProds']]\n",
    "spend_avg = spend_cat_priority5.mean(axis=0).sort_values(ascending=False)\n",
    "spend_avg"
   ]
  },
  {
   "cell_type": "markdown",
   "metadata": {},
   "source": [
    "# Recommendations\n",
    "\n",
    "1) For the following products offers can be provided, namely, \n",
    "   wine, meat, gold, fish.\n",
    "    \n",
    "2) Send personalized notifications about discounts/offers to high spenders.\n",
    "\n",
    "3) Reward with offers for 'Refer a Friend'\n",
    "\n",
    "4) Send personalized email/message to encourage them to buy again.\n",
    "\n",
    "5) Loyalty Card program to gain points for multiple purchases that can be converted to discounts."
   ]
  },
  {
   "cell_type": "markdown",
   "metadata": {},
   "source": [
    "--------------------------------------------------------------------------------------------------------------------------------"
   ]
  },
  {
   "cell_type": "markdown",
   "metadata": {},
   "source": [
    "                *******************************************************************************"
   ]
  }
 ],
 "metadata": {
  "kernelspec": {
   "display_name": "Python 3 (ipykernel)",
   "language": "python",
   "name": "python3"
  },
  "language_info": {
   "codemirror_mode": {
    "name": "ipython",
    "version": 3
   },
   "file_extension": ".py",
   "mimetype": "text/x-python",
   "name": "python",
   "nbconvert_exporter": "python",
   "pygments_lexer": "ipython3",
   "version": "3.9.7"
  }
 },
 "nbformat": 4,
 "nbformat_minor": 2
}
