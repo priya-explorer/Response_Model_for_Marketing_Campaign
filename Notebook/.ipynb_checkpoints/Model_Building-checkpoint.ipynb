{
 "cells": [
  {
   "cell_type": "code",
   "execution_count": 1,
   "id": "131d2b5c",
   "metadata": {},
   "outputs": [],
   "source": [
    "# Importing the neccessary libraries \n",
    "\n",
    "import pandas as pd\n",
    "import numpy as np\n",
    "import seaborn as sns\n",
    "import matplotlib.pyplot as plt\n",
    "from urllib.request import urlopen \n",
    "\n",
    "plt.style.use('ggplot')\n",
    "pd.set_option('display.max_columns', 500) \n",
    "\n",
    "# Warning Suppression \n",
    "import warnings\n",
    "warnings.filterwarnings('ignore')"
   ]
  },
  {
   "cell_type": "markdown",
   "id": "fb9ac6bb",
   "metadata": {},
   "source": [
    "# Importing necessary libraries for Model Building"
   ]
  },
  {
   "cell_type": "code",
   "execution_count": 2,
   "id": "58ee1fd6",
   "metadata": {},
   "outputs": [],
   "source": [
    "from sklearn.preprocessing import StandardScaler\n",
    "from sklearn import metrics\n",
    "from sklearn.metrics import confusion_matrix, ConfusionMatrixDisplay\n",
    "from sklearn.metrics import accuracy_score\n",
    "from sklearn.metrics import roc_curve, auc\n",
    "from sklearn.tree import export_graphviz\n",
    "from sklearn.metrics import classification_report\n",
    "\n",
    "from sklearn.tree import DecisionTreeClassifier\n",
    "from sklearn.ensemble import RandomForestClassifier\n",
    "from sklearn.ensemble import GradientBoostingClassifier\n",
    "\n",
    "\n",
    "from sklearn.model_selection import cross_validate\n",
    "from sklearn.linear_model import LogisticRegression\n",
    "from sklearn.tree import DecisionTreeClassifier\n",
    "from sklearn.svm import SVC\n",
    "from sklearn.model_selection import StratifiedKFold"
   ]
  },
  {
   "cell_type": "code",
   "execution_count": 3,
   "id": "433a0baa",
   "metadata": {},
   "outputs": [],
   "source": [
    "# ! pip3 install xgboost\n",
    "from xgboost import XGBClassifier"
   ]
  },
  {
   "cell_type": "code",
   "execution_count": 4,
   "id": "3e8e2d53",
   "metadata": {},
   "outputs": [],
   "source": [
    "### Setting Display options to ensure feature name visibility\n",
    "\n",
    "pd.set_option('display.max_columns', None)"
   ]
  },
  {
   "cell_type": "markdown",
   "id": "be03837b",
   "metadata": {},
   "source": [
    "# Load the Data"
   ]
  },
  {
   "cell_type": "code",
   "execution_count": 5,
   "id": "aded03ee",
   "metadata": {},
   "outputs": [],
   "source": [
    "X = pd.read_csv(r\"C:\\Users\\priya\\PycharmProjects\\Response_modeling_for_supermarket\\Data\\Independent_features_df_1\")\n",
    "Y = pd.read_csv(r\"C:\\Users\\priya\\PycharmProjects\\Response_modeling_for_supermarket\\Data\\Target_feature_df_1\")"
   ]
  },
  {
   "cell_type": "code",
   "execution_count": 6,
   "id": "dd518a1b",
   "metadata": {
    "scrolled": true
   },
   "outputs": [
    {
     "data": {
      "text/html": [
       "<div>\n",
       "<style scoped>\n",
       "    .dataframe tbody tr th:only-of-type {\n",
       "        vertical-align: middle;\n",
       "    }\n",
       "\n",
       "    .dataframe tbody tr th {\n",
       "        vertical-align: top;\n",
       "    }\n",
       "\n",
       "    .dataframe thead th {\n",
       "        text-align: right;\n",
       "    }\n",
       "</style>\n",
       "<table border=\"1\" class=\"dataframe\">\n",
       "  <thead>\n",
       "    <tr style=\"text-align: right;\">\n",
       "      <th></th>\n",
       "      <th>Income</th>\n",
       "      <th>Recency</th>\n",
       "      <th>MntWines</th>\n",
       "      <th>MntFruits</th>\n",
       "      <th>MntMeatProducts</th>\n",
       "      <th>MntFishProducts</th>\n",
       "      <th>MntSweetProducts</th>\n",
       "      <th>MntGoldProds</th>\n",
       "      <th>NumWebPurchases</th>\n",
       "      <th>NumCatalogPurchases</th>\n",
       "      <th>NumStorePurchases</th>\n",
       "      <th>AcceptedCmp3</th>\n",
       "      <th>AcceptedCmp4</th>\n",
       "      <th>AcceptedCmp5</th>\n",
       "      <th>AcceptedCmp1</th>\n",
       "      <th>AcceptedCmp2</th>\n",
       "      <th>Age</th>\n",
       "      <th>Cust_Tenure</th>\n",
       "      <th>Marital_Status_Divorced</th>\n",
       "      <th>Marital_Status_Single</th>\n",
       "      <th>Marital_Status_Widow</th>\n",
       "      <th>childhome_1</th>\n",
       "      <th>childhome_2</th>\n",
       "      <th>childhome_3</th>\n",
       "      <th>Education_Basic</th>\n",
       "      <th>Education_Graduation</th>\n",
       "      <th>Education_Master</th>\n",
       "      <th>Education_PhD</th>\n",
       "    </tr>\n",
       "  </thead>\n",
       "  <tbody>\n",
       "    <tr>\n",
       "      <th>0</th>\n",
       "      <td>58138.0</td>\n",
       "      <td>58</td>\n",
       "      <td>635</td>\n",
       "      <td>88</td>\n",
       "      <td>546</td>\n",
       "      <td>172</td>\n",
       "      <td>88</td>\n",
       "      <td>88</td>\n",
       "      <td>8</td>\n",
       "      <td>10</td>\n",
       "      <td>4</td>\n",
       "      <td>0</td>\n",
       "      <td>0</td>\n",
       "      <td>0</td>\n",
       "      <td>0</td>\n",
       "      <td>0</td>\n",
       "      <td>64.0</td>\n",
       "      <td>8.0</td>\n",
       "      <td>0</td>\n",
       "      <td>1</td>\n",
       "      <td>0</td>\n",
       "      <td>0</td>\n",
       "      <td>0</td>\n",
       "      <td>0</td>\n",
       "      <td>0</td>\n",
       "      <td>1</td>\n",
       "      <td>0</td>\n",
       "      <td>0</td>\n",
       "    </tr>\n",
       "    <tr>\n",
       "      <th>1</th>\n",
       "      <td>46344.0</td>\n",
       "      <td>38</td>\n",
       "      <td>11</td>\n",
       "      <td>1</td>\n",
       "      <td>6</td>\n",
       "      <td>2</td>\n",
       "      <td>1</td>\n",
       "      <td>6</td>\n",
       "      <td>1</td>\n",
       "      <td>1</td>\n",
       "      <td>2</td>\n",
       "      <td>0</td>\n",
       "      <td>0</td>\n",
       "      <td>0</td>\n",
       "      <td>0</td>\n",
       "      <td>0</td>\n",
       "      <td>67.0</td>\n",
       "      <td>6.0</td>\n",
       "      <td>0</td>\n",
       "      <td>1</td>\n",
       "      <td>0</td>\n",
       "      <td>0</td>\n",
       "      <td>1</td>\n",
       "      <td>0</td>\n",
       "      <td>0</td>\n",
       "      <td>1</td>\n",
       "      <td>0</td>\n",
       "      <td>0</td>\n",
       "    </tr>\n",
       "    <tr>\n",
       "      <th>2</th>\n",
       "      <td>71613.0</td>\n",
       "      <td>26</td>\n",
       "      <td>426</td>\n",
       "      <td>49</td>\n",
       "      <td>127</td>\n",
       "      <td>111</td>\n",
       "      <td>21</td>\n",
       "      <td>42</td>\n",
       "      <td>8</td>\n",
       "      <td>2</td>\n",
       "      <td>10</td>\n",
       "      <td>0</td>\n",
       "      <td>0</td>\n",
       "      <td>0</td>\n",
       "      <td>0</td>\n",
       "      <td>0</td>\n",
       "      <td>56.0</td>\n",
       "      <td>7.0</td>\n",
       "      <td>0</td>\n",
       "      <td>0</td>\n",
       "      <td>0</td>\n",
       "      <td>0</td>\n",
       "      <td>0</td>\n",
       "      <td>0</td>\n",
       "      <td>0</td>\n",
       "      <td>1</td>\n",
       "      <td>0</td>\n",
       "      <td>0</td>\n",
       "    </tr>\n",
       "    <tr>\n",
       "      <th>3</th>\n",
       "      <td>26646.0</td>\n",
       "      <td>26</td>\n",
       "      <td>11</td>\n",
       "      <td>4</td>\n",
       "      <td>20</td>\n",
       "      <td>10</td>\n",
       "      <td>3</td>\n",
       "      <td>5</td>\n",
       "      <td>2</td>\n",
       "      <td>0</td>\n",
       "      <td>4</td>\n",
       "      <td>0</td>\n",
       "      <td>0</td>\n",
       "      <td>0</td>\n",
       "      <td>0</td>\n",
       "      <td>0</td>\n",
       "      <td>37.0</td>\n",
       "      <td>6.0</td>\n",
       "      <td>0</td>\n",
       "      <td>0</td>\n",
       "      <td>0</td>\n",
       "      <td>1</td>\n",
       "      <td>0</td>\n",
       "      <td>0</td>\n",
       "      <td>0</td>\n",
       "      <td>1</td>\n",
       "      <td>0</td>\n",
       "      <td>0</td>\n",
       "    </tr>\n",
       "    <tr>\n",
       "      <th>4</th>\n",
       "      <td>58293.0</td>\n",
       "      <td>94</td>\n",
       "      <td>173</td>\n",
       "      <td>43</td>\n",
       "      <td>118</td>\n",
       "      <td>46</td>\n",
       "      <td>27</td>\n",
       "      <td>15</td>\n",
       "      <td>5</td>\n",
       "      <td>3</td>\n",
       "      <td>6</td>\n",
       "      <td>0</td>\n",
       "      <td>0</td>\n",
       "      <td>0</td>\n",
       "      <td>0</td>\n",
       "      <td>0</td>\n",
       "      <td>40.0</td>\n",
       "      <td>6.0</td>\n",
       "      <td>0</td>\n",
       "      <td>0</td>\n",
       "      <td>0</td>\n",
       "      <td>1</td>\n",
       "      <td>0</td>\n",
       "      <td>0</td>\n",
       "      <td>0</td>\n",
       "      <td>0</td>\n",
       "      <td>0</td>\n",
       "      <td>1</td>\n",
       "    </tr>\n",
       "  </tbody>\n",
       "</table>\n",
       "</div>"
      ],
      "text/plain": [
       "    Income  Recency  MntWines  MntFruits  MntMeatProducts  MntFishProducts  \\\n",
       "0  58138.0       58       635         88              546              172   \n",
       "1  46344.0       38        11          1                6                2   \n",
       "2  71613.0       26       426         49              127              111   \n",
       "3  26646.0       26        11          4               20               10   \n",
       "4  58293.0       94       173         43              118               46   \n",
       "\n",
       "   MntSweetProducts  MntGoldProds  NumWebPurchases  NumCatalogPurchases  \\\n",
       "0                88            88                8                   10   \n",
       "1                 1             6                1                    1   \n",
       "2                21            42                8                    2   \n",
       "3                 3             5                2                    0   \n",
       "4                27            15                5                    3   \n",
       "\n",
       "   NumStorePurchases  AcceptedCmp3  AcceptedCmp4  AcceptedCmp5  AcceptedCmp1  \\\n",
       "0                  4             0             0             0             0   \n",
       "1                  2             0             0             0             0   \n",
       "2                 10             0             0             0             0   \n",
       "3                  4             0             0             0             0   \n",
       "4                  6             0             0             0             0   \n",
       "\n",
       "   AcceptedCmp2   Age  Cust_Tenure  Marital_Status_Divorced  \\\n",
       "0             0  64.0          8.0                        0   \n",
       "1             0  67.0          6.0                        0   \n",
       "2             0  56.0          7.0                        0   \n",
       "3             0  37.0          6.0                        0   \n",
       "4             0  40.0          6.0                        0   \n",
       "\n",
       "   Marital_Status_Single  Marital_Status_Widow  childhome_1  childhome_2  \\\n",
       "0                      1                     0            0            0   \n",
       "1                      1                     0            0            1   \n",
       "2                      0                     0            0            0   \n",
       "3                      0                     0            1            0   \n",
       "4                      0                     0            1            0   \n",
       "\n",
       "   childhome_3  Education_Basic  Education_Graduation  Education_Master  \\\n",
       "0            0                0                     1                 0   \n",
       "1            0                0                     1                 0   \n",
       "2            0                0                     1                 0   \n",
       "3            0                0                     1                 0   \n",
       "4            0                0                     0                 0   \n",
       "\n",
       "   Education_PhD  \n",
       "0              0  \n",
       "1              0  \n",
       "2              0  \n",
       "3              0  \n",
       "4              1  "
      ]
     },
     "execution_count": 6,
     "metadata": {},
     "output_type": "execute_result"
    }
   ],
   "source": [
    "X.head()"
   ]
  },
  {
   "cell_type": "code",
   "execution_count": 7,
   "id": "1a42c9d6",
   "metadata": {},
   "outputs": [
    {
     "data": {
      "text/plain": [
       "(2058, 28)"
      ]
     },
     "execution_count": 7,
     "metadata": {},
     "output_type": "execute_result"
    }
   ],
   "source": [
    "X.shape"
   ]
  },
  {
   "cell_type": "code",
   "execution_count": 8,
   "id": "422bbbda",
   "metadata": {},
   "outputs": [
    {
     "data": {
      "text/html": [
       "<div>\n",
       "<style scoped>\n",
       "    .dataframe tbody tr th:only-of-type {\n",
       "        vertical-align: middle;\n",
       "    }\n",
       "\n",
       "    .dataframe tbody tr th {\n",
       "        vertical-align: top;\n",
       "    }\n",
       "\n",
       "    .dataframe thead th {\n",
       "        text-align: right;\n",
       "    }\n",
       "</style>\n",
       "<table border=\"1\" class=\"dataframe\">\n",
       "  <thead>\n",
       "    <tr style=\"text-align: right;\">\n",
       "      <th></th>\n",
       "      <th>Response</th>\n",
       "    </tr>\n",
       "  </thead>\n",
       "  <tbody>\n",
       "    <tr>\n",
       "      <th>0</th>\n",
       "      <td>1</td>\n",
       "    </tr>\n",
       "    <tr>\n",
       "      <th>1</th>\n",
       "      <td>0</td>\n",
       "    </tr>\n",
       "    <tr>\n",
       "      <th>2</th>\n",
       "      <td>0</td>\n",
       "    </tr>\n",
       "    <tr>\n",
       "      <th>3</th>\n",
       "      <td>0</td>\n",
       "    </tr>\n",
       "    <tr>\n",
       "      <th>4</th>\n",
       "      <td>0</td>\n",
       "    </tr>\n",
       "  </tbody>\n",
       "</table>\n",
       "</div>"
      ],
      "text/plain": [
       "   Response\n",
       "0         1\n",
       "1         0\n",
       "2         0\n",
       "3         0\n",
       "4         0"
      ]
     },
     "execution_count": 8,
     "metadata": {},
     "output_type": "execute_result"
    }
   ],
   "source": [
    "Y.head()"
   ]
  },
  {
   "cell_type": "code",
   "execution_count": 9,
   "id": "6855cacb",
   "metadata": {},
   "outputs": [
    {
     "data": {
      "text/plain": [
       "Response\n",
       "0           1745\n",
       "1            313\n",
       "dtype: int64"
      ]
     },
     "execution_count": 9,
     "metadata": {},
     "output_type": "execute_result"
    }
   ],
   "source": [
    "Y.value_counts()"
   ]
  },
  {
   "cell_type": "code",
   "execution_count": 10,
   "id": "9a2e6cfe",
   "metadata": {},
   "outputs": [
    {
     "data": {
      "text/plain": [
       "(2058, 1)"
      ]
     },
     "execution_count": 10,
     "metadata": {},
     "output_type": "execute_result"
    }
   ],
   "source": [
    "Y.shape"
   ]
  },
  {
   "cell_type": "code",
   "execution_count": 11,
   "id": "6221e767",
   "metadata": {
    "scrolled": false
   },
   "outputs": [
    {
     "name": "stdout",
     "output_type": "stream",
     "text": [
      "The event rate is 0.15 %\n"
     ]
    }
   ],
   "source": [
    "print(\"The event rate is\", round(Y['Response'].mean(),2),\"%\")"
   ]
  },
  {
   "cell_type": "markdown",
   "id": "8562c3f1",
   "metadata": {},
   "source": [
    "----------------------------------------------------------------------"
   ]
  },
  {
   "cell_type": "markdown",
   "id": "cff5b884",
   "metadata": {},
   "source": [
    "# Split the data into test and train sets"
   ]
  },
  {
   "cell_type": "code",
   "execution_count": 12,
   "id": "c3854fbc",
   "metadata": {},
   "outputs": [],
   "source": [
    "from sklearn.model_selection import train_test_split \n",
    "#Train Test Split\n",
    "x_train, x_test, y_train, y_test = train_test_split(X, Y, test_size = 0.2, random_state=21)"
   ]
  },
  {
   "cell_type": "markdown",
   "id": "3b0d32b2",
   "metadata": {},
   "source": [
    "### To check if the testing data is a representator of the population"
   ]
  },
  {
   "cell_type": "code",
   "execution_count": 13,
   "id": "db40b4d3",
   "metadata": {
    "scrolled": false
   },
   "outputs": [
    {
     "name": "stdout",
     "output_type": "stream",
     "text": [
      "Shape of Training Data (1646, 28)\n",
      "Shape of Testing Data (412, 28)\n",
      "Attrition Rate in Training Data Response    0.151883\n",
      "dtype: float64\n",
      "Attrition Rate in Testing Data Response    0.152913\n",
      "dtype: float64\n"
     ]
    }
   ],
   "source": [
    "print(\"Shape of Training Data\", x_train.shape)\n",
    "print(\"Shape of Testing Data\", x_test.shape)\n",
    "print(\"Attrition Rate in Training Data\", y_train.mean())\n",
    "print(\"Attrition Rate in Testing Data\", y_test.mean())"
   ]
  },
  {
   "cell_type": "code",
   "execution_count": 14,
   "id": "5e8a9a17",
   "metadata": {},
   "outputs": [
    {
     "data": {
      "text/html": [
       "<div>\n",
       "<style scoped>\n",
       "    .dataframe tbody tr th:only-of-type {\n",
       "        vertical-align: middle;\n",
       "    }\n",
       "\n",
       "    .dataframe tbody tr th {\n",
       "        vertical-align: top;\n",
       "    }\n",
       "\n",
       "    .dataframe thead th {\n",
       "        text-align: right;\n",
       "    }\n",
       "</style>\n",
       "<table border=\"1\" class=\"dataframe\">\n",
       "  <thead>\n",
       "    <tr style=\"text-align: right;\">\n",
       "      <th></th>\n",
       "      <th>Income</th>\n",
       "      <th>Recency</th>\n",
       "      <th>MntWines</th>\n",
       "      <th>MntFruits</th>\n",
       "      <th>MntMeatProducts</th>\n",
       "      <th>MntFishProducts</th>\n",
       "      <th>MntSweetProducts</th>\n",
       "      <th>MntGoldProds</th>\n",
       "      <th>NumWebPurchases</th>\n",
       "      <th>NumCatalogPurchases</th>\n",
       "      <th>NumStorePurchases</th>\n",
       "      <th>AcceptedCmp3</th>\n",
       "      <th>AcceptedCmp4</th>\n",
       "      <th>AcceptedCmp5</th>\n",
       "      <th>AcceptedCmp1</th>\n",
       "      <th>AcceptedCmp2</th>\n",
       "      <th>Age</th>\n",
       "      <th>Cust_Tenure</th>\n",
       "      <th>Marital_Status_Divorced</th>\n",
       "      <th>Marital_Status_Single</th>\n",
       "      <th>Marital_Status_Widow</th>\n",
       "      <th>childhome_1</th>\n",
       "      <th>childhome_2</th>\n",
       "      <th>childhome_3</th>\n",
       "      <th>Education_Basic</th>\n",
       "      <th>Education_Graduation</th>\n",
       "      <th>Education_Master</th>\n",
       "      <th>Education_PhD</th>\n",
       "    </tr>\n",
       "  </thead>\n",
       "  <tbody>\n",
       "    <tr>\n",
       "      <th>565</th>\n",
       "      <td>61996.000000</td>\n",
       "      <td>27</td>\n",
       "      <td>1050</td>\n",
       "      <td>12</td>\n",
       "      <td>144</td>\n",
       "      <td>0</td>\n",
       "      <td>0</td>\n",
       "      <td>24</td>\n",
       "      <td>6</td>\n",
       "      <td>4</td>\n",
       "      <td>8</td>\n",
       "      <td>0</td>\n",
       "      <td>1</td>\n",
       "      <td>0</td>\n",
       "      <td>1</td>\n",
       "      <td>1</td>\n",
       "      <td>44.0</td>\n",
       "      <td>7.0</td>\n",
       "      <td>0</td>\n",
       "      <td>0</td>\n",
       "      <td>0</td>\n",
       "      <td>1</td>\n",
       "      <td>0</td>\n",
       "      <td>0</td>\n",
       "      <td>0</td>\n",
       "      <td>0</td>\n",
       "      <td>0</td>\n",
       "      <td>1</td>\n",
       "    </tr>\n",
       "    <tr>\n",
       "      <th>605</th>\n",
       "      <td>54162.000000</td>\n",
       "      <td>31</td>\n",
       "      <td>5</td>\n",
       "      <td>6</td>\n",
       "      <td>10</td>\n",
       "      <td>6</td>\n",
       "      <td>5</td>\n",
       "      <td>10</td>\n",
       "      <td>1</td>\n",
       "      <td>0</td>\n",
       "      <td>3</td>\n",
       "      <td>0</td>\n",
       "      <td>0</td>\n",
       "      <td>0</td>\n",
       "      <td>0</td>\n",
       "      <td>0</td>\n",
       "      <td>43.0</td>\n",
       "      <td>7.0</td>\n",
       "      <td>0</td>\n",
       "      <td>0</td>\n",
       "      <td>1</td>\n",
       "      <td>0</td>\n",
       "      <td>1</td>\n",
       "      <td>0</td>\n",
       "      <td>0</td>\n",
       "      <td>1</td>\n",
       "      <td>0</td>\n",
       "      <td>0</td>\n",
       "    </tr>\n",
       "    <tr>\n",
       "      <th>1248</th>\n",
       "      <td>60894.000000</td>\n",
       "      <td>61</td>\n",
       "      <td>606</td>\n",
       "      <td>7</td>\n",
       "      <td>155</td>\n",
       "      <td>10</td>\n",
       "      <td>0</td>\n",
       "      <td>54</td>\n",
       "      <td>10</td>\n",
       "      <td>3</td>\n",
       "      <td>8</td>\n",
       "      <td>0</td>\n",
       "      <td>0</td>\n",
       "      <td>0</td>\n",
       "      <td>0</td>\n",
       "      <td>0</td>\n",
       "      <td>55.0</td>\n",
       "      <td>7.0</td>\n",
       "      <td>0</td>\n",
       "      <td>0</td>\n",
       "      <td>0</td>\n",
       "      <td>1</td>\n",
       "      <td>0</td>\n",
       "      <td>0</td>\n",
       "      <td>0</td>\n",
       "      <td>1</td>\n",
       "      <td>0</td>\n",
       "      <td>0</td>\n",
       "    </tr>\n",
       "    <tr>\n",
       "      <th>379</th>\n",
       "      <td>10245.000000</td>\n",
       "      <td>32</td>\n",
       "      <td>4</td>\n",
       "      <td>7</td>\n",
       "      <td>7</td>\n",
       "      <td>6</td>\n",
       "      <td>4</td>\n",
       "      <td>13</td>\n",
       "      <td>1</td>\n",
       "      <td>2</td>\n",
       "      <td>2</td>\n",
       "      <td>0</td>\n",
       "      <td>0</td>\n",
       "      <td>0</td>\n",
       "      <td>0</td>\n",
       "      <td>0</td>\n",
       "      <td>50.0</td>\n",
       "      <td>7.0</td>\n",
       "      <td>0</td>\n",
       "      <td>1</td>\n",
       "      <td>0</td>\n",
       "      <td>1</td>\n",
       "      <td>0</td>\n",
       "      <td>0</td>\n",
       "      <td>0</td>\n",
       "      <td>1</td>\n",
       "      <td>0</td>\n",
       "      <td>0</td>\n",
       "    </tr>\n",
       "    <tr>\n",
       "      <th>1728</th>\n",
       "      <td>11448.000000</td>\n",
       "      <td>16</td>\n",
       "      <td>0</td>\n",
       "      <td>0</td>\n",
       "      <td>0</td>\n",
       "      <td>6</td>\n",
       "      <td>2</td>\n",
       "      <td>6</td>\n",
       "      <td>1</td>\n",
       "      <td>0</td>\n",
       "      <td>2</td>\n",
       "      <td>0</td>\n",
       "      <td>0</td>\n",
       "      <td>0</td>\n",
       "      <td>0</td>\n",
       "      <td>0</td>\n",
       "      <td>46.0</td>\n",
       "      <td>7.0</td>\n",
       "      <td>1</td>\n",
       "      <td>0</td>\n",
       "      <td>0</td>\n",
       "      <td>0</td>\n",
       "      <td>0</td>\n",
       "      <td>0</td>\n",
       "      <td>0</td>\n",
       "      <td>0</td>\n",
       "      <td>0</td>\n",
       "      <td>0</td>\n",
       "    </tr>\n",
       "    <tr>\n",
       "      <th>...</th>\n",
       "      <td>...</td>\n",
       "      <td>...</td>\n",
       "      <td>...</td>\n",
       "      <td>...</td>\n",
       "      <td>...</td>\n",
       "      <td>...</td>\n",
       "      <td>...</td>\n",
       "      <td>...</td>\n",
       "      <td>...</td>\n",
       "      <td>...</td>\n",
       "      <td>...</td>\n",
       "      <td>...</td>\n",
       "      <td>...</td>\n",
       "      <td>...</td>\n",
       "      <td>...</td>\n",
       "      <td>...</td>\n",
       "      <td>...</td>\n",
       "      <td>...</td>\n",
       "      <td>...</td>\n",
       "      <td>...</td>\n",
       "      <td>...</td>\n",
       "      <td>...</td>\n",
       "      <td>...</td>\n",
       "      <td>...</td>\n",
       "      <td>...</td>\n",
       "      <td>...</td>\n",
       "      <td>...</td>\n",
       "      <td>...</td>\n",
       "    </tr>\n",
       "    <tr>\n",
       "      <th>1144</th>\n",
       "      <td>78579.000000</td>\n",
       "      <td>35</td>\n",
       "      <td>816</td>\n",
       "      <td>66</td>\n",
       "      <td>549</td>\n",
       "      <td>216</td>\n",
       "      <td>66</td>\n",
       "      <td>99</td>\n",
       "      <td>5</td>\n",
       "      <td>6</td>\n",
       "      <td>4</td>\n",
       "      <td>0</td>\n",
       "      <td>0</td>\n",
       "      <td>0</td>\n",
       "      <td>0</td>\n",
       "      <td>0</td>\n",
       "      <td>51.0</td>\n",
       "      <td>8.0</td>\n",
       "      <td>1</td>\n",
       "      <td>0</td>\n",
       "      <td>0</td>\n",
       "      <td>0</td>\n",
       "      <td>0</td>\n",
       "      <td>0</td>\n",
       "      <td>0</td>\n",
       "      <td>0</td>\n",
       "      <td>1</td>\n",
       "      <td>0</td>\n",
       "    </tr>\n",
       "    <tr>\n",
       "      <th>48</th>\n",
       "      <td>52247.251354</td>\n",
       "      <td>96</td>\n",
       "      <td>48</td>\n",
       "      <td>5</td>\n",
       "      <td>48</td>\n",
       "      <td>6</td>\n",
       "      <td>10</td>\n",
       "      <td>7</td>\n",
       "      <td>2</td>\n",
       "      <td>1</td>\n",
       "      <td>4</td>\n",
       "      <td>0</td>\n",
       "      <td>0</td>\n",
       "      <td>0</td>\n",
       "      <td>0</td>\n",
       "      <td>0</td>\n",
       "      <td>70.0</td>\n",
       "      <td>7.0</td>\n",
       "      <td>0</td>\n",
       "      <td>1</td>\n",
       "      <td>0</td>\n",
       "      <td>0</td>\n",
       "      <td>0</td>\n",
       "      <td>1</td>\n",
       "      <td>0</td>\n",
       "      <td>1</td>\n",
       "      <td>0</td>\n",
       "      <td>0</td>\n",
       "    </tr>\n",
       "    <tr>\n",
       "      <th>772</th>\n",
       "      <td>45183.000000</td>\n",
       "      <td>33</td>\n",
       "      <td>219</td>\n",
       "      <td>3</td>\n",
       "      <td>60</td>\n",
       "      <td>12</td>\n",
       "      <td>9</td>\n",
       "      <td>12</td>\n",
       "      <td>4</td>\n",
       "      <td>1</td>\n",
       "      <td>7</td>\n",
       "      <td>0</td>\n",
       "      <td>1</td>\n",
       "      <td>0</td>\n",
       "      <td>0</td>\n",
       "      <td>0</td>\n",
       "      <td>59.0</td>\n",
       "      <td>7.0</td>\n",
       "      <td>0</td>\n",
       "      <td>1</td>\n",
       "      <td>0</td>\n",
       "      <td>0</td>\n",
       "      <td>0</td>\n",
       "      <td>0</td>\n",
       "      <td>0</td>\n",
       "      <td>0</td>\n",
       "      <td>1</td>\n",
       "      <td>0</td>\n",
       "    </tr>\n",
       "    <tr>\n",
       "      <th>1848</th>\n",
       "      <td>32644.000000</td>\n",
       "      <td>38</td>\n",
       "      <td>239</td>\n",
       "      <td>3</td>\n",
       "      <td>141</td>\n",
       "      <td>0</td>\n",
       "      <td>7</td>\n",
       "      <td>23</td>\n",
       "      <td>7</td>\n",
       "      <td>1</td>\n",
       "      <td>6</td>\n",
       "      <td>1</td>\n",
       "      <td>0</td>\n",
       "      <td>0</td>\n",
       "      <td>0</td>\n",
       "      <td>0</td>\n",
       "      <td>48.0</td>\n",
       "      <td>7.0</td>\n",
       "      <td>0</td>\n",
       "      <td>0</td>\n",
       "      <td>0</td>\n",
       "      <td>1</td>\n",
       "      <td>0</td>\n",
       "      <td>0</td>\n",
       "      <td>0</td>\n",
       "      <td>0</td>\n",
       "      <td>0</td>\n",
       "      <td>1</td>\n",
       "    </tr>\n",
       "    <tr>\n",
       "      <th>1231</th>\n",
       "      <td>57091.000000</td>\n",
       "      <td>82</td>\n",
       "      <td>462</td>\n",
       "      <td>0</td>\n",
       "      <td>24</td>\n",
       "      <td>6</td>\n",
       "      <td>0</td>\n",
       "      <td>4</td>\n",
       "      <td>9</td>\n",
       "      <td>2</td>\n",
       "      <td>5</td>\n",
       "      <td>0</td>\n",
       "      <td>1</td>\n",
       "      <td>0</td>\n",
       "      <td>0</td>\n",
       "      <td>0</td>\n",
       "      <td>49.0</td>\n",
       "      <td>8.0</td>\n",
       "      <td>0</td>\n",
       "      <td>0</td>\n",
       "      <td>0</td>\n",
       "      <td>1</td>\n",
       "      <td>0</td>\n",
       "      <td>0</td>\n",
       "      <td>0</td>\n",
       "      <td>0</td>\n",
       "      <td>0</td>\n",
       "      <td>1</td>\n",
       "    </tr>\n",
       "  </tbody>\n",
       "</table>\n",
       "<p>1646 rows × 28 columns</p>\n",
       "</div>"
      ],
      "text/plain": [
       "            Income  Recency  MntWines  MntFruits  MntMeatProducts  \\\n",
       "565   61996.000000       27      1050         12              144   \n",
       "605   54162.000000       31         5          6               10   \n",
       "1248  60894.000000       61       606          7              155   \n",
       "379   10245.000000       32         4          7                7   \n",
       "1728  11448.000000       16         0          0                0   \n",
       "...            ...      ...       ...        ...              ...   \n",
       "1144  78579.000000       35       816         66              549   \n",
       "48    52247.251354       96        48          5               48   \n",
       "772   45183.000000       33       219          3               60   \n",
       "1848  32644.000000       38       239          3              141   \n",
       "1231  57091.000000       82       462          0               24   \n",
       "\n",
       "      MntFishProducts  MntSweetProducts  MntGoldProds  NumWebPurchases  \\\n",
       "565                 0                 0            24                6   \n",
       "605                 6                 5            10                1   \n",
       "1248               10                 0            54               10   \n",
       "379                 6                 4            13                1   \n",
       "1728                6                 2             6                1   \n",
       "...               ...               ...           ...              ...   \n",
       "1144              216                66            99                5   \n",
       "48                  6                10             7                2   \n",
       "772                12                 9            12                4   \n",
       "1848                0                 7            23                7   \n",
       "1231                6                 0             4                9   \n",
       "\n",
       "      NumCatalogPurchases  NumStorePurchases  AcceptedCmp3  AcceptedCmp4  \\\n",
       "565                     4                  8             0             1   \n",
       "605                     0                  3             0             0   \n",
       "1248                    3                  8             0             0   \n",
       "379                     2                  2             0             0   \n",
       "1728                    0                  2             0             0   \n",
       "...                   ...                ...           ...           ...   \n",
       "1144                    6                  4             0             0   \n",
       "48                      1                  4             0             0   \n",
       "772                     1                  7             0             1   \n",
       "1848                    1                  6             1             0   \n",
       "1231                    2                  5             0             1   \n",
       "\n",
       "      AcceptedCmp5  AcceptedCmp1  AcceptedCmp2   Age  Cust_Tenure  \\\n",
       "565              0             1             1  44.0          7.0   \n",
       "605              0             0             0  43.0          7.0   \n",
       "1248             0             0             0  55.0          7.0   \n",
       "379              0             0             0  50.0          7.0   \n",
       "1728             0             0             0  46.0          7.0   \n",
       "...            ...           ...           ...   ...          ...   \n",
       "1144             0             0             0  51.0          8.0   \n",
       "48               0             0             0  70.0          7.0   \n",
       "772              0             0             0  59.0          7.0   \n",
       "1848             0             0             0  48.0          7.0   \n",
       "1231             0             0             0  49.0          8.0   \n",
       "\n",
       "      Marital_Status_Divorced  Marital_Status_Single  Marital_Status_Widow  \\\n",
       "565                         0                      0                     0   \n",
       "605                         0                      0                     1   \n",
       "1248                        0                      0                     0   \n",
       "379                         0                      1                     0   \n",
       "1728                        1                      0                     0   \n",
       "...                       ...                    ...                   ...   \n",
       "1144                        1                      0                     0   \n",
       "48                          0                      1                     0   \n",
       "772                         0                      1                     0   \n",
       "1848                        0                      0                     0   \n",
       "1231                        0                      0                     0   \n",
       "\n",
       "      childhome_1  childhome_2  childhome_3  Education_Basic  \\\n",
       "565             1            0            0                0   \n",
       "605             0            1            0                0   \n",
       "1248            1            0            0                0   \n",
       "379             1            0            0                0   \n",
       "1728            0            0            0                0   \n",
       "...           ...          ...          ...              ...   \n",
       "1144            0            0            0                0   \n",
       "48              0            0            1                0   \n",
       "772             0            0            0                0   \n",
       "1848            1            0            0                0   \n",
       "1231            1            0            0                0   \n",
       "\n",
       "      Education_Graduation  Education_Master  Education_PhD  \n",
       "565                      0                 0              1  \n",
       "605                      1                 0              0  \n",
       "1248                     1                 0              0  \n",
       "379                      1                 0              0  \n",
       "1728                     0                 0              0  \n",
       "...                    ...               ...            ...  \n",
       "1144                     0                 1              0  \n",
       "48                       1                 0              0  \n",
       "772                      0                 1              0  \n",
       "1848                     0                 0              1  \n",
       "1231                     0                 0              1  \n",
       "\n",
       "[1646 rows x 28 columns]"
      ]
     },
     "execution_count": 14,
     "metadata": {},
     "output_type": "execute_result"
    }
   ],
   "source": [
    "x_train"
   ]
  },
  {
   "cell_type": "code",
   "execution_count": 15,
   "id": "72365a75",
   "metadata": {},
   "outputs": [
    {
     "name": "stdout",
     "output_type": "stream",
     "text": [
      "Before Sampling, count of label '1': 250\n",
      "Before Sampling, count of label '0': 1396 \n",
      "\n"
     ]
    }
   ],
   "source": [
    "print(\"Before Sampling, count of label '1': {}\".format(sum(y_train['Response'] == 1)))\n",
    "print(\"Before Sampling, count of label '0': {} \\n\".format(sum(y_train['Response'] == 0)))"
   ]
  },
  {
   "cell_type": "markdown",
   "id": "1b17118a",
   "metadata": {},
   "source": [
    "- One last step before training the models, we'll standardize the data using the StandardScaler class."
   ]
  },
  {
   "cell_type": "code",
   "execution_count": 16,
   "id": "d11d3505",
   "metadata": {},
   "outputs": [],
   "source": [
    "scaler = StandardScaler()\n",
    "\n",
    "x_train_scaled = scaler.fit_transform(x_train)\n",
    "x_test_scaled = scaler.transform(x_test)\n"
   ]
  },
  {
   "cell_type": "code",
   "execution_count": 17,
   "id": "fef9f03d",
   "metadata": {},
   "outputs": [
    {
     "data": {
      "text/plain": [
       "8.591750800516843"
      ]
     },
     "execution_count": 17,
     "metadata": {},
     "output_type": "execute_result"
    }
   ],
   "source": [
    "x_train_scaled.max()"
   ]
  },
  {
   "cell_type": "markdown",
   "id": "03e237e9",
   "metadata": {},
   "source": [
    "# Smote - Oversampling\n",
    "\n",
    "- Note: train, test data is represented with **_sm** suffix"
   ]
  },
  {
   "cell_type": "code",
   "execution_count": 18,
   "id": "a7fbf783",
   "metadata": {
    "scrolled": false
   },
   "outputs": [
    {
     "data": {
      "image/png": "[encoded data removed]",
      "text/plain": [
       "<Figure size 576x360 with 1 Axes>"
      ]
     },
     "metadata": {},
     "output_type": "display_data"
    }
   ],
   "source": [
    "# pip install imblearn (if you do not have imblearn installed)\n",
    "from imblearn.over_sampling import SMOTE\n",
    "sm = SMOTE(random_state = 21)\n",
    "x_train_sm, y_train_sm = sm.fit_resample(x_train_scaled, y_train)\n",
    "\n",
    "fig, ax = plt.subplots(figsize=(8,5))\n",
    "sns.countplot(x=y_train_sm['Response'])\n",
    "plt.tight_layout()\n",
    "plt.show()"
   ]
  },
  {
   "cell_type": "code",
   "execution_count": 19,
   "id": "aca5346f",
   "metadata": {
    "scrolled": true
   },
   "outputs": [
    {
     "data": {
      "text/plain": [
       "8.591750800516843"
      ]
     },
     "execution_count": 19,
     "metadata": {},
     "output_type": "execute_result"
    }
   ],
   "source": [
    "x_train_sm.max()"
   ]
  },
  {
   "cell_type": "markdown",
   "id": "6cb735e6",
   "metadata": {},
   "source": [
    "# Random Undersampling\n",
    "\n",
    "- Note: train, test data is represented with **_rus** suffix"
   ]
  },
  {
   "cell_type": "code",
   "execution_count": 20,
   "id": "1a70bdc1",
   "metadata": {
    "scrolled": false
   },
   "outputs": [
    {
     "data": {
      "image/png": "[encoded data removed]",
      "text/plain": [
       "<Figure size 576x360 with 1 Axes>"
      ]
     },
     "metadata": {},
     "output_type": "display_data"
    }
   ],
   "source": [
    "# Random Under Sampling \n",
    "from imblearn.under_sampling import RandomUnderSampler\n",
    "rus = RandomUnderSampler(random_state=21)\n",
    "x_train_rus, y_train_rus = rus.fit_resample(x_train_scaled, y_train)\n",
    "\n",
    "fig, ax = plt.subplots(figsize=(8,5))\n",
    "\n",
    "sns.countplot(x=y_train_rus['Response'])\n",
    "plt.tight_layout()\n",
    "plt.show()"
   ]
  },
  {
   "cell_type": "code",
   "execution_count": 21,
   "id": "3a612e2a",
   "metadata": {},
   "outputs": [
    {
     "data": {
      "text/plain": [
       "8.591750800516843"
      ]
     },
     "execution_count": 21,
     "metadata": {},
     "output_type": "execute_result"
    }
   ],
   "source": [
    "x_train_rus.max()"
   ]
  },
  {
   "cell_type": "markdown",
   "id": "bcf98b8e",
   "metadata": {},
   "source": [
    "----------------------------------------------------------------------"
   ]
  },
  {
   "cell_type": "markdown",
   "id": "1ee480c1",
   "metadata": {},
   "source": [
    "# Model Building"
   ]
  },
  {
   "cell_type": "markdown",
   "id": "30e5863b",
   "metadata": {},
   "source": [
    "# Model Selection using Recall, Precision Sore using 'cross_validate' from sklearn\n",
    "\n",
    "\n",
    "   ### sklearn.model_selection.cross_validate\n",
    "\n",
    "   - To evaluate metric(s) by cross-validation and also record fit/score times.\n",
    "     \n",
    "   - Syntax:\n",
    "           cross_validate(estimator, X, y, cv, scoring)\n",
    "\n",
    "\n",
    "\n",
    "   - NOTE:\n",
    "       - **cv = cvint, cross-validation generator or an iterable, default=None**\n",
    "       - For int/None inputs, **if the estimator is a classifier and y is either binary** or multiclass, **StratifiedKFold is used**. In all other cases, KFold is used. These splitters are instantiated with shuffle=False so the splits will be the same across calls."
   ]
  },
  {
   "cell_type": "code",
   "execution_count": 22,
   "id": "ceb02046",
   "metadata": {},
   "outputs": [],
   "source": [
    "# Cross Validation \n",
    "logreg_balanced_sm = cross_validate(LogisticRegression(random_state=21), x_train_sm, y_train_sm, cv=5, scoring=['recall', 'precision'])\n",
    "logreg_balanced_rus = cross_validate(LogisticRegression(random_state=21), x_train_rus, y_train_rus, cv=5, scoring=['recall', 'precision'])\n",
    "logreg_unbalanced = cross_validate(LogisticRegression(random_state=21), x_train_scaled, y_train, cv=5, scoring=['recall', 'precision'])\n",
    "\n",
    "\n",
    "svm_balanced_sm = cross_validate(SVC(random_state=21), x_train_sm, y_train_sm, cv=5, scoring=['recall', 'precision'])\n",
    "svm_balanced_rus = cross_validate(SVC(random_state=21), x_train_rus, y_train_rus, cv=5, scoring=['recall', 'precision'])\n",
    "svm_unbalanced = cross_validate(SVC(random_state=21),  x_train_scaled, y_train, cv=5, scoring=['recall', 'precision'])"
   ]
  },
  {
   "cell_type": "code",
   "execution_count": 23,
   "id": "7c73d24a",
   "metadata": {},
   "outputs": [],
   "source": [
    "dtree_balanced_sm = cross_validate(DecisionTreeClassifier(random_state=21), x_train_sm, y_train_sm, cv=5, scoring=['recall', 'precision'])\n",
    "dtree_balanced_rus = cross_validate(DecisionTreeClassifier(random_state=21), x_train_rus, y_train_rus, cv=5, scoring=['recall', 'precision'])\n",
    "dtree_unbalanced = cross_validate(DecisionTreeClassifier(random_state=21), x_train_scaled, y_train, cv=5, scoring=['recall', 'precision'])\n",
    "\n",
    "\n",
    "rf_balanced_sm = cross_validate(RandomForestClassifier(random_state=21), x_train_sm, y_train_sm, cv=5, scoring=['recall', 'precision'])\n",
    "rf_balanced_rus = cross_validate(RandomForestClassifier(random_state=21), x_train_rus, y_train_rus, cv=5, scoring=['recall', 'precision'])\n",
    "rf_unbalanced = cross_validate(RandomForestClassifier(random_state=21),  x_train_scaled, y_train, cv=5, scoring=['recall', 'precision'])"
   ]
  },
  {
   "cell_type": "code",
   "execution_count": 24,
   "id": "b035de03",
   "metadata": {},
   "outputs": [],
   "source": [
    "gbm_balanced_sm = cross_validate(GradientBoostingClassifier(random_state=21),x_train_sm, y_train_sm, cv=5, scoring=['recall', 'precision'])\n",
    "gbm_balanced_rus = cross_validate(GradientBoostingClassifier(random_state=21), x_train_rus, y_train_rus, cv=5, scoring=['recall', 'precision'])\n",
    "gbm_unbalanced = cross_validate(GradientBoostingClassifier(random_state=21), x_train_scaled, y_train, cv=5, scoring=['recall', 'precision'])\n",
    "\n",
    "\n",
    "xgb_balanced_sm = cross_validate(XGBClassifier(random_state=21), x_train_sm, y_train_sm, cv=5, scoring=['recall', 'precision'])\n",
    "xgb_balanced_rus = cross_validate(XGBClassifier(random_state=21), x_train_rus, y_train_rus, cv=5, scoring=['recall', 'precision'])\n",
    "xgb_unbalanced = cross_validate(XGBClassifier(random_state=21), x_train_scaled, y_train, cv=5, scoring=['recall', 'precision'])"
   ]
  },
  {
   "cell_type": "code",
   "execution_count": 25,
   "id": "2929941e",
   "metadata": {},
   "outputs": [],
   "source": [
    "# Storing the results in a DataFrame\n",
    "result_summary = pd.DataFrame({\n",
    "            'labels': ['recall', 'precision'],\n",
    "            'logreg_balanced_sm': [logreg_balanced_sm['test_recall'].mean(), logreg_balanced_sm['test_precision'].mean()],\n",
    "            'logreg_balanced_rus': [logreg_balanced_rus['test_recall'].mean(), logreg_balanced_rus['test_precision'].mean()],\n",
    "            'logreg_unbalanced': [logreg_unbalanced['test_recall'].mean(), logreg_unbalanced['test_precision'].mean()],\n",
    "    \n",
    "            'dtrees_balanced_sm': [dtree_balanced_sm['test_recall'].mean(), dtree_balanced_sm['test_precision'].mean()],\n",
    "            'dtrees_balanced_rus': [dtree_balanced_rus['test_recall'].mean(), dtree_balanced_rus['test_precision'].mean()],\n",
    "            'dtrees_unbalanced': [dtree_unbalanced['test_recall'].mean(), dtree_unbalanced['test_precision'].mean()],\n",
    "    \n",
    "            'rf_balanced_sm': [rf_balanced_sm['test_recall'].mean(), rf_balanced_sm['test_precision'].mean()],\n",
    "            'rf_balanced_rus': [rf_balanced_rus['test_recall'].mean(), rf_balanced_rus['test_precision'].mean()],\n",
    "            'rf_unbalanced': [rf_unbalanced['test_recall'].mean(), rf_unbalanced['test_precision'].mean()],\n",
    "    \n",
    "            'svm_balanced_sm': [svm_balanced_sm['test_recall'].mean(), svm_balanced_sm['test_precision'].mean()],\n",
    "            'svm_balanced_rus': [svm_balanced_rus['test_recall'].mean(), svm_balanced_rus['test_precision'].mean()],\n",
    "            'svm_unbalanced': [svm_unbalanced['test_recall'].mean(), svm_unbalanced['test_precision'].mean()],\n",
    "    \n",
    "            'gbm_balanced_sm': [gbm_balanced_sm['test_recall'].mean(), gbm_balanced_sm['test_precision'].mean()],\n",
    "            'gbm_balanced_rus': [gbm_balanced_rus['test_recall'].mean(), gbm_balanced_rus['test_precision'].mean()],\n",
    "            'gbm_unbalanced': [gbm_unbalanced['test_recall'].mean(), gbm_unbalanced['test_precision'].mean()], \n",
    "    \n",
    "            'xgb_balanced_sm': [xgb_balanced_sm['test_recall'].mean(), xgb_balanced_sm['test_precision'].mean()],\n",
    "            'xgb_balanced_rus': [xgb_balanced_rus['test_recall'].mean(), xgb_balanced_rus['test_precision'].mean()],\n",
    "            'xgb_unbalanced': [xgb_unbalanced['test_recall'].mean(), xgb_unbalanced['test_precision'].mean()] \n",
    "            }).set_index('labels')"
   ]
  },
  {
   "cell_type": "code",
   "execution_count": 26,
   "id": "8cdf0a3c",
   "metadata": {
    "scrolled": true
   },
   "outputs": [
    {
     "data": {
      "text/html": [
       "<style type=\"text/css\">\n",
       "#T_c3b9b_row0_col0, #T_c3b9b_row0_col1, #T_c3b9b_row0_col3, #T_c3b9b_row0_col6, #T_c3b9b_row0_col7, #T_c3b9b_row0_col9, #T_c3b9b_row0_col10, #T_c3b9b_row0_col12, #T_c3b9b_row0_col13, #T_c3b9b_row0_col15, #T_c3b9b_row0_col16, #T_c3b9b_row1_col0, #T_c3b9b_row1_col1, #T_c3b9b_row1_col3, #T_c3b9b_row1_col6, #T_c3b9b_row1_col9, #T_c3b9b_row1_col10, #T_c3b9b_row1_col12, #T_c3b9b_row1_col15, #T_c3b9b_row1_col16 {\n",
       "  background-color: lightgreen;\n",
       "}\n",
       "</style>\n",
       "<table id=\"T_c3b9b_\">\n",
       "  <thead>\n",
       "    <tr>\n",
       "      <th class=\"blank level0\" >&nbsp;</th>\n",
       "      <th class=\"col_heading level0 col0\" >logreg_balanced_sm</th>\n",
       "      <th class=\"col_heading level0 col1\" >logreg_balanced_rus</th>\n",
       "      <th class=\"col_heading level0 col2\" >logreg_unbalanced</th>\n",
       "      <th class=\"col_heading level0 col3\" >dtrees_balanced_sm</th>\n",
       "      <th class=\"col_heading level0 col4\" >dtrees_balanced_rus</th>\n",
       "      <th class=\"col_heading level0 col5\" >dtrees_unbalanced</th>\n",
       "      <th class=\"col_heading level0 col6\" >rf_balanced_sm</th>\n",
       "      <th class=\"col_heading level0 col7\" >rf_balanced_rus</th>\n",
       "      <th class=\"col_heading level0 col8\" >rf_unbalanced</th>\n",
       "      <th class=\"col_heading level0 col9\" >svm_balanced_sm</th>\n",
       "      <th class=\"col_heading level0 col10\" >svm_balanced_rus</th>\n",
       "      <th class=\"col_heading level0 col11\" >svm_unbalanced</th>\n",
       "      <th class=\"col_heading level0 col12\" >gbm_balanced_sm</th>\n",
       "      <th class=\"col_heading level0 col13\" >gbm_balanced_rus</th>\n",
       "      <th class=\"col_heading level0 col14\" >gbm_unbalanced</th>\n",
       "      <th class=\"col_heading level0 col15\" >xgb_balanced_sm</th>\n",
       "      <th class=\"col_heading level0 col16\" >xgb_balanced_rus</th>\n",
       "      <th class=\"col_heading level0 col17\" >xgb_unbalanced</th>\n",
       "    </tr>\n",
       "  </thead>\n",
       "  <tbody>\n",
       "    <tr>\n",
       "      <th id=\"T_c3b9b_level0_row0\" class=\"row_heading level0 row0\" >recall</th>\n",
       "      <td id=\"T_c3b9b_row0_col0\" class=\"data row0 col0\" >0.857478</td>\n",
       "      <td id=\"T_c3b9b_row0_col1\" class=\"data row0 col1\" >0.824000</td>\n",
       "      <td id=\"T_c3b9b_row0_col2\" class=\"data row0 col2\" >0.440000</td>\n",
       "      <td id=\"T_c3b9b_row0_col3\" class=\"data row0 col3\" >0.895581</td>\n",
       "      <td id=\"T_c3b9b_row0_col4\" class=\"data row0 col4\" >0.792000</td>\n",
       "      <td id=\"T_c3b9b_row0_col5\" class=\"data row0 col5\" >0.408000</td>\n",
       "      <td id=\"T_c3b9b_row0_col6\" class=\"data row0 col6\" >0.951411</td>\n",
       "      <td id=\"T_c3b9b_row0_col7\" class=\"data row0 col7\" >0.824000</td>\n",
       "      <td id=\"T_c3b9b_row0_col8\" class=\"data row0 col8\" >0.248000</td>\n",
       "      <td id=\"T_c3b9b_row0_col9\" class=\"data row0 col9\" >0.941275</td>\n",
       "      <td id=\"T_c3b9b_row0_col10\" class=\"data row0 col10\" >0.804000</td>\n",
       "      <td id=\"T_c3b9b_row0_col11\" class=\"data row0 col11\" >0.320000</td>\n",
       "      <td id=\"T_c3b9b_row0_col12\" class=\"data row0 col12\" >0.902097</td>\n",
       "      <td id=\"T_c3b9b_row0_col13\" class=\"data row0 col13\" >0.800000</td>\n",
       "      <td id=\"T_c3b9b_row0_col14\" class=\"data row0 col14\" >0.364000</td>\n",
       "      <td id=\"T_c3b9b_row0_col15\" class=\"data row0 col15\" >0.902143</td>\n",
       "      <td id=\"T_c3b9b_row0_col16\" class=\"data row0 col16\" >0.812000</td>\n",
       "      <td id=\"T_c3b9b_row0_col17\" class=\"data row0 col17\" >0.392000</td>\n",
       "    </tr>\n",
       "    <tr>\n",
       "      <th id=\"T_c3b9b_level0_row1\" class=\"row_heading level0 row1\" >precision</th>\n",
       "      <td id=\"T_c3b9b_row1_col0\" class=\"data row1 col0\" >0.831933</td>\n",
       "      <td id=\"T_c3b9b_row1_col1\" class=\"data row1 col1\" >0.801981</td>\n",
       "      <td id=\"T_c3b9b_row1_col2\" class=\"data row1 col2\" >0.651490</td>\n",
       "      <td id=\"T_c3b9b_row1_col3\" class=\"data row1 col3\" >0.870778</td>\n",
       "      <td id=\"T_c3b9b_row1_col4\" class=\"data row1 col4\" >0.713377</td>\n",
       "      <td id=\"T_c3b9b_row1_col5\" class=\"data row1 col5\" >0.391809</td>\n",
       "      <td id=\"T_c3b9b_row1_col6\" class=\"data row1 col6\" >0.932797</td>\n",
       "      <td id=\"T_c3b9b_row1_col7\" class=\"data row1 col7\" >0.796681</td>\n",
       "      <td id=\"T_c3b9b_row1_col8\" class=\"data row1 col8\" >0.688221</td>\n",
       "      <td id=\"T_c3b9b_row1_col9\" class=\"data row1 col9\" >0.874290</td>\n",
       "      <td id=\"T_c3b9b_row1_col10\" class=\"data row1 col10\" >0.801680</td>\n",
       "      <td id=\"T_c3b9b_row1_col11\" class=\"data row1 col11\" >0.715905</td>\n",
       "      <td id=\"T_c3b9b_row1_col12\" class=\"data row1 col12\" >0.920703</td>\n",
       "      <td id=\"T_c3b9b_row1_col13\" class=\"data row1 col13\" >0.785459</td>\n",
       "      <td id=\"T_c3b9b_row1_col14\" class=\"data row1 col14\" >0.666312</td>\n",
       "      <td id=\"T_c3b9b_row1_col15\" class=\"data row1 col15\" >0.932625</td>\n",
       "      <td id=\"T_c3b9b_row1_col16\" class=\"data row1 col16\" >0.802474</td>\n",
       "      <td id=\"T_c3b9b_row1_col17\" class=\"data row1 col17\" >0.606546</td>\n",
       "    </tr>\n",
       "  </tbody>\n",
       "</table>\n"
      ],
      "text/plain": [
       "<pandas.io.formats.style.Styler at 0x1f93e2cb8b0>"
      ]
     },
     "execution_count": 26,
     "metadata": {},
     "output_type": "execute_result"
    }
   ],
   "source": [
    "result_summary.index.name=None\n",
    "     \n",
    "result_summary.style.applymap(lambda x: 'background-color: lightgreen' if x >= 0.8 else '')"
   ]
  },
  {
   "cell_type": "markdown",
   "id": "0633e02d",
   "metadata": {},
   "source": [
    "# Candidate models -\n",
    "- Logestic regression (using SMOTE)\n",
    "- Decision Trees (SMOTE)\n",
    "- Random Forest  - (SMOTE, Random Undersampling)\n",
    "- SVM - (SMOTE)\n",
    "- GBM - (SMOTE)\n",
    "- XGB - (SMOTE)"
   ]
  },
  {
   "cell_type": "markdown",
   "id": "56940dec",
   "metadata": {},
   "source": [
    "# Cross Validation - Stratified KFold"
   ]
  },
  {
   "cell_type": "code",
   "execution_count": 27,
   "id": "1e9d276a",
   "metadata": {},
   "outputs": [],
   "source": [
    "kfold = StratifiedKFold(n_splits=5, shuffle=True, random_state=21)"
   ]
  },
  {
   "cell_type": "markdown",
   "id": "fccc90b1",
   "metadata": {},
   "source": [
    "# 1. Decision Tree Model"
   ]
  },
  {
   "cell_type": "code",
   "execution_count": 28,
   "id": "137ad91a",
   "metadata": {},
   "outputs": [],
   "source": [
    "dtree=DecisionTreeClassifier(criterion='gini',random_state=21)"
   ]
  },
  {
   "cell_type": "markdown",
   "id": "6de5a534",
   "metadata": {},
   "source": [
    "# 1.1 Decision Tree(Using SMOTE)"
   ]
  },
  {
   "cell_type": "code",
   "execution_count": 29,
   "id": "2209bcb6",
   "metadata": {},
   "outputs": [],
   "source": [
    "# Import Grid search function from tuning_fn module\n",
    "from tuning_function import grid_search "
   ]
  },
  {
   "cell_type": "markdown",
   "id": "42e0a0c7",
   "metadata": {},
   "source": [
    "# Grid search\n",
    "from tuning_function import grid_search \n",
    "dt_params = {'max_depth': [3,4,5,6,7], 'max_features':['auto', 'sqrt', 'log2', None],\n",
    "             'min_samples_split': [40,45,50,55,65,75,85],\n",
    "             }\n",
    "# def grid_search(model_name, clf, x_train, y_train, cv_value=5, param_dict=None, s=None)\n",
    "# Using SMOTE dataset\n",
    "grid_search('Decision Tree (Using SMOTE)', dtree, x_train_sm, y_train_sm, cv_value=kfold, param_dict=dt_params, s=21)\n",
    "    "
   ]
  },
  {
   "cell_type": "code",
   "execution_count": 30,
   "id": "7761f121",
   "metadata": {
    "scrolled": true
   },
   "outputs": [
    {
     "data": {
      "text/html": [
       "<style>#sk-container-id-1 {color: black;background-color: white;}#sk-container-id-1 pre{padding: 0;}#sk-container-id-1 div.sk-toggleable {background-color: white;}#sk-container-id-1 label.sk-toggleable__label {cursor: pointer;display: block;width: 100%;margin-bottom: 0;padding: 0.3em;box-sizing: border-box;text-align: center;}#sk-container-id-1 label.sk-toggleable__label-arrow:before {content: \"▸\";float: left;margin-right: 0.25em;color: #696969;}#sk-container-id-1 label.sk-toggleable__label-arrow:hover:before {color: black;}#sk-container-id-1 div.sk-estimator:hover label.sk-toggleable__label-arrow:before {color: black;}#sk-container-id-1 div.sk-toggleable__content {max-height: 0;max-width: 0;overflow: hidden;text-align: left;background-color: #f0f8ff;}#sk-container-id-1 div.sk-toggleable__content pre {margin: 0.2em;color: black;border-radius: 0.25em;background-color: #f0f8ff;}#sk-container-id-1 input.sk-toggleable__control:checked~div.sk-toggleable__content {max-height: 200px;max-width: 100%;overflow: auto;}#sk-container-id-1 input.sk-toggleable__control:checked~label.sk-toggleable__label-arrow:before {content: \"▾\";}#sk-container-id-1 div.sk-estimator input.sk-toggleable__control:checked~label.sk-toggleable__label {background-color: #d4ebff;}#sk-container-id-1 div.sk-label input.sk-toggleable__control:checked~label.sk-toggleable__label {background-color: #d4ebff;}#sk-container-id-1 input.sk-hidden--visually {border: 0;clip: rect(1px 1px 1px 1px);clip: rect(1px, 1px, 1px, 1px);height: 1px;margin: -1px;overflow: hidden;padding: 0;position: absolute;width: 1px;}#sk-container-id-1 div.sk-estimator {font-family: monospace;background-color: #f0f8ff;border: 1px dotted black;border-radius: 0.25em;box-sizing: border-box;margin-bottom: 0.5em;}#sk-container-id-1 div.sk-estimator:hover {background-color: #d4ebff;}#sk-container-id-1 div.sk-parallel-item::after {content: \"\";width: 100%;border-bottom: 1px solid gray;flex-grow: 1;}#sk-container-id-1 div.sk-label:hover label.sk-toggleable__label {background-color: #d4ebff;}#sk-container-id-1 div.sk-serial::before {content: \"\";position: absolute;border-left: 1px solid gray;box-sizing: border-box;top: 0;bottom: 0;left: 50%;z-index: 0;}#sk-container-id-1 div.sk-serial {display: flex;flex-direction: column;align-items: center;background-color: white;padding-right: 0.2em;padding-left: 0.2em;position: relative;}#sk-container-id-1 div.sk-item {position: relative;z-index: 1;}#sk-container-id-1 div.sk-parallel {display: flex;align-items: stretch;justify-content: center;background-color: white;position: relative;}#sk-container-id-1 div.sk-item::before, #sk-container-id-1 div.sk-parallel-item::before {content: \"\";position: absolute;border-left: 1px solid gray;box-sizing: border-box;top: 0;bottom: 0;left: 50%;z-index: -1;}#sk-container-id-1 div.sk-parallel-item {display: flex;flex-direction: column;z-index: 1;position: relative;background-color: white;}#sk-container-id-1 div.sk-parallel-item:first-child::after {align-self: flex-end;width: 50%;}#sk-container-id-1 div.sk-parallel-item:last-child::after {align-self: flex-start;width: 50%;}#sk-container-id-1 div.sk-parallel-item:only-child::after {width: 0;}#sk-container-id-1 div.sk-dashed-wrapped {border: 1px dashed gray;margin: 0 0.4em 0.5em 0.4em;box-sizing: border-box;padding-bottom: 0.4em;background-color: white;}#sk-container-id-1 div.sk-label label {font-family: monospace;font-weight: bold;display: inline-block;line-height: 1.2em;}#sk-container-id-1 div.sk-label-container {text-align: center;}#sk-container-id-1 div.sk-container {/* jupyter's `normalize.less` sets `[hidden] { display: none; }` but bootstrap.min.css set `[hidden] { display: none !important; }` so we also need the `!important` here to be able to override the default hidden behavior on the sphinx rendered scikit-learn.org. See: https://github.com/scikit-learn/scikit-learn/issues/21755 */display: inline-block !important;position: relative;}#sk-container-id-1 div.sk-text-repr-fallback {display: none;}</style><div id=\"sk-container-id-1\" class=\"sk-top-container\"><div class=\"sk-text-repr-fallback\"><pre>DecisionTreeClassifier(max_depth=7, min_samples_split=65, random_state=21)</pre><b>In a Jupyter environment, please rerun this cell to show the HTML representation or trust the notebook. <br />On GitHub, the HTML representation is unable to render, please try loading this page with nbviewer.org.</b></div><div class=\"sk-container\" hidden><div class=\"sk-item\"><div class=\"sk-estimator sk-toggleable\"><input class=\"sk-toggleable__control sk-hidden--visually\" id=\"sk-estimator-id-1\" type=\"checkbox\" checked><label for=\"sk-estimator-id-1\" class=\"sk-toggleable__label sk-toggleable__label-arrow\">DecisionTreeClassifier</label><div class=\"sk-toggleable__content\"><pre>DecisionTreeClassifier(max_depth=7, min_samples_split=65, random_state=21)</pre></div></div></div></div></div>"
      ],
      "text/plain": [
       "DecisionTreeClassifier(max_depth=7, min_samples_split=65, random_state=21)"
      ]
     },
     "execution_count": 30,
     "metadata": {},
     "output_type": "execute_result"
    }
   ],
   "source": [
    "dtree_sm = DecisionTreeClassifier(criterion='gini',random_state=21, max_depth=7, max_features = None, min_samples_split=65)\n",
    "dtree_sm.fit(x_train_sm, y_train_sm)"
   ]
  },
  {
   "cell_type": "code",
   "execution_count": 31,
   "id": "a08ea0f4",
   "metadata": {},
   "outputs": [
    {
     "name": "stdout",
     "output_type": "stream",
     "text": [
      "Training Score:  0.8553008595988538\n",
      "Testing Score:  0.7961165048543689\n"
     ]
    }
   ],
   "source": [
    "# Importing metrics_function(user defined module) to get the metrics\n",
    "import metrics_function as metric_fn\n",
    "\n",
    "# Use this user defined function to get train, test score\n",
    "metric_fn.train_test_score(dtree_sm, x_train_sm, y_train_sm, x_test_scaled, y_test)"
   ]
  },
  {
   "cell_type": "code",
   "execution_count": 32,
   "id": "5ef68090",
   "metadata": {},
   "outputs": [],
   "source": [
    "#prediciton\n",
    "y_pred_tree_sm = dtree_sm.predict(x_test_scaled)\n",
    "y_score_tree_sm = dtree_sm.predict_proba(x_test_scaled)[:,1]"
   ]
  },
  {
   "cell_type": "code",
   "execution_count": 33,
   "id": "9f1c07ad",
   "metadata": {},
   "outputs": [
    {
     "name": "stdout",
     "output_type": "stream",
     "text": [
      "---------------------------------------------------------------------\n",
      "                          Decision Tree (Using SMOTE)                           \n",
      "---------------------------------------------------------------------\n",
      "\n",
      "Confusion Matrix:\n",
      "[[298  51]\n",
      " [ 33  30]]\n",
      "\n",
      "Classification Report:\n",
      "              precision    recall  f1-score   support\n",
      "\n",
      "           0       0.90      0.85      0.88       349\n",
      "           1       0.37      0.48      0.42        63\n",
      "\n",
      "    accuracy                           0.80       412\n",
      "   macro avg       0.64      0.67      0.65       412\n",
      "weighted avg       0.82      0.80      0.81       412\n",
      "\n"
     ]
    },
    {
     "data": {
      "image/png": "[encoded data removed]",
      "text/plain": [
       "<Figure size 432x288 with 1 Axes>"
      ]
     },
     "metadata": {},
     "output_type": "display_data"
    }
   ],
   "source": [
    "# bin_class_metrics(model_name, y_test, y_pred, y_score, metric_output=True, plot_auc_roc=True)\n",
    "dtree_metric_sm = metric_fn.bin_class_metrics('Decision Tree (Using SMOTE)', y_test, y_pred_tree_sm, y_score_tree_sm, metric_output=True, plot_auc_roc=True)"
   ]
  },
  {
   "cell_type": "code",
   "execution_count": 34,
   "id": "523a58c5",
   "metadata": {},
   "outputs": [
    {
     "data": {
      "text/html": [
       "<div>\n",
       "<style scoped>\n",
       "    .dataframe tbody tr th:only-of-type {\n",
       "        vertical-align: middle;\n",
       "    }\n",
       "\n",
       "    .dataframe tbody tr th {\n",
       "        vertical-align: top;\n",
       "    }\n",
       "\n",
       "    .dataframe thead th {\n",
       "        text-align: right;\n",
       "    }\n",
       "</style>\n",
       "<table border=\"1\" class=\"dataframe\">\n",
       "  <thead>\n",
       "    <tr style=\"text-align: right;\">\n",
       "      <th></th>\n",
       "      <th>Decision Tree (Using SMOTE)</th>\n",
       "    </tr>\n",
       "  </thead>\n",
       "  <tbody>\n",
       "    <tr>\n",
       "      <th>Accuracy</th>\n",
       "      <td>0.796117</td>\n",
       "    </tr>\n",
       "    <tr>\n",
       "      <th>Precision</th>\n",
       "      <td>0.370370</td>\n",
       "    </tr>\n",
       "    <tr>\n",
       "      <th>Recall</th>\n",
       "      <td>0.476190</td>\n",
       "    </tr>\n",
       "    <tr>\n",
       "      <th>F1 Score</th>\n",
       "      <td>0.416667</td>\n",
       "    </tr>\n",
       "    <tr>\n",
       "      <th>ROC AUC</th>\n",
       "      <td>0.757038</td>\n",
       "    </tr>\n",
       "  </tbody>\n",
       "</table>\n",
       "</div>"
      ],
      "text/plain": [
       "           Decision Tree (Using SMOTE)\n",
       "Accuracy                      0.796117\n",
       "Precision                     0.370370\n",
       "Recall                        0.476190\n",
       "F1 Score                      0.416667\n",
       "ROC AUC                       0.757038"
      ]
     },
     "execution_count": 34,
     "metadata": {},
     "output_type": "execute_result"
    }
   ],
   "source": [
    "dtree_metric_sm "
   ]
  },
  {
   "cell_type": "markdown",
   "id": "38bdd5c7",
   "metadata": {},
   "source": [
    "# 2 Random Forest Model"
   ]
  },
  {
   "cell_type": "markdown",
   "id": "75708c70",
   "metadata": {},
   "source": [
    "# 2.1 Random Forest for Imbalanced Data in target feature"
   ]
  },
  {
   "cell_type": "code",
   "execution_count": 35,
   "id": "e947b57b",
   "metadata": {},
   "outputs": [],
   "source": [
    "rf=RandomForestClassifier(random_state=21)"
   ]
  },
  {
   "cell_type": "markdown",
   "id": "d3325107",
   "metadata": {},
   "source": [
    "# Grid search\n",
    "\n",
    "rf_params = {'criterion':['gini', 'entropy'], 'max_depth': [3,4,5,6,7], \n",
    "             'max_features':['auto', 'sqrt', 'log2', None],\n",
    "             'min_samples_split': [40,45,50,55,65,75,85],\n",
    "               }\n",
    "# function : grid_search(model_name, clf, x_train, y_train, cv_value=5, param_dict=None, s=None)\n",
    "grid_search('Random Forest Imbalanced Dataset', rf, x_train_scaled, y_train, cv_value=kfold, param_dict=rf_params, s=21)"
   ]
  },
  {
   "cell_type": "code",
   "execution_count": 36,
   "id": "2870bfd3",
   "metadata": {},
   "outputs": [
    {
     "data": {
      "text/html": [
       "<style>#sk-container-id-2 {color: black;background-color: white;}#sk-container-id-2 pre{padding: 0;}#sk-container-id-2 div.sk-toggleable {background-color: white;}#sk-container-id-2 label.sk-toggleable__label {cursor: pointer;display: block;width: 100%;margin-bottom: 0;padding: 0.3em;box-sizing: border-box;text-align: center;}#sk-container-id-2 label.sk-toggleable__label-arrow:before {content: \"▸\";float: left;margin-right: 0.25em;color: #696969;}#sk-container-id-2 label.sk-toggleable__label-arrow:hover:before {color: black;}#sk-container-id-2 div.sk-estimator:hover label.sk-toggleable__label-arrow:before {color: black;}#sk-container-id-2 div.sk-toggleable__content {max-height: 0;max-width: 0;overflow: hidden;text-align: left;background-color: #f0f8ff;}#sk-container-id-2 div.sk-toggleable__content pre {margin: 0.2em;color: black;border-radius: 0.25em;background-color: #f0f8ff;}#sk-container-id-2 input.sk-toggleable__control:checked~div.sk-toggleable__content {max-height: 200px;max-width: 100%;overflow: auto;}#sk-container-id-2 input.sk-toggleable__control:checked~label.sk-toggleable__label-arrow:before {content: \"▾\";}#sk-container-id-2 div.sk-estimator input.sk-toggleable__control:checked~label.sk-toggleable__label {background-color: #d4ebff;}#sk-container-id-2 div.sk-label input.sk-toggleable__control:checked~label.sk-toggleable__label {background-color: #d4ebff;}#sk-container-id-2 input.sk-hidden--visually {border: 0;clip: rect(1px 1px 1px 1px);clip: rect(1px, 1px, 1px, 1px);height: 1px;margin: -1px;overflow: hidden;padding: 0;position: absolute;width: 1px;}#sk-container-id-2 div.sk-estimator {font-family: monospace;background-color: #f0f8ff;border: 1px dotted black;border-radius: 0.25em;box-sizing: border-box;margin-bottom: 0.5em;}#sk-container-id-2 div.sk-estimator:hover {background-color: #d4ebff;}#sk-container-id-2 div.sk-parallel-item::after {content: \"\";width: 100%;border-bottom: 1px solid gray;flex-grow: 1;}#sk-container-id-2 div.sk-label:hover label.sk-toggleable__label {background-color: #d4ebff;}#sk-container-id-2 div.sk-serial::before {content: \"\";position: absolute;border-left: 1px solid gray;box-sizing: border-box;top: 0;bottom: 0;left: 50%;z-index: 0;}#sk-container-id-2 div.sk-serial {display: flex;flex-direction: column;align-items: center;background-color: white;padding-right: 0.2em;padding-left: 0.2em;position: relative;}#sk-container-id-2 div.sk-item {position: relative;z-index: 1;}#sk-container-id-2 div.sk-parallel {display: flex;align-items: stretch;justify-content: center;background-color: white;position: relative;}#sk-container-id-2 div.sk-item::before, #sk-container-id-2 div.sk-parallel-item::before {content: \"\";position: absolute;border-left: 1px solid gray;box-sizing: border-box;top: 0;bottom: 0;left: 50%;z-index: -1;}#sk-container-id-2 div.sk-parallel-item {display: flex;flex-direction: column;z-index: 1;position: relative;background-color: white;}#sk-container-id-2 div.sk-parallel-item:first-child::after {align-self: flex-end;width: 50%;}#sk-container-id-2 div.sk-parallel-item:last-child::after {align-self: flex-start;width: 50%;}#sk-container-id-2 div.sk-parallel-item:only-child::after {width: 0;}#sk-container-id-2 div.sk-dashed-wrapped {border: 1px dashed gray;margin: 0 0.4em 0.5em 0.4em;box-sizing: border-box;padding-bottom: 0.4em;background-color: white;}#sk-container-id-2 div.sk-label label {font-family: monospace;font-weight: bold;display: inline-block;line-height: 1.2em;}#sk-container-id-2 div.sk-label-container {text-align: center;}#sk-container-id-2 div.sk-container {/* jupyter's `normalize.less` sets `[hidden] { display: none; }` but bootstrap.min.css set `[hidden] { display: none !important; }` so we also need the `!important` here to be able to override the default hidden behavior on the sphinx rendered scikit-learn.org. See: https://github.com/scikit-learn/scikit-learn/issues/21755 */display: inline-block !important;position: relative;}#sk-container-id-2 div.sk-text-repr-fallback {display: none;}</style><div id=\"sk-container-id-2\" class=\"sk-top-container\"><div class=\"sk-text-repr-fallback\"><pre>RandomForestClassifier(max_depth=7, max_features=None, min_samples_split=55,\n",
       "                       oob_score=True, random_state=21)</pre><b>In a Jupyter environment, please rerun this cell to show the HTML representation or trust the notebook. <br />On GitHub, the HTML representation is unable to render, please try loading this page with nbviewer.org.</b></div><div class=\"sk-container\" hidden><div class=\"sk-item\"><div class=\"sk-estimator sk-toggleable\"><input class=\"sk-toggleable__control sk-hidden--visually\" id=\"sk-estimator-id-2\" type=\"checkbox\" checked><label for=\"sk-estimator-id-2\" class=\"sk-toggleable__label sk-toggleable__label-arrow\">RandomForestClassifier</label><div class=\"sk-toggleable__content\"><pre>RandomForestClassifier(max_depth=7, max_features=None, min_samples_split=55,\n",
       "                       oob_score=True, random_state=21)</pre></div></div></div></div></div>"
      ],
      "text/plain": [
       "RandomForestClassifier(max_depth=7, max_features=None, min_samples_split=55,\n",
       "                       oob_score=True, random_state=21)"
      ]
     },
     "execution_count": 36,
     "metadata": {},
     "output_type": "execute_result"
    }
   ],
   "source": [
    "# Imbalanced Dataset\n",
    "rf=RandomForestClassifier(criterion='gini',  max_depth=7, min_samples_split=55, max_features=None, oob_score=True, random_state=21)\n",
    "rf.fit(x_train_scaled, y_train)"
   ]
  },
  {
   "cell_type": "code",
   "execution_count": 37,
   "id": "dd7be92d",
   "metadata": {},
   "outputs": [
    {
     "name": "stdout",
     "output_type": "stream",
     "text": [
      "Training Score:  0.8912515188335358\n",
      "Testing Score:  0.8689320388349514\n"
     ]
    }
   ],
   "source": [
    "import metrics_function as metric_fn\n",
    "metric_fn.train_test_score(rf, x_train_scaled, y_train, x_test_scaled, y_test)"
   ]
  },
  {
   "cell_type": "code",
   "execution_count": 38,
   "id": "476cd728",
   "metadata": {},
   "outputs": [],
   "source": [
    "#prediciton\n",
    "y_pred_rf = rf.predict(x_test_scaled)\n",
    "\n",
    "y_score_rf = rf.predict_proba(x_test_scaled)[:,1]"
   ]
  },
  {
   "cell_type": "code",
   "execution_count": 39,
   "id": "5ac5b745",
   "metadata": {},
   "outputs": [
    {
     "name": "stdout",
     "output_type": "stream",
     "text": [
      "---------------------------------------------------------------------\n",
      "                                 Random Forest                                  \n",
      "---------------------------------------------------------------------\n",
      "\n",
      "Confusion Matrix:\n",
      "[[343   6]\n",
      " [ 48  15]]\n",
      "\n",
      "Classification Report:\n",
      "              precision    recall  f1-score   support\n",
      "\n",
      "           0       0.88      0.98      0.93       349\n",
      "           1       0.71      0.24      0.36        63\n",
      "\n",
      "    accuracy                           0.87       412\n",
      "   macro avg       0.80      0.61      0.64       412\n",
      "weighted avg       0.85      0.87      0.84       412\n",
      "\n"
     ]
    },
    {
     "data": {
      "image/png": "[encoded data removed]",
      "text/plain": [
       "<Figure size 432x288 with 1 Axes>"
      ]
     },
     "metadata": {},
     "output_type": "display_data"
    }
   ],
   "source": [
    "# bin_class_metrics(model_name, y_test, y_pred, y_score, metric_output=True, plot_auc_roc=True)\n",
    "rf_metric_imbalanced = metric_fn.bin_class_metrics('Random Forest', y_test, y_pred_rf, y_score_rf, metric_output=True, plot_auc_roc=True)"
   ]
  },
  {
   "cell_type": "code",
   "execution_count": 40,
   "id": "0a14d372",
   "metadata": {},
   "outputs": [
    {
     "data": {
      "text/html": [
       "<div>\n",
       "<style scoped>\n",
       "    .dataframe tbody tr th:only-of-type {\n",
       "        vertical-align: middle;\n",
       "    }\n",
       "\n",
       "    .dataframe tbody tr th {\n",
       "        vertical-align: top;\n",
       "    }\n",
       "\n",
       "    .dataframe thead th {\n",
       "        text-align: right;\n",
       "    }\n",
       "</style>\n",
       "<table border=\"1\" class=\"dataframe\">\n",
       "  <thead>\n",
       "    <tr style=\"text-align: right;\">\n",
       "      <th></th>\n",
       "      <th>Random Forest</th>\n",
       "    </tr>\n",
       "  </thead>\n",
       "  <tbody>\n",
       "    <tr>\n",
       "      <th>Accuracy</th>\n",
       "      <td>0.868932</td>\n",
       "    </tr>\n",
       "    <tr>\n",
       "      <th>Precision</th>\n",
       "      <td>0.714286</td>\n",
       "    </tr>\n",
       "    <tr>\n",
       "      <th>Recall</th>\n",
       "      <td>0.238095</td>\n",
       "    </tr>\n",
       "    <tr>\n",
       "      <th>F1 Score</th>\n",
       "      <td>0.357143</td>\n",
       "    </tr>\n",
       "    <tr>\n",
       "      <th>ROC AUC</th>\n",
       "      <td>0.831787</td>\n",
       "    </tr>\n",
       "  </tbody>\n",
       "</table>\n",
       "</div>"
      ],
      "text/plain": [
       "           Random Forest\n",
       "Accuracy        0.868932\n",
       "Precision       0.714286\n",
       "Recall          0.238095\n",
       "F1 Score        0.357143\n",
       "ROC AUC         0.831787"
      ]
     },
     "execution_count": 40,
     "metadata": {},
     "output_type": "execute_result"
    }
   ],
   "source": [
    "rf_metric_imbalanced"
   ]
  },
  {
   "cell_type": "markdown",
   "id": "0378529e",
   "metadata": {},
   "source": [
    "### OOB ERROR RATE"
   ]
  },
  {
   "cell_type": "code",
   "execution_count": 41,
   "id": "45e365a6",
   "metadata": {},
   "outputs": [],
   "source": [
    "rf.set_params(warm_start=True, oob_score=True)\n",
    "\n",
    "n_estimators = 100\n",
    "\n",
    "error_rate = {}\n",
    "\n",
    "for i in range(100, n_estimators+100):\n",
    "    rf.set_params(n_estimators=i)\n",
    "    rf.fit(x_train_scaled, y_train)\n",
    "\n",
    "    oob_error = 1 - rf.oob_score_\n",
    "    error_rate[i] = oob_error"
   ]
  },
  {
   "cell_type": "code",
   "execution_count": 42,
   "id": "bcfadd36",
   "metadata": {},
   "outputs": [],
   "source": [
    "# Convert dictionary to a pandas series for easy plotting \n",
    "oob_series = pd.Series(error_rate)\n"
   ]
  },
  {
   "cell_type": "code",
   "execution_count": 43,
   "id": "e12fd7fd",
   "metadata": {},
   "outputs": [
    {
     "data": {
      "text/plain": [
       "Text(0.5, 1.0, 'OOB Error Rate Across various Forest sizes \\n(From 100+ trees)')"
      ]
     },
     "execution_count": 43,
     "metadata": {},
     "output_type": "execute_result"
    },
    {
     "data": {
      "image/png": "[encoded data removed]",
      "text/plain": [
       "<Figure size 720x720 with 1 Axes>"
      ]
     },
     "metadata": {},
     "output_type": "display_data"
    }
   ],
   "source": [
    "fig, ax = plt.subplots(figsize=(10, 10))\n",
    "\n",
    "ax.set_facecolor('#fafafa')\n",
    "\n",
    "oob_series.plot(kind='line',color = 'red')\n",
    "plt.axhline(0.055, color='#875FDB',linestyle='--')\n",
    "plt.axhline(0.05, color='#875FDB',linestyle='--')\n",
    "plt.xlabel('n_estimators')\n",
    "plt.ylabel('OOB Error Rate')\n",
    "plt.title('OOB Error Rate Across various Forest sizes \\n(From 100+ trees)')"
   ]
  },
  {
   "cell_type": "code",
   "execution_count": 44,
   "id": "6f677713",
   "metadata": {},
   "outputs": [
    {
     "name": "stdout",
     "output_type": "stream",
     "text": [
      "OOB Error rate for 100 trees is: 0.130\n"
     ]
    }
   ],
   "source": [
    "print('OOB Error rate for 100 trees is: {0:.3f}'.format(oob_series[100]))"
   ]
  },
  {
   "cell_type": "markdown",
   "id": "e57b33c0",
   "metadata": {},
   "source": [
    "# 3.2 Random Forest(Using SMOTE)"
   ]
  },
  {
   "cell_type": "markdown",
   "id": "9d953deb",
   "metadata": {},
   "source": [
    "# for smote\n",
    "# function : grid_search(model_name, clf, x_train, y_train, cv_value=5, param_dict=None, s=None)\n",
    "grid_search('Random Forest (using SMOTE)', rf, x_train_sm, y_train_sm, cv_value=kfold, param_dict=rf_params, s=21)"
   ]
  },
  {
   "cell_type": "code",
   "execution_count": 45,
   "id": "9c5a9c1f",
   "metadata": {},
   "outputs": [
    {
     "data": {
      "text/html": [
       "<style>#sk-container-id-3 {color: black;background-color: white;}#sk-container-id-3 pre{padding: 0;}#sk-container-id-3 div.sk-toggleable {background-color: white;}#sk-container-id-3 label.sk-toggleable__label {cursor: pointer;display: block;width: 100%;margin-bottom: 0;padding: 0.3em;box-sizing: border-box;text-align: center;}#sk-container-id-3 label.sk-toggleable__label-arrow:before {content: \"▸\";float: left;margin-right: 0.25em;color: #696969;}#sk-container-id-3 label.sk-toggleable__label-arrow:hover:before {color: black;}#sk-container-id-3 div.sk-estimator:hover label.sk-toggleable__label-arrow:before {color: black;}#sk-container-id-3 div.sk-toggleable__content {max-height: 0;max-width: 0;overflow: hidden;text-align: left;background-color: #f0f8ff;}#sk-container-id-3 div.sk-toggleable__content pre {margin: 0.2em;color: black;border-radius: 0.25em;background-color: #f0f8ff;}#sk-container-id-3 input.sk-toggleable__control:checked~div.sk-toggleable__content {max-height: 200px;max-width: 100%;overflow: auto;}#sk-container-id-3 input.sk-toggleable__control:checked~label.sk-toggleable__label-arrow:before {content: \"▾\";}#sk-container-id-3 div.sk-estimator input.sk-toggleable__control:checked~label.sk-toggleable__label {background-color: #d4ebff;}#sk-container-id-3 div.sk-label input.sk-toggleable__control:checked~label.sk-toggleable__label {background-color: #d4ebff;}#sk-container-id-3 input.sk-hidden--visually {border: 0;clip: rect(1px 1px 1px 1px);clip: rect(1px, 1px, 1px, 1px);height: 1px;margin: -1px;overflow: hidden;padding: 0;position: absolute;width: 1px;}#sk-container-id-3 div.sk-estimator {font-family: monospace;background-color: #f0f8ff;border: 1px dotted black;border-radius: 0.25em;box-sizing: border-box;margin-bottom: 0.5em;}#sk-container-id-3 div.sk-estimator:hover {background-color: #d4ebff;}#sk-container-id-3 div.sk-parallel-item::after {content: \"\";width: 100%;border-bottom: 1px solid gray;flex-grow: 1;}#sk-container-id-3 div.sk-label:hover label.sk-toggleable__label {background-color: #d4ebff;}#sk-container-id-3 div.sk-serial::before {content: \"\";position: absolute;border-left: 1px solid gray;box-sizing: border-box;top: 0;bottom: 0;left: 50%;z-index: 0;}#sk-container-id-3 div.sk-serial {display: flex;flex-direction: column;align-items: center;background-color: white;padding-right: 0.2em;padding-left: 0.2em;position: relative;}#sk-container-id-3 div.sk-item {position: relative;z-index: 1;}#sk-container-id-3 div.sk-parallel {display: flex;align-items: stretch;justify-content: center;background-color: white;position: relative;}#sk-container-id-3 div.sk-item::before, #sk-container-id-3 div.sk-parallel-item::before {content: \"\";position: absolute;border-left: 1px solid gray;box-sizing: border-box;top: 0;bottom: 0;left: 50%;z-index: -1;}#sk-container-id-3 div.sk-parallel-item {display: flex;flex-direction: column;z-index: 1;position: relative;background-color: white;}#sk-container-id-3 div.sk-parallel-item:first-child::after {align-self: flex-end;width: 50%;}#sk-container-id-3 div.sk-parallel-item:last-child::after {align-self: flex-start;width: 50%;}#sk-container-id-3 div.sk-parallel-item:only-child::after {width: 0;}#sk-container-id-3 div.sk-dashed-wrapped {border: 1px dashed gray;margin: 0 0.4em 0.5em 0.4em;box-sizing: border-box;padding-bottom: 0.4em;background-color: white;}#sk-container-id-3 div.sk-label label {font-family: monospace;font-weight: bold;display: inline-block;line-height: 1.2em;}#sk-container-id-3 div.sk-label-container {text-align: center;}#sk-container-id-3 div.sk-container {/* jupyter's `normalize.less` sets `[hidden] { display: none; }` but bootstrap.min.css set `[hidden] { display: none !important; }` so we also need the `!important` here to be able to override the default hidden behavior on the sphinx rendered scikit-learn.org. See: https://github.com/scikit-learn/scikit-learn/issues/21755 */display: inline-block !important;position: relative;}#sk-container-id-3 div.sk-text-repr-fallback {display: none;}</style><div id=\"sk-container-id-3\" class=\"sk-top-container\"><div class=\"sk-text-repr-fallback\"><pre>RandomForestClassifier(criterion=&#x27;entropy&#x27;, max_depth=7, max_features=&#x27;auto&#x27;,\n",
       "                       min_samples_split=40, oob_score=True, random_state=21)</pre><b>In a Jupyter environment, please rerun this cell to show the HTML representation or trust the notebook. <br />On GitHub, the HTML representation is unable to render, please try loading this page with nbviewer.org.</b></div><div class=\"sk-container\" hidden><div class=\"sk-item\"><div class=\"sk-estimator sk-toggleable\"><input class=\"sk-toggleable__control sk-hidden--visually\" id=\"sk-estimator-id-3\" type=\"checkbox\" checked><label for=\"sk-estimator-id-3\" class=\"sk-toggleable__label sk-toggleable__label-arrow\">RandomForestClassifier</label><div class=\"sk-toggleable__content\"><pre>RandomForestClassifier(criterion=&#x27;entropy&#x27;, max_depth=7, max_features=&#x27;auto&#x27;,\n",
       "                       min_samples_split=40, oob_score=True, random_state=21)</pre></div></div></div></div></div>"
      ],
      "text/plain": [
       "RandomForestClassifier(criterion='entropy', max_depth=7, max_features='auto',\n",
       "                       min_samples_split=40, oob_score=True, random_state=21)"
      ]
     },
     "execution_count": 45,
     "metadata": {},
     "output_type": "execute_result"
    }
   ],
   "source": [
    "# Using SMOTE \n",
    "rf_sm=RandomForestClassifier(criterion='entropy',  max_depth=7, min_samples_split=40, max_features='auto', oob_score=True, random_state=21)\n",
    "rf_sm.fit(x_train_sm, y_train_sm)"
   ]
  },
  {
   "cell_type": "code",
   "execution_count": 46,
   "id": "405a1c5e",
   "metadata": {
    "scrolled": true
   },
   "outputs": [
    {
     "name": "stdout",
     "output_type": "stream",
     "text": [
      "Training Score:  0.9319484240687679\n",
      "Testing Score:  0.8300970873786407\n"
     ]
    }
   ],
   "source": [
    "import metrics_function as metric_fn\n",
    "metric_fn.train_test_score(rf_sm, x_train_sm, y_train_sm, x_test_scaled, y_test)"
   ]
  },
  {
   "cell_type": "code",
   "execution_count": 47,
   "id": "d790464d",
   "metadata": {},
   "outputs": [],
   "source": [
    "#prediciton\n",
    "y_pred_rf_sm = rf_sm.predict(x_test_scaled)\n",
    "\n",
    "y_score_rf_sm = rf_sm.predict_proba(x_test_scaled)[:,1]"
   ]
  },
  {
   "cell_type": "code",
   "execution_count": 48,
   "id": "af43d357",
   "metadata": {
    "scrolled": true
   },
   "outputs": [
    {
     "name": "stdout",
     "output_type": "stream",
     "text": [
      "---------------------------------------------------------------------\n",
      "                           Random Forest(using SMOTE)                           \n",
      "---------------------------------------------------------------------\n",
      "\n",
      "Confusion Matrix:\n",
      "[[308  41]\n",
      " [ 29  34]]\n",
      "\n",
      "Classification Report:\n",
      "              precision    recall  f1-score   support\n",
      "\n",
      "           0       0.91      0.88      0.90       349\n",
      "           1       0.45      0.54      0.49        63\n",
      "\n",
      "    accuracy                           0.83       412\n",
      "   macro avg       0.68      0.71      0.70       412\n",
      "weighted avg       0.84      0.83      0.84       412\n",
      "\n"
     ]
    },
    {
     "data": {
      "image/png": "[encoded data removed]",
      "text/plain": [
       "<Figure size 432x288 with 1 Axes>"
      ]
     },
     "metadata": {},
     "output_type": "display_data"
    }
   ],
   "source": [
    "# bin_class_metrics(model_name, y_test, y_pred, y_score, metric_output=True, plot_auc_roc=True)\n",
    "rf_metric_sm = metric_fn.bin_class_metrics('Random Forest(using SMOTE)', y_test, y_pred_rf_sm, y_score_rf_sm, metric_output=True, plot_auc_roc=True)"
   ]
  },
  {
   "cell_type": "code",
   "execution_count": 49,
   "id": "4e69d477",
   "metadata": {},
   "outputs": [
    {
     "data": {
      "text/html": [
       "<div>\n",
       "<style scoped>\n",
       "    .dataframe tbody tr th:only-of-type {\n",
       "        vertical-align: middle;\n",
       "    }\n",
       "\n",
       "    .dataframe tbody tr th {\n",
       "        vertical-align: top;\n",
       "    }\n",
       "\n",
       "    .dataframe thead th {\n",
       "        text-align: right;\n",
       "    }\n",
       "</style>\n",
       "<table border=\"1\" class=\"dataframe\">\n",
       "  <thead>\n",
       "    <tr style=\"text-align: right;\">\n",
       "      <th></th>\n",
       "      <th>Random Forest(using SMOTE)</th>\n",
       "    </tr>\n",
       "  </thead>\n",
       "  <tbody>\n",
       "    <tr>\n",
       "      <th>Accuracy</th>\n",
       "      <td>0.830097</td>\n",
       "    </tr>\n",
       "    <tr>\n",
       "      <th>Precision</th>\n",
       "      <td>0.453333</td>\n",
       "    </tr>\n",
       "    <tr>\n",
       "      <th>Recall</th>\n",
       "      <td>0.539683</td>\n",
       "    </tr>\n",
       "    <tr>\n",
       "      <th>F1 Score</th>\n",
       "      <td>0.492754</td>\n",
       "    </tr>\n",
       "    <tr>\n",
       "      <th>ROC AUC</th>\n",
       "      <td>0.832742</td>\n",
       "    </tr>\n",
       "  </tbody>\n",
       "</table>\n",
       "</div>"
      ],
      "text/plain": [
       "           Random Forest(using SMOTE)\n",
       "Accuracy                     0.830097\n",
       "Precision                    0.453333\n",
       "Recall                       0.539683\n",
       "F1 Score                     0.492754\n",
       "ROC AUC                      0.832742"
      ]
     },
     "execution_count": 49,
     "metadata": {},
     "output_type": "execute_result"
    }
   ],
   "source": [
    "rf_metric_sm"
   ]
  },
  {
   "cell_type": "markdown",
   "id": "e3ab4779",
   "metadata": {},
   "source": [
    "# 3.3 Random Forest (Using Random Undersampling)"
   ]
  },
  {
   "cell_type": "markdown",
   "id": "33ed5f8d",
   "metadata": {},
   "source": [
    "# Using Random Undersampling\n",
    "# function : grid_search(model_name, clf, x_train, y_train, cv_value=5, param_dict=None, s=None)\n",
    "grid_search('Random Forest (using Random Undersampling)', rf, x_train_rus, y_train_rus, cv_value=kfold, param_dict=rf_params, s=21)"
   ]
  },
  {
   "cell_type": "code",
   "execution_count": 50,
   "id": "a84e0d5c",
   "metadata": {},
   "outputs": [
    {
     "data": {
      "text/html": [
       "<style>#sk-container-id-4 {color: black;background-color: white;}#sk-container-id-4 pre{padding: 0;}#sk-container-id-4 div.sk-toggleable {background-color: white;}#sk-container-id-4 label.sk-toggleable__label {cursor: pointer;display: block;width: 100%;margin-bottom: 0;padding: 0.3em;box-sizing: border-box;text-align: center;}#sk-container-id-4 label.sk-toggleable__label-arrow:before {content: \"▸\";float: left;margin-right: 0.25em;color: #696969;}#sk-container-id-4 label.sk-toggleable__label-arrow:hover:before {color: black;}#sk-container-id-4 div.sk-estimator:hover label.sk-toggleable__label-arrow:before {color: black;}#sk-container-id-4 div.sk-toggleable__content {max-height: 0;max-width: 0;overflow: hidden;text-align: left;background-color: #f0f8ff;}#sk-container-id-4 div.sk-toggleable__content pre {margin: 0.2em;color: black;border-radius: 0.25em;background-color: #f0f8ff;}#sk-container-id-4 input.sk-toggleable__control:checked~div.sk-toggleable__content {max-height: 200px;max-width: 100%;overflow: auto;}#sk-container-id-4 input.sk-toggleable__control:checked~label.sk-toggleable__label-arrow:before {content: \"▾\";}#sk-container-id-4 div.sk-estimator input.sk-toggleable__control:checked~label.sk-toggleable__label {background-color: #d4ebff;}#sk-container-id-4 div.sk-label input.sk-toggleable__control:checked~label.sk-toggleable__label {background-color: #d4ebff;}#sk-container-id-4 input.sk-hidden--visually {border: 0;clip: rect(1px 1px 1px 1px);clip: rect(1px, 1px, 1px, 1px);height: 1px;margin: -1px;overflow: hidden;padding: 0;position: absolute;width: 1px;}#sk-container-id-4 div.sk-estimator {font-family: monospace;background-color: #f0f8ff;border: 1px dotted black;border-radius: 0.25em;box-sizing: border-box;margin-bottom: 0.5em;}#sk-container-id-4 div.sk-estimator:hover {background-color: #d4ebff;}#sk-container-id-4 div.sk-parallel-item::after {content: \"\";width: 100%;border-bottom: 1px solid gray;flex-grow: 1;}#sk-container-id-4 div.sk-label:hover label.sk-toggleable__label {background-color: #d4ebff;}#sk-container-id-4 div.sk-serial::before {content: \"\";position: absolute;border-left: 1px solid gray;box-sizing: border-box;top: 0;bottom: 0;left: 50%;z-index: 0;}#sk-container-id-4 div.sk-serial {display: flex;flex-direction: column;align-items: center;background-color: white;padding-right: 0.2em;padding-left: 0.2em;position: relative;}#sk-container-id-4 div.sk-item {position: relative;z-index: 1;}#sk-container-id-4 div.sk-parallel {display: flex;align-items: stretch;justify-content: center;background-color: white;position: relative;}#sk-container-id-4 div.sk-item::before, #sk-container-id-4 div.sk-parallel-item::before {content: \"\";position: absolute;border-left: 1px solid gray;box-sizing: border-box;top: 0;bottom: 0;left: 50%;z-index: -1;}#sk-container-id-4 div.sk-parallel-item {display: flex;flex-direction: column;z-index: 1;position: relative;background-color: white;}#sk-container-id-4 div.sk-parallel-item:first-child::after {align-self: flex-end;width: 50%;}#sk-container-id-4 div.sk-parallel-item:last-child::after {align-self: flex-start;width: 50%;}#sk-container-id-4 div.sk-parallel-item:only-child::after {width: 0;}#sk-container-id-4 div.sk-dashed-wrapped {border: 1px dashed gray;margin: 0 0.4em 0.5em 0.4em;box-sizing: border-box;padding-bottom: 0.4em;background-color: white;}#sk-container-id-4 div.sk-label label {font-family: monospace;font-weight: bold;display: inline-block;line-height: 1.2em;}#sk-container-id-4 div.sk-label-container {text-align: center;}#sk-container-id-4 div.sk-container {/* jupyter's `normalize.less` sets `[hidden] { display: none; }` but bootstrap.min.css set `[hidden] { display: none !important; }` so we also need the `!important` here to be able to override the default hidden behavior on the sphinx rendered scikit-learn.org. See: https://github.com/scikit-learn/scikit-learn/issues/21755 */display: inline-block !important;position: relative;}#sk-container-id-4 div.sk-text-repr-fallback {display: none;}</style><div id=\"sk-container-id-4\" class=\"sk-top-container\"><div class=\"sk-text-repr-fallback\"><pre>RandomForestClassifier(max_depth=6, max_features=None, min_samples_split=65,\n",
       "                       oob_score=True, random_state=21)</pre><b>In a Jupyter environment, please rerun this cell to show the HTML representation or trust the notebook. <br />On GitHub, the HTML representation is unable to render, please try loading this page with nbviewer.org.</b></div><div class=\"sk-container\" hidden><div class=\"sk-item\"><div class=\"sk-estimator sk-toggleable\"><input class=\"sk-toggleable__control sk-hidden--visually\" id=\"sk-estimator-id-4\" type=\"checkbox\" checked><label for=\"sk-estimator-id-4\" class=\"sk-toggleable__label sk-toggleable__label-arrow\">RandomForestClassifier</label><div class=\"sk-toggleable__content\"><pre>RandomForestClassifier(max_depth=6, max_features=None, min_samples_split=65,\n",
       "                       oob_score=True, random_state=21)</pre></div></div></div></div></div>"
      ],
      "text/plain": [
       "RandomForestClassifier(max_depth=6, max_features=None, min_samples_split=65,\n",
       "                       oob_score=True, random_state=21)"
      ]
     },
     "execution_count": 50,
     "metadata": {},
     "output_type": "execute_result"
    }
   ],
   "source": [
    "# Balanced Dataset\n",
    "rf_rus=RandomForestClassifier(criterion='gini',  max_depth=6, min_samples_split=65, max_features=None, oob_score=True, random_state=21)\n",
    "rf_rus.fit(x_train_rus, y_train_rus)"
   ]
  },
  {
   "cell_type": "code",
   "execution_count": 51,
   "id": "8d5b8fbc",
   "metadata": {},
   "outputs": [
    {
     "name": "stdout",
     "output_type": "stream",
     "text": [
      "Training Score:  0.848\n",
      "Testing Score:  0.7718446601941747\n"
     ]
    }
   ],
   "source": [
    "import metrics_function as metric_fn\n",
    "metric_fn.train_test_score(rf_rus, x_train_rus, y_train_rus, x_test_scaled, y_test)"
   ]
  },
  {
   "cell_type": "code",
   "execution_count": 52,
   "id": "e93b1c88",
   "metadata": {},
   "outputs": [],
   "source": [
    "#prediciton\n",
    "y_pred_rf_rus = rf_rus.predict(x_test_scaled)\n",
    "\n",
    "y_score_rf_rus = rf_rus.predict_proba(x_test_scaled)[:,1]"
   ]
  },
  {
   "cell_type": "code",
   "execution_count": 53,
   "id": "e4f5b9dd",
   "metadata": {},
   "outputs": [
    {
     "name": "stdout",
     "output_type": "stream",
     "text": [
      "---------------------------------------------------------------------\n",
      "                   Random Forest(using Random Undersampling)                    \n",
      "---------------------------------------------------------------------\n",
      "\n",
      "Confusion Matrix:\n",
      "[[274  75]\n",
      " [ 19  44]]\n",
      "\n",
      "Classification Report:\n",
      "              precision    recall  f1-score   support\n",
      "\n",
      "           0       0.94      0.79      0.85       349\n",
      "           1       0.37      0.70      0.48        63\n",
      "\n",
      "    accuracy                           0.77       412\n",
      "   macro avg       0.65      0.74      0.67       412\n",
      "weighted avg       0.85      0.77      0.80       412\n",
      "\n"
     ]
    },
    {
     "data": {
      "image/png": "[encoded data removed]",
      "text/plain": [
       "<Figure size 432x288 with 1 Axes>"
      ]
     },
     "metadata": {},
     "output_type": "display_data"
    }
   ],
   "source": [
    "# bin_class_metrics(model_name, y_test, y_pred, y_score, metric_output=True, plot_auc_roc=True)\n",
    "rf_metric_rus = metric_fn.bin_class_metrics('Random Forest(using Random Undersampling)', y_test, y_pred_rf_rus, y_score_rf_rus, metric_output=True, plot_auc_roc=True)"
   ]
  },
  {
   "cell_type": "code",
   "execution_count": 54,
   "id": "98ef245d",
   "metadata": {},
   "outputs": [
    {
     "data": {
      "text/html": [
       "<div>\n",
       "<style scoped>\n",
       "    .dataframe tbody tr th:only-of-type {\n",
       "        vertical-align: middle;\n",
       "    }\n",
       "\n",
       "    .dataframe tbody tr th {\n",
       "        vertical-align: top;\n",
       "    }\n",
       "\n",
       "    .dataframe thead th {\n",
       "        text-align: right;\n",
       "    }\n",
       "</style>\n",
       "<table border=\"1\" class=\"dataframe\">\n",
       "  <thead>\n",
       "    <tr style=\"text-align: right;\">\n",
       "      <th></th>\n",
       "      <th>Random Forest(using Random Undersampling)</th>\n",
       "    </tr>\n",
       "  </thead>\n",
       "  <tbody>\n",
       "    <tr>\n",
       "      <th>Accuracy</th>\n",
       "      <td>0.771845</td>\n",
       "    </tr>\n",
       "    <tr>\n",
       "      <th>Precision</th>\n",
       "      <td>0.369748</td>\n",
       "    </tr>\n",
       "    <tr>\n",
       "      <th>Recall</th>\n",
       "      <td>0.698413</td>\n",
       "    </tr>\n",
       "    <tr>\n",
       "      <th>F1 Score</th>\n",
       "      <td>0.483516</td>\n",
       "    </tr>\n",
       "    <tr>\n",
       "      <th>ROC AUC</th>\n",
       "      <td>0.820280</td>\n",
       "    </tr>\n",
       "  </tbody>\n",
       "</table>\n",
       "</div>"
      ],
      "text/plain": [
       "           Random Forest(using Random Undersampling)\n",
       "Accuracy                                    0.771845\n",
       "Precision                                   0.369748\n",
       "Recall                                      0.698413\n",
       "F1 Score                                    0.483516\n",
       "ROC AUC                                     0.820280"
      ]
     },
     "execution_count": 54,
     "metadata": {},
     "output_type": "execute_result"
    }
   ],
   "source": [
    "rf_metric_rus"
   ]
  },
  {
   "cell_type": "markdown",
   "id": "0d32a2ea",
   "metadata": {},
   "source": [
    "# 3 Gradient Boosting Model"
   ]
  },
  {
   "cell_type": "code",
   "execution_count": 55,
   "id": "a129efd8",
   "metadata": {},
   "outputs": [],
   "source": [
    "gbm=GradientBoostingClassifier(criterion='friedman_mse',random_state=21)"
   ]
  },
  {
   "cell_type": "markdown",
   "id": "6cf6d43b",
   "metadata": {},
   "source": [
    "## 3.1 Gradient Boosting Model(Using SMOTE)"
   ]
  },
  {
   "cell_type": "markdown",
   "id": "6bd8f218",
   "metadata": {},
   "source": [
    "# Grid search\n",
    "from tuning_function import grid_search \n",
    "gbm_params = {'learning_rate' : [0.15, 0.10, 0.05, 0.01, 0.005, 0.001],\n",
    "             'max_depth': [3,4,5,6,7], 'max_features':['auto', 'sqrt', 'log2', None], \n",
    "             'min_samples_split': [40,45,50,55,65,75,85]\n",
    "               }\n",
    "# function : grid_search(model_name, clf, x_train, y_train, cv_value=5, param_dict=None, s=None)\n",
    "grid_search('Gradient Boosting Model(Using SMOTE)', gbm, x_train_sm, y_train_sm, cv_value=kfold, param_dict=gbm_params, s=21)"
   ]
  },
  {
   "cell_type": "code",
   "execution_count": 56,
   "id": "95e3ed9f",
   "metadata": {},
   "outputs": [
    {
     "data": {
      "text/html": [
       "<style>#sk-container-id-5 {color: black;background-color: white;}#sk-container-id-5 pre{padding: 0;}#sk-container-id-5 div.sk-toggleable {background-color: white;}#sk-container-id-5 label.sk-toggleable__label {cursor: pointer;display: block;width: 100%;margin-bottom: 0;padding: 0.3em;box-sizing: border-box;text-align: center;}#sk-container-id-5 label.sk-toggleable__label-arrow:before {content: \"▸\";float: left;margin-right: 0.25em;color: #696969;}#sk-container-id-5 label.sk-toggleable__label-arrow:hover:before {color: black;}#sk-container-id-5 div.sk-estimator:hover label.sk-toggleable__label-arrow:before {color: black;}#sk-container-id-5 div.sk-toggleable__content {max-height: 0;max-width: 0;overflow: hidden;text-align: left;background-color: #f0f8ff;}#sk-container-id-5 div.sk-toggleable__content pre {margin: 0.2em;color: black;border-radius: 0.25em;background-color: #f0f8ff;}#sk-container-id-5 input.sk-toggleable__control:checked~div.sk-toggleable__content {max-height: 200px;max-width: 100%;overflow: auto;}#sk-container-id-5 input.sk-toggleable__control:checked~label.sk-toggleable__label-arrow:before {content: \"▾\";}#sk-container-id-5 div.sk-estimator input.sk-toggleable__control:checked~label.sk-toggleable__label {background-color: #d4ebff;}#sk-container-id-5 div.sk-label input.sk-toggleable__control:checked~label.sk-toggleable__label {background-color: #d4ebff;}#sk-container-id-5 input.sk-hidden--visually {border: 0;clip: rect(1px 1px 1px 1px);clip: rect(1px, 1px, 1px, 1px);height: 1px;margin: -1px;overflow: hidden;padding: 0;position: absolute;width: 1px;}#sk-container-id-5 div.sk-estimator {font-family: monospace;background-color: #f0f8ff;border: 1px dotted black;border-radius: 0.25em;box-sizing: border-box;margin-bottom: 0.5em;}#sk-container-id-5 div.sk-estimator:hover {background-color: #d4ebff;}#sk-container-id-5 div.sk-parallel-item::after {content: \"\";width: 100%;border-bottom: 1px solid gray;flex-grow: 1;}#sk-container-id-5 div.sk-label:hover label.sk-toggleable__label {background-color: #d4ebff;}#sk-container-id-5 div.sk-serial::before {content: \"\";position: absolute;border-left: 1px solid gray;box-sizing: border-box;top: 0;bottom: 0;left: 50%;z-index: 0;}#sk-container-id-5 div.sk-serial {display: flex;flex-direction: column;align-items: center;background-color: white;padding-right: 0.2em;padding-left: 0.2em;position: relative;}#sk-container-id-5 div.sk-item {position: relative;z-index: 1;}#sk-container-id-5 div.sk-parallel {display: flex;align-items: stretch;justify-content: center;background-color: white;position: relative;}#sk-container-id-5 div.sk-item::before, #sk-container-id-5 div.sk-parallel-item::before {content: \"\";position: absolute;border-left: 1px solid gray;box-sizing: border-box;top: 0;bottom: 0;left: 50%;z-index: -1;}#sk-container-id-5 div.sk-parallel-item {display: flex;flex-direction: column;z-index: 1;position: relative;background-color: white;}#sk-container-id-5 div.sk-parallel-item:first-child::after {align-self: flex-end;width: 50%;}#sk-container-id-5 div.sk-parallel-item:last-child::after {align-self: flex-start;width: 50%;}#sk-container-id-5 div.sk-parallel-item:only-child::after {width: 0;}#sk-container-id-5 div.sk-dashed-wrapped {border: 1px dashed gray;margin: 0 0.4em 0.5em 0.4em;box-sizing: border-box;padding-bottom: 0.4em;background-color: white;}#sk-container-id-5 div.sk-label label {font-family: monospace;font-weight: bold;display: inline-block;line-height: 1.2em;}#sk-container-id-5 div.sk-label-container {text-align: center;}#sk-container-id-5 div.sk-container {/* jupyter's `normalize.less` sets `[hidden] { display: none; }` but bootstrap.min.css set `[hidden] { display: none !important; }` so we also need the `!important` here to be able to override the default hidden behavior on the sphinx rendered scikit-learn.org. See: https://github.com/scikit-learn/scikit-learn/issues/21755 */display: inline-block !important;position: relative;}#sk-container-id-5 div.sk-text-repr-fallback {display: none;}</style><div id=\"sk-container-id-5\" class=\"sk-top-container\"><div class=\"sk-text-repr-fallback\"><pre>GradientBoostingClassifier(learning_rate=0.15, max_depth=7, max_features=&#x27;log2&#x27;,\n",
       "                           min_samples_split=45, random_state=21,\n",
       "                           warm_start=True)</pre><b>In a Jupyter environment, please rerun this cell to show the HTML representation or trust the notebook. <br />On GitHub, the HTML representation is unable to render, please try loading this page with nbviewer.org.</b></div><div class=\"sk-container\" hidden><div class=\"sk-item\"><div class=\"sk-estimator sk-toggleable\"><input class=\"sk-toggleable__control sk-hidden--visually\" id=\"sk-estimator-id-5\" type=\"checkbox\" checked><label for=\"sk-estimator-id-5\" class=\"sk-toggleable__label sk-toggleable__label-arrow\">GradientBoostingClassifier</label><div class=\"sk-toggleable__content\"><pre>GradientBoostingClassifier(learning_rate=0.15, max_depth=7, max_features=&#x27;log2&#x27;,\n",
       "                           min_samples_split=45, random_state=21,\n",
       "                           warm_start=True)</pre></div></div></div></div></div>"
      ],
      "text/plain": [
       "GradientBoostingClassifier(learning_rate=0.15, max_depth=7, max_features='log2',\n",
       "                           min_samples_split=45, random_state=21,\n",
       "                           warm_start=True)"
      ]
     },
     "execution_count": 56,
     "metadata": {},
     "output_type": "execute_result"
    }
   ],
   "source": [
    "gbm_sm=GradientBoostingClassifier(criterion='friedman_mse', learning_rate = 0.15, max_depth=7, min_samples_split=45, max_features= 'log2', warm_start= True, random_state=21)\n",
    "gbm_sm.fit(x_train_sm,y_train_sm)"
   ]
  },
  {
   "cell_type": "code",
   "execution_count": 57,
   "id": "c46bebba",
   "metadata": {},
   "outputs": [
    {
     "name": "stdout",
     "output_type": "stream",
     "text": [
      "Training Score:  0.9960601719197708\n",
      "Testing Score:  0.8592233009708737\n"
     ]
    }
   ],
   "source": [
    "import metrics_function as metric_fn\n",
    "metric_fn.train_test_score(gbm_sm, x_train_sm, y_train_sm, x_test_scaled, y_test)"
   ]
  },
  {
   "cell_type": "code",
   "execution_count": 58,
   "id": "86bd5bbe",
   "metadata": {},
   "outputs": [],
   "source": [
    "#prediciton\n",
    "y_pred_gbm_sm = gbm_sm.predict(x_test_scaled)\n",
    "\n",
    "y_score_gbm_sm = gbm_sm.predict_proba(x_test_scaled)[:,1]"
   ]
  },
  {
   "cell_type": "markdown",
   "id": "f69aa2a1",
   "metadata": {},
   "source": [
    "y_score_gbm_sm"
   ]
  },
  {
   "cell_type": "code",
   "execution_count": 59,
   "id": "5e5fb2d6",
   "metadata": {},
   "outputs": [
    {
     "name": "stdout",
     "output_type": "stream",
     "text": [
      "---------------------------------------------------------------------\n",
      "                   Gradient Boosting Classifier (Using SMOTE)                   \n",
      "---------------------------------------------------------------------\n",
      "\n",
      "Confusion Matrix:\n",
      "[[329  20]\n",
      " [ 38  25]]\n",
      "\n",
      "Classification Report:\n",
      "              precision    recall  f1-score   support\n",
      "\n",
      "           0       0.90      0.94      0.92       349\n",
      "           1       0.56      0.40      0.46        63\n",
      "\n",
      "    accuracy                           0.86       412\n",
      "   macro avg       0.73      0.67      0.69       412\n",
      "weighted avg       0.84      0.86      0.85       412\n",
      "\n"
     ]
    },
    {
     "data": {
      "image/png": "[encoded data removed]",
      "text/plain": [
       "<Figure size 432x288 with 1 Axes>"
      ]
     },
     "metadata": {},
     "output_type": "display_data"
    }
   ],
   "source": [
    "# bin_class_metrics(model_name, y_test, y_pred, y_score, metric_output=True, plot_auc_roc=True)\n",
    "gbm_sm_metric = metric_fn.bin_class_metrics('Gradient Boosting Classifier (Using SMOTE)', y_test, y_pred_gbm_sm, y_score_gbm_sm, metric_output=True, plot_auc_roc=True)"
   ]
  },
  {
   "cell_type": "code",
   "execution_count": 60,
   "id": "be3fe229",
   "metadata": {
    "scrolled": true
   },
   "outputs": [
    {
     "data": {
      "text/html": [
       "<div>\n",
       "<style scoped>\n",
       "    .dataframe tbody tr th:only-of-type {\n",
       "        vertical-align: middle;\n",
       "    }\n",
       "\n",
       "    .dataframe tbody tr th {\n",
       "        vertical-align: top;\n",
       "    }\n",
       "\n",
       "    .dataframe thead th {\n",
       "        text-align: right;\n",
       "    }\n",
       "</style>\n",
       "<table border=\"1\" class=\"dataframe\">\n",
       "  <thead>\n",
       "    <tr style=\"text-align: right;\">\n",
       "      <th></th>\n",
       "      <th>Gradient Boosting Classifier (Using SMOTE)</th>\n",
       "    </tr>\n",
       "  </thead>\n",
       "  <tbody>\n",
       "    <tr>\n",
       "      <th>Accuracy</th>\n",
       "      <td>0.859223</td>\n",
       "    </tr>\n",
       "    <tr>\n",
       "      <th>Precision</th>\n",
       "      <td>0.555556</td>\n",
       "    </tr>\n",
       "    <tr>\n",
       "      <th>Recall</th>\n",
       "      <td>0.396825</td>\n",
       "    </tr>\n",
       "    <tr>\n",
       "      <th>F1 Score</th>\n",
       "      <td>0.462963</td>\n",
       "    </tr>\n",
       "    <tr>\n",
       "      <th>ROC AUC</th>\n",
       "      <td>0.851253</td>\n",
       "    </tr>\n",
       "  </tbody>\n",
       "</table>\n",
       "</div>"
      ],
      "text/plain": [
       "           Gradient Boosting Classifier (Using SMOTE)\n",
       "Accuracy                                     0.859223\n",
       "Precision                                    0.555556\n",
       "Recall                                       0.396825\n",
       "F1 Score                                     0.462963\n",
       "ROC AUC                                      0.851253"
      ]
     },
     "execution_count": 60,
     "metadata": {},
     "output_type": "execute_result"
    }
   ],
   "source": [
    "gbm_sm_metric"
   ]
  },
  {
   "cell_type": "markdown",
   "id": "14ce2338",
   "metadata": {},
   "source": [
    "--------------------------------------------------------------------------------------------------------------------------------"
   ]
  },
  {
   "cell_type": "markdown",
   "id": "fc54c74c",
   "metadata": {},
   "source": [
    "# XGB Classifier"
   ]
  },
  {
   "cell_type": "code",
   "execution_count": 61,
   "id": "84b8e9b6",
   "metadata": {},
   "outputs": [],
   "source": [
    "xgb = XGBClassifier(seed=21)"
   ]
  },
  {
   "cell_type": "markdown",
   "id": "5ac201d7",
   "metadata": {},
   "source": [
    "\n",
    "# Grid search\n",
    "from tuning_function import grid_search \n",
    "xgb_params = {'n_estimators':range(50,1001,50), 'max_depth':range(3,8,1),\n",
    "              'min_child_weight':range(1,5,1)\n",
    "               }"
   ]
  },
  {
   "cell_type": "markdown",
   "id": "9245ded1",
   "metadata": {},
   "source": [
    "# function : grid_search(model_name, clf, x_train, y_train, cv_value=5, param_dict=None, s=None)\n",
    "grid_search('XGB (Using SMOTE)', xgb, x_train_sm, y_train_sm, cv_value=kfold, param_dict=xgb_params, s=21)"
   ]
  },
  {
   "cell_type": "markdown",
   "id": "ff49158e",
   "metadata": {},
   "source": [
    "xgb1 = XGBClassifier(n_estimators=150, max_depth=6, min_child_weight=1, seed=21)\n",
    "# Grid search\n",
    "from tuning_function import grid_search \n",
    "xgb_params_1 = {'learning_rate': [0.05, 0.01, 0.1, 0.3],\n",
    "                'gamma' : [i/10.0 for i in range(0,5)]\n",
    "               }"
   ]
  },
  {
   "cell_type": "markdown",
   "id": "39f5dada",
   "metadata": {},
   "source": [
    "# function : grid_search(model_name, clf, x_train, y_train, cv_value=5, param_dict=None, s=None)\n",
    "grid_search('XGB (Using SMOTE)', xgb1, x_train_sm, y_train_sm, cv_value=kfold, param_dict=xgb_params_1, s=21)"
   ]
  },
  {
   "cell_type": "code",
   "execution_count": 62,
   "id": "bee26e6a",
   "metadata": {},
   "outputs": [
    {
     "data": {
      "text/html": [
       "<style>#sk-container-id-6 {color: black;background-color: white;}#sk-container-id-6 pre{padding: 0;}#sk-container-id-6 div.sk-toggleable {background-color: white;}#sk-container-id-6 label.sk-toggleable__label {cursor: pointer;display: block;width: 100%;margin-bottom: 0;padding: 0.3em;box-sizing: border-box;text-align: center;}#sk-container-id-6 label.sk-toggleable__label-arrow:before {content: \"▸\";float: left;margin-right: 0.25em;color: #696969;}#sk-container-id-6 label.sk-toggleable__label-arrow:hover:before {color: black;}#sk-container-id-6 div.sk-estimator:hover label.sk-toggleable__label-arrow:before {color: black;}#sk-container-id-6 div.sk-toggleable__content {max-height: 0;max-width: 0;overflow: hidden;text-align: left;background-color: #f0f8ff;}#sk-container-id-6 div.sk-toggleable__content pre {margin: 0.2em;color: black;border-radius: 0.25em;background-color: #f0f8ff;}#sk-container-id-6 input.sk-toggleable__control:checked~div.sk-toggleable__content {max-height: 200px;max-width: 100%;overflow: auto;}#sk-container-id-6 input.sk-toggleable__control:checked~label.sk-toggleable__label-arrow:before {content: \"▾\";}#sk-container-id-6 div.sk-estimator input.sk-toggleable__control:checked~label.sk-toggleable__label {background-color: #d4ebff;}#sk-container-id-6 div.sk-label input.sk-toggleable__control:checked~label.sk-toggleable__label {background-color: #d4ebff;}#sk-container-id-6 input.sk-hidden--visually {border: 0;clip: rect(1px 1px 1px 1px);clip: rect(1px, 1px, 1px, 1px);height: 1px;margin: -1px;overflow: hidden;padding: 0;position: absolute;width: 1px;}#sk-container-id-6 div.sk-estimator {font-family: monospace;background-color: #f0f8ff;border: 1px dotted black;border-radius: 0.25em;box-sizing: border-box;margin-bottom: 0.5em;}#sk-container-id-6 div.sk-estimator:hover {background-color: #d4ebff;}#sk-container-id-6 div.sk-parallel-item::after {content: \"\";width: 100%;border-bottom: 1px solid gray;flex-grow: 1;}#sk-container-id-6 div.sk-label:hover label.sk-toggleable__label {background-color: #d4ebff;}#sk-container-id-6 div.sk-serial::before {content: \"\";position: absolute;border-left: 1px solid gray;box-sizing: border-box;top: 0;bottom: 0;left: 50%;z-index: 0;}#sk-container-id-6 div.sk-serial {display: flex;flex-direction: column;align-items: center;background-color: white;padding-right: 0.2em;padding-left: 0.2em;position: relative;}#sk-container-id-6 div.sk-item {position: relative;z-index: 1;}#sk-container-id-6 div.sk-parallel {display: flex;align-items: stretch;justify-content: center;background-color: white;position: relative;}#sk-container-id-6 div.sk-item::before, #sk-container-id-6 div.sk-parallel-item::before {content: \"\";position: absolute;border-left: 1px solid gray;box-sizing: border-box;top: 0;bottom: 0;left: 50%;z-index: -1;}#sk-container-id-6 div.sk-parallel-item {display: flex;flex-direction: column;z-index: 1;position: relative;background-color: white;}#sk-container-id-6 div.sk-parallel-item:first-child::after {align-self: flex-end;width: 50%;}#sk-container-id-6 div.sk-parallel-item:last-child::after {align-self: flex-start;width: 50%;}#sk-container-id-6 div.sk-parallel-item:only-child::after {width: 0;}#sk-container-id-6 div.sk-dashed-wrapped {border: 1px dashed gray;margin: 0 0.4em 0.5em 0.4em;box-sizing: border-box;padding-bottom: 0.4em;background-color: white;}#sk-container-id-6 div.sk-label label {font-family: monospace;font-weight: bold;display: inline-block;line-height: 1.2em;}#sk-container-id-6 div.sk-label-container {text-align: center;}#sk-container-id-6 div.sk-container {/* jupyter's `normalize.less` sets `[hidden] { display: none; }` but bootstrap.min.css set `[hidden] { display: none !important; }` so we also need the `!important` here to be able to override the default hidden behavior on the sphinx rendered scikit-learn.org. See: https://github.com/scikit-learn/scikit-learn/issues/21755 */display: inline-block !important;position: relative;}#sk-container-id-6 div.sk-text-repr-fallback {display: none;}</style><div id=\"sk-container-id-6\" class=\"sk-top-container\"><div class=\"sk-text-repr-fallback\"><pre>XGBClassifier(base_score=None, booster=None, callbacks=None,\n",
       "              colsample_bylevel=None, colsample_bynode=None,\n",
       "              colsample_bytree=None, early_stopping_rounds=None,\n",
       "              enable_categorical=False, eval_metric=None, feature_types=None,\n",
       "              gamma=0, gpu_id=None, grow_policy=None, importance_type=None,\n",
       "              interaction_constraints=None, learning_rate=0.3, max_bin=None,\n",
       "              max_cat_threshold=None, max_cat_to_onehot=None,\n",
       "              max_delta_step=None, max_depth=6, max_leaves=None,\n",
       "              min_child_weight=1, missing=nan, monotone_constraints=None,\n",
       "              n_estimators=150, n_jobs=None, num_parallel_tree=None,\n",
       "              predictor=None, random_state=None, ...)</pre><b>In a Jupyter environment, please rerun this cell to show the HTML representation or trust the notebook. <br />On GitHub, the HTML representation is unable to render, please try loading this page with nbviewer.org.</b></div><div class=\"sk-container\" hidden><div class=\"sk-item\"><div class=\"sk-estimator sk-toggleable\"><input class=\"sk-toggleable__control sk-hidden--visually\" id=\"sk-estimator-id-6\" type=\"checkbox\" checked><label for=\"sk-estimator-id-6\" class=\"sk-toggleable__label sk-toggleable__label-arrow\">XGBClassifier</label><div class=\"sk-toggleable__content\"><pre>XGBClassifier(base_score=None, booster=None, callbacks=None,\n",
       "              colsample_bylevel=None, colsample_bynode=None,\n",
       "              colsample_bytree=None, early_stopping_rounds=None,\n",
       "              enable_categorical=False, eval_metric=None, feature_types=None,\n",
       "              gamma=0, gpu_id=None, grow_policy=None, importance_type=None,\n",
       "              interaction_constraints=None, learning_rate=0.3, max_bin=None,\n",
       "              max_cat_threshold=None, max_cat_to_onehot=None,\n",
       "              max_delta_step=None, max_depth=6, max_leaves=None,\n",
       "              min_child_weight=1, missing=nan, monotone_constraints=None,\n",
       "              n_estimators=150, n_jobs=None, num_parallel_tree=None,\n",
       "              predictor=None, random_state=None, ...)</pre></div></div></div></div></div>"
      ],
      "text/plain": [
       "XGBClassifier(base_score=None, booster=None, callbacks=None,\n",
       "              colsample_bylevel=None, colsample_bynode=None,\n",
       "              colsample_bytree=None, early_stopping_rounds=None,\n",
       "              enable_categorical=False, eval_metric=None, feature_types=None,\n",
       "              gamma=0, gpu_id=None, grow_policy=None, importance_type=None,\n",
       "              interaction_constraints=None, learning_rate=0.3, max_bin=None,\n",
       "              max_cat_threshold=None, max_cat_to_onehot=None,\n",
       "              max_delta_step=None, max_depth=6, max_leaves=None,\n",
       "              min_child_weight=1, missing=nan, monotone_constraints=None,\n",
       "              n_estimators=150, n_jobs=None, num_parallel_tree=None,\n",
       "              predictor=None, random_state=None, ...)"
      ]
     },
     "execution_count": 62,
     "metadata": {},
     "output_type": "execute_result"
    }
   ],
   "source": [
    "xgb_sm=XGBClassifier(n_estimators=150, max_depth=6, min_child_weight=1, gamma=0, learning_rate=0.3, seed=21)\n",
    "xgb_sm.fit(x_train_sm, y_train_sm)"
   ]
  },
  {
   "cell_type": "code",
   "execution_count": 63,
   "id": "043babff",
   "metadata": {},
   "outputs": [
    {
     "name": "stdout",
     "output_type": "stream",
     "text": [
      "Training Score:  0.9960601719197708\n",
      "Testing Score:  0.8519417475728155\n"
     ]
    }
   ],
   "source": [
    "import metrics_function as metric_fn\n",
    "metric_fn.train_test_score(xgb_sm, x_train_sm, y_train_sm, x_test_scaled, y_test)"
   ]
  },
  {
   "cell_type": "code",
   "execution_count": 64,
   "id": "ec45ac4a",
   "metadata": {},
   "outputs": [],
   "source": [
    "#prediciton\n",
    "y_pred_xgb_sm = xgb_sm.predict(x_test_scaled)\n",
    "\n",
    "y_score_xgb_sm = xgb_sm.predict_proba(x_test_scaled)[:,1]"
   ]
  },
  {
   "cell_type": "code",
   "execution_count": 65,
   "id": "680df90c",
   "metadata": {},
   "outputs": [
    {
     "name": "stdout",
     "output_type": "stream",
     "text": [
      "---------------------------------------------------------------------\n",
      "                               XGB (Using SMOTE)                                \n",
      "---------------------------------------------------------------------\n",
      "\n",
      "Confusion Matrix:\n",
      "[[323  26]\n",
      " [ 35  28]]\n",
      "\n",
      "Classification Report:\n",
      "              precision    recall  f1-score   support\n",
      "\n",
      "           0       0.90      0.93      0.91       349\n",
      "           1       0.52      0.44      0.48        63\n",
      "\n",
      "    accuracy                           0.85       412\n",
      "   macro avg       0.71      0.68      0.70       412\n",
      "weighted avg       0.84      0.85      0.85       412\n",
      "\n"
     ]
    },
    {
     "data": {
      "image/png": "[encoded data removed]",
      "text/plain": [
       "<Figure size 432x288 with 1 Axes>"
      ]
     },
     "metadata": {},
     "output_type": "display_data"
    }
   ],
   "source": [
    "# bin_class_metrics(model_name, y_test, y_pred, y_score, metric_output=True, plot_auc_roc=True)\n",
    "xgb_sm_metric = metric_fn.bin_class_metrics('XGB (Using SMOTE)', y_test, y_pred_xgb_sm, y_score_xgb_sm, metric_output=True, plot_auc_roc=True)"
   ]
  },
  {
   "cell_type": "code",
   "execution_count": 66,
   "id": "a6ee043c",
   "metadata": {},
   "outputs": [
    {
     "data": {
      "text/html": [
       "<div>\n",
       "<style scoped>\n",
       "    .dataframe tbody tr th:only-of-type {\n",
       "        vertical-align: middle;\n",
       "    }\n",
       "\n",
       "    .dataframe tbody tr th {\n",
       "        vertical-align: top;\n",
       "    }\n",
       "\n",
       "    .dataframe thead th {\n",
       "        text-align: right;\n",
       "    }\n",
       "</style>\n",
       "<table border=\"1\" class=\"dataframe\">\n",
       "  <thead>\n",
       "    <tr style=\"text-align: right;\">\n",
       "      <th></th>\n",
       "      <th>XGB (Using SMOTE)</th>\n",
       "    </tr>\n",
       "  </thead>\n",
       "  <tbody>\n",
       "    <tr>\n",
       "      <th>Accuracy</th>\n",
       "      <td>0.851942</td>\n",
       "    </tr>\n",
       "    <tr>\n",
       "      <th>Precision</th>\n",
       "      <td>0.518519</td>\n",
       "    </tr>\n",
       "    <tr>\n",
       "      <th>Recall</th>\n",
       "      <td>0.444444</td>\n",
       "    </tr>\n",
       "    <tr>\n",
       "      <th>F1 Score</th>\n",
       "      <td>0.478632</td>\n",
       "    </tr>\n",
       "    <tr>\n",
       "      <th>ROC AUC</th>\n",
       "      <td>0.856438</td>\n",
       "    </tr>\n",
       "  </tbody>\n",
       "</table>\n",
       "</div>"
      ],
      "text/plain": [
       "           XGB (Using SMOTE)\n",
       "Accuracy            0.851942\n",
       "Precision           0.518519\n",
       "Recall              0.444444\n",
       "F1 Score            0.478632\n",
       "ROC AUC             0.856438"
      ]
     },
     "execution_count": 66,
     "metadata": {},
     "output_type": "execute_result"
    }
   ],
   "source": [
    "xgb_sm_metric"
   ]
  },
  {
   "cell_type": "markdown",
   "id": "61c98131",
   "metadata": {},
   "source": [
    "# 5 Logistic Regression"
   ]
  },
  {
   "cell_type": "code",
   "execution_count": 67,
   "id": "2a68c6fb",
   "metadata": {},
   "outputs": [],
   "source": [
    "log_reg = LogisticRegression(random_state=21)"
   ]
  },
  {
   "cell_type": "markdown",
   "id": "a98266df",
   "metadata": {},
   "source": [
    " # 5.1 Logistic Regression (Using SMOTE)"
   ]
  },
  {
   "cell_type": "markdown",
   "id": "c575963f",
   "metadata": {},
   "source": [
    "# Grid search\n",
    "from tuning_function import grid_search \n",
    "log_reg_params = {'solver': ['newton-cg', 'lbfgs', 'liblinear'],\n",
    "                  'C': [0.001, 0.01, 1, 10, 100]\n",
    "                 }\n",
    "# function : grid_search(model_name, clf, x_train, y_train, cv_value=5, param_dict=None, s=None)\n",
    "grid_search('Logistic Regression Model(Using SMOTE)', log_reg, x_train_sm, y_train_sm, cv_value=kfold, param_dict=log_reg_params, s=21)"
   ]
  },
  {
   "cell_type": "code",
   "execution_count": 68,
   "id": "46c12b41",
   "metadata": {},
   "outputs": [
    {
     "data": {
      "text/html": [
       "<style>#sk-container-id-7 {color: black;background-color: white;}#sk-container-id-7 pre{padding: 0;}#sk-container-id-7 div.sk-toggleable {background-color: white;}#sk-container-id-7 label.sk-toggleable__label {cursor: pointer;display: block;width: 100%;margin-bottom: 0;padding: 0.3em;box-sizing: border-box;text-align: center;}#sk-container-id-7 label.sk-toggleable__label-arrow:before {content: \"▸\";float: left;margin-right: 0.25em;color: #696969;}#sk-container-id-7 label.sk-toggleable__label-arrow:hover:before {color: black;}#sk-container-id-7 div.sk-estimator:hover label.sk-toggleable__label-arrow:before {color: black;}#sk-container-id-7 div.sk-toggleable__content {max-height: 0;max-width: 0;overflow: hidden;text-align: left;background-color: #f0f8ff;}#sk-container-id-7 div.sk-toggleable__content pre {margin: 0.2em;color: black;border-radius: 0.25em;background-color: #f0f8ff;}#sk-container-id-7 input.sk-toggleable__control:checked~div.sk-toggleable__content {max-height: 200px;max-width: 100%;overflow: auto;}#sk-container-id-7 input.sk-toggleable__control:checked~label.sk-toggleable__label-arrow:before {content: \"▾\";}#sk-container-id-7 div.sk-estimator input.sk-toggleable__control:checked~label.sk-toggleable__label {background-color: #d4ebff;}#sk-container-id-7 div.sk-label input.sk-toggleable__control:checked~label.sk-toggleable__label {background-color: #d4ebff;}#sk-container-id-7 input.sk-hidden--visually {border: 0;clip: rect(1px 1px 1px 1px);clip: rect(1px, 1px, 1px, 1px);height: 1px;margin: -1px;overflow: hidden;padding: 0;position: absolute;width: 1px;}#sk-container-id-7 div.sk-estimator {font-family: monospace;background-color: #f0f8ff;border: 1px dotted black;border-radius: 0.25em;box-sizing: border-box;margin-bottom: 0.5em;}#sk-container-id-7 div.sk-estimator:hover {background-color: #d4ebff;}#sk-container-id-7 div.sk-parallel-item::after {content: \"\";width: 100%;border-bottom: 1px solid gray;flex-grow: 1;}#sk-container-id-7 div.sk-label:hover label.sk-toggleable__label {background-color: #d4ebff;}#sk-container-id-7 div.sk-serial::before {content: \"\";position: absolute;border-left: 1px solid gray;box-sizing: border-box;top: 0;bottom: 0;left: 50%;z-index: 0;}#sk-container-id-7 div.sk-serial {display: flex;flex-direction: column;align-items: center;background-color: white;padding-right: 0.2em;padding-left: 0.2em;position: relative;}#sk-container-id-7 div.sk-item {position: relative;z-index: 1;}#sk-container-id-7 div.sk-parallel {display: flex;align-items: stretch;justify-content: center;background-color: white;position: relative;}#sk-container-id-7 div.sk-item::before, #sk-container-id-7 div.sk-parallel-item::before {content: \"\";position: absolute;border-left: 1px solid gray;box-sizing: border-box;top: 0;bottom: 0;left: 50%;z-index: -1;}#sk-container-id-7 div.sk-parallel-item {display: flex;flex-direction: column;z-index: 1;position: relative;background-color: white;}#sk-container-id-7 div.sk-parallel-item:first-child::after {align-self: flex-end;width: 50%;}#sk-container-id-7 div.sk-parallel-item:last-child::after {align-self: flex-start;width: 50%;}#sk-container-id-7 div.sk-parallel-item:only-child::after {width: 0;}#sk-container-id-7 div.sk-dashed-wrapped {border: 1px dashed gray;margin: 0 0.4em 0.5em 0.4em;box-sizing: border-box;padding-bottom: 0.4em;background-color: white;}#sk-container-id-7 div.sk-label label {font-family: monospace;font-weight: bold;display: inline-block;line-height: 1.2em;}#sk-container-id-7 div.sk-label-container {text-align: center;}#sk-container-id-7 div.sk-container {/* jupyter's `normalize.less` sets `[hidden] { display: none; }` but bootstrap.min.css set `[hidden] { display: none !important; }` so we also need the `!important` here to be able to override the default hidden behavior on the sphinx rendered scikit-learn.org. See: https://github.com/scikit-learn/scikit-learn/issues/21755 */display: inline-block !important;position: relative;}#sk-container-id-7 div.sk-text-repr-fallback {display: none;}</style><div id=\"sk-container-id-7\" class=\"sk-top-container\"><div class=\"sk-text-repr-fallback\"><pre>LogisticRegression(C=10, random_state=21, solver=&#x27;newton-cg&#x27;, warm_start=True)</pre><b>In a Jupyter environment, please rerun this cell to show the HTML representation or trust the notebook. <br />On GitHub, the HTML representation is unable to render, please try loading this page with nbviewer.org.</b></div><div class=\"sk-container\" hidden><div class=\"sk-item\"><div class=\"sk-estimator sk-toggleable\"><input class=\"sk-toggleable__control sk-hidden--visually\" id=\"sk-estimator-id-7\" type=\"checkbox\" checked><label for=\"sk-estimator-id-7\" class=\"sk-toggleable__label sk-toggleable__label-arrow\">LogisticRegression</label><div class=\"sk-toggleable__content\"><pre>LogisticRegression(C=10, random_state=21, solver=&#x27;newton-cg&#x27;, warm_start=True)</pre></div></div></div></div></div>"
      ],
      "text/plain": [
       "LogisticRegression(C=10, random_state=21, solver='newton-cg', warm_start=True)"
      ]
     },
     "execution_count": 68,
     "metadata": {},
     "output_type": "execute_result"
    }
   ],
   "source": [
    "log_reg_sm = LogisticRegression(solver = 'newton-cg', C=10 , warm_start=True, random_state=21)\n",
    "log_reg_sm.fit(x_train_sm, y_train_sm)"
   ]
  },
  {
   "cell_type": "code",
   "execution_count": 69,
   "id": "936d5b79",
   "metadata": {},
   "outputs": [
    {
     "name": "stdout",
     "output_type": "stream",
     "text": [
      "Training Score:  0.8474212034383954\n",
      "Testing Score:  0.7985436893203883\n"
     ]
    }
   ],
   "source": [
    "import metrics_function as metric_fn\n",
    "metric_fn.train_test_score(log_reg_sm, x_train_sm, y_train_sm, x_test_scaled, y_test)"
   ]
  },
  {
   "cell_type": "code",
   "execution_count": 70,
   "id": "6ac7bd6f",
   "metadata": {},
   "outputs": [],
   "source": [
    "#prediciton\n",
    "y_pred_log_reg_sm = log_reg_sm.predict(x_test_scaled)\n",
    "\n",
    "y_score_log_reg_sm = log_reg_sm.predict_proba(x_test_scaled)[:,1]"
   ]
  },
  {
   "cell_type": "code",
   "execution_count": 71,
   "id": "ce9d0ba4",
   "metadata": {},
   "outputs": [
    {
     "name": "stdout",
     "output_type": "stream",
     "text": [
      "---------------------------------------------------------------------\n",
      "                       Logistic Regression (Using SMOTE)                        \n",
      "---------------------------------------------------------------------\n",
      "\n",
      "Confusion Matrix:\n",
      "[[287  62]\n",
      " [ 21  42]]\n",
      "\n",
      "Classification Report:\n",
      "              precision    recall  f1-score   support\n",
      "\n",
      "           0       0.93      0.82      0.87       349\n",
      "           1       0.40      0.67      0.50        63\n",
      "\n",
      "    accuracy                           0.80       412\n",
      "   macro avg       0.67      0.74      0.69       412\n",
      "weighted avg       0.85      0.80      0.82       412\n",
      "\n"
     ]
    },
    {
     "data": {
      "image/png": "[encoded data removed]",
      "text/plain": [
       "<Figure size 432x288 with 1 Axes>"
      ]
     },
     "metadata": {},
     "output_type": "display_data"
    }
   ],
   "source": [
    "# bin_class_metrics(model_name, y_test, y_pred, y_score, metric_output=True, plot_auc_roc=True)\n",
    "log_reg_metric = metric_fn.bin_class_metrics('Logistic Regression (Using SMOTE)', y_test, y_pred_log_reg_sm, y_score_log_reg_sm, metric_output=True, plot_auc_roc=True)"
   ]
  },
  {
   "cell_type": "code",
   "execution_count": 72,
   "id": "e2f3d427",
   "metadata": {},
   "outputs": [
    {
     "data": {
      "text/html": [
       "<div>\n",
       "<style scoped>\n",
       "    .dataframe tbody tr th:only-of-type {\n",
       "        vertical-align: middle;\n",
       "    }\n",
       "\n",
       "    .dataframe tbody tr th {\n",
       "        vertical-align: top;\n",
       "    }\n",
       "\n",
       "    .dataframe thead th {\n",
       "        text-align: right;\n",
       "    }\n",
       "</style>\n",
       "<table border=\"1\" class=\"dataframe\">\n",
       "  <thead>\n",
       "    <tr style=\"text-align: right;\">\n",
       "      <th></th>\n",
       "      <th>Logistic Regression (Using SMOTE)</th>\n",
       "    </tr>\n",
       "  </thead>\n",
       "  <tbody>\n",
       "    <tr>\n",
       "      <th>Accuracy</th>\n",
       "      <td>0.798544</td>\n",
       "    </tr>\n",
       "    <tr>\n",
       "      <th>Precision</th>\n",
       "      <td>0.403846</td>\n",
       "    </tr>\n",
       "    <tr>\n",
       "      <th>Recall</th>\n",
       "      <td>0.666667</td>\n",
       "    </tr>\n",
       "    <tr>\n",
       "      <th>F1 Score</th>\n",
       "      <td>0.502994</td>\n",
       "    </tr>\n",
       "    <tr>\n",
       "      <th>ROC AUC</th>\n",
       "      <td>0.855938</td>\n",
       "    </tr>\n",
       "  </tbody>\n",
       "</table>\n",
       "</div>"
      ],
      "text/plain": [
       "           Logistic Regression (Using SMOTE)\n",
       "Accuracy                            0.798544\n",
       "Precision                           0.403846\n",
       "Recall                              0.666667\n",
       "F1 Score                            0.502994\n",
       "ROC AUC                             0.855938"
      ]
     },
     "execution_count": 72,
     "metadata": {},
     "output_type": "execute_result"
    }
   ],
   "source": [
    "log_reg_metric"
   ]
  },
  {
   "cell_type": "markdown",
   "id": "ae50fbdf",
   "metadata": {},
   "source": [
    "----------------------------------------------------------------------"
   ]
  },
  {
   "cell_type": "markdown",
   "id": "70d0729d",
   "metadata": {},
   "source": [
    "# 6 Support Vector Machine SVM "
   ]
  },
  {
   "cell_type": "code",
   "execution_count": 73,
   "id": "0fdfa168",
   "metadata": {},
   "outputs": [],
   "source": [
    "svm = SVC(random_state=21)"
   ]
  },
  {
   "cell_type": "markdown",
   "id": "26967fd2",
   "metadata": {},
   "source": [
    "# 6.1 Support Vector Machine SVM (Using SMOTE)"
   ]
  },
  {
   "cell_type": "markdown",
   "id": "4a714d80",
   "metadata": {},
   "source": [
    "# Grid search\n",
    "from tuning_function import grid_search \n",
    "svm_params = {'kernel': ['linear', 'poly', 'rbf', 'sigmoid'],\n",
    "              'C': [0.001, 0.01, 1, 10, 100]\n",
    "              }\n",
    "# function : grid_search(model_name, clf, x_train, y_train, cv_value=5, param_dict=None, s=None)\n",
    "grid_search('Support Vector Machine(Using SMOTE)', svm, x_train_sm, y_train_sm, cv_value=kfold, param_dict=svm_params, s=21)"
   ]
  },
  {
   "cell_type": "code",
   "execution_count": 74,
   "id": "29458568",
   "metadata": {},
   "outputs": [
    {
     "data": {
      "text/html": [
       "<style>#sk-container-id-8 {color: black;background-color: white;}#sk-container-id-8 pre{padding: 0;}#sk-container-id-8 div.sk-toggleable {background-color: white;}#sk-container-id-8 label.sk-toggleable__label {cursor: pointer;display: block;width: 100%;margin-bottom: 0;padding: 0.3em;box-sizing: border-box;text-align: center;}#sk-container-id-8 label.sk-toggleable__label-arrow:before {content: \"▸\";float: left;margin-right: 0.25em;color: #696969;}#sk-container-id-8 label.sk-toggleable__label-arrow:hover:before {color: black;}#sk-container-id-8 div.sk-estimator:hover label.sk-toggleable__label-arrow:before {color: black;}#sk-container-id-8 div.sk-toggleable__content {max-height: 0;max-width: 0;overflow: hidden;text-align: left;background-color: #f0f8ff;}#sk-container-id-8 div.sk-toggleable__content pre {margin: 0.2em;color: black;border-radius: 0.25em;background-color: #f0f8ff;}#sk-container-id-8 input.sk-toggleable__control:checked~div.sk-toggleable__content {max-height: 200px;max-width: 100%;overflow: auto;}#sk-container-id-8 input.sk-toggleable__control:checked~label.sk-toggleable__label-arrow:before {content: \"▾\";}#sk-container-id-8 div.sk-estimator input.sk-toggleable__control:checked~label.sk-toggleable__label {background-color: #d4ebff;}#sk-container-id-8 div.sk-label input.sk-toggleable__control:checked~label.sk-toggleable__label {background-color: #d4ebff;}#sk-container-id-8 input.sk-hidden--visually {border: 0;clip: rect(1px 1px 1px 1px);clip: rect(1px, 1px, 1px, 1px);height: 1px;margin: -1px;overflow: hidden;padding: 0;position: absolute;width: 1px;}#sk-container-id-8 div.sk-estimator {font-family: monospace;background-color: #f0f8ff;border: 1px dotted black;border-radius: 0.25em;box-sizing: border-box;margin-bottom: 0.5em;}#sk-container-id-8 div.sk-estimator:hover {background-color: #d4ebff;}#sk-container-id-8 div.sk-parallel-item::after {content: \"\";width: 100%;border-bottom: 1px solid gray;flex-grow: 1;}#sk-container-id-8 div.sk-label:hover label.sk-toggleable__label {background-color: #d4ebff;}#sk-container-id-8 div.sk-serial::before {content: \"\";position: absolute;border-left: 1px solid gray;box-sizing: border-box;top: 0;bottom: 0;left: 50%;z-index: 0;}#sk-container-id-8 div.sk-serial {display: flex;flex-direction: column;align-items: center;background-color: white;padding-right: 0.2em;padding-left: 0.2em;position: relative;}#sk-container-id-8 div.sk-item {position: relative;z-index: 1;}#sk-container-id-8 div.sk-parallel {display: flex;align-items: stretch;justify-content: center;background-color: white;position: relative;}#sk-container-id-8 div.sk-item::before, #sk-container-id-8 div.sk-parallel-item::before {content: \"\";position: absolute;border-left: 1px solid gray;box-sizing: border-box;top: 0;bottom: 0;left: 50%;z-index: -1;}#sk-container-id-8 div.sk-parallel-item {display: flex;flex-direction: column;z-index: 1;position: relative;background-color: white;}#sk-container-id-8 div.sk-parallel-item:first-child::after {align-self: flex-end;width: 50%;}#sk-container-id-8 div.sk-parallel-item:last-child::after {align-self: flex-start;width: 50%;}#sk-container-id-8 div.sk-parallel-item:only-child::after {width: 0;}#sk-container-id-8 div.sk-dashed-wrapped {border: 1px dashed gray;margin: 0 0.4em 0.5em 0.4em;box-sizing: border-box;padding-bottom: 0.4em;background-color: white;}#sk-container-id-8 div.sk-label label {font-family: monospace;font-weight: bold;display: inline-block;line-height: 1.2em;}#sk-container-id-8 div.sk-label-container {text-align: center;}#sk-container-id-8 div.sk-container {/* jupyter's `normalize.less` sets `[hidden] { display: none; }` but bootstrap.min.css set `[hidden] { display: none !important; }` so we also need the `!important` here to be able to override the default hidden behavior on the sphinx rendered scikit-learn.org. See: https://github.com/scikit-learn/scikit-learn/issues/21755 */display: inline-block !important;position: relative;}#sk-container-id-8 div.sk-text-repr-fallback {display: none;}</style><div id=\"sk-container-id-8\" class=\"sk-top-container\"><div class=\"sk-text-repr-fallback\"><pre>SVC(C=100, probability=True, random_state=21)</pre><b>In a Jupyter environment, please rerun this cell to show the HTML representation or trust the notebook. <br />On GitHub, the HTML representation is unable to render, please try loading this page with nbviewer.org.</b></div><div class=\"sk-container\" hidden><div class=\"sk-item\"><div class=\"sk-estimator sk-toggleable\"><input class=\"sk-toggleable__control sk-hidden--visually\" id=\"sk-estimator-id-8\" type=\"checkbox\" checked><label for=\"sk-estimator-id-8\" class=\"sk-toggleable__label sk-toggleable__label-arrow\">SVC</label><div class=\"sk-toggleable__content\"><pre>SVC(C=100, probability=True, random_state=21)</pre></div></div></div></div></div>"
      ],
      "text/plain": [
       "SVC(C=100, probability=True, random_state=21)"
      ]
     },
     "execution_count": 74,
     "metadata": {},
     "output_type": "execute_result"
    }
   ],
   "source": [
    "svm_sm = SVC(kernel='rbf', C=100, probability=True, random_state=21)\n",
    "svm_sm.fit(x_train_sm, y_train_sm)"
   ]
  },
  {
   "cell_type": "code",
   "execution_count": 75,
   "id": "61c3bf06",
   "metadata": {},
   "outputs": [
    {
     "name": "stdout",
     "output_type": "stream",
     "text": [
      "Training Score:  0.994269340974212\n",
      "Testing Score:  0.8325242718446602\n"
     ]
    }
   ],
   "source": [
    "import metrics_function as metric_fn\n",
    "metric_fn.train_test_score(svm_sm, x_train_sm, y_train_sm, x_test_scaled, y_test)"
   ]
  },
  {
   "cell_type": "code",
   "execution_count": 76,
   "id": "1f911b1c",
   "metadata": {},
   "outputs": [],
   "source": [
    "#prediciton\n",
    "y_pred_svm_sm = svm_sm.predict(x_test_scaled)\n",
    "y_score_svm_sm = svm_sm.predict_proba(x_test_scaled)[:,1]"
   ]
  },
  {
   "cell_type": "code",
   "execution_count": 77,
   "id": "c58664fa",
   "metadata": {},
   "outputs": [
    {
     "name": "stdout",
     "output_type": "stream",
     "text": [
      "---------------------------------------------------------------------\n",
      "                      Support Vector Machine (Using SMOTE)                      \n",
      "---------------------------------------------------------------------\n",
      "\n",
      "Confusion Matrix:\n",
      "[[318  31]\n",
      " [ 38  25]]\n",
      "\n",
      "Classification Report:\n",
      "              precision    recall  f1-score   support\n",
      "\n",
      "           0       0.89      0.91      0.90       349\n",
      "           1       0.45      0.40      0.42        63\n",
      "\n",
      "    accuracy                           0.83       412\n",
      "   macro avg       0.67      0.65      0.66       412\n",
      "weighted avg       0.82      0.83      0.83       412\n",
      "\n"
     ]
    },
    {
     "data": {
      "image/png": "[encoded data removed]",
      "text/plain": [
       "<Figure size 432x288 with 1 Axes>"
      ]
     },
     "metadata": {},
     "output_type": "display_data"
    }
   ],
   "source": [
    "# bin_class_metrics(model_name, y_test, y_pred, y_score, metric_output=True, plot_auc_roc=True)\n",
    "svm_metric = metric_fn.bin_class_metrics('Support Vector Machine (Using SMOTE)', y_test, y_pred_svm_sm, y_score_svm_sm, metric_output=True, plot_auc_roc=True)"
   ]
  },
  {
   "cell_type": "code",
   "execution_count": 78,
   "id": "771c2e5c",
   "metadata": {
    "scrolled": true
   },
   "outputs": [
    {
     "data": {
      "text/html": [
       "<div>\n",
       "<style scoped>\n",
       "    .dataframe tbody tr th:only-of-type {\n",
       "        vertical-align: middle;\n",
       "    }\n",
       "\n",
       "    .dataframe tbody tr th {\n",
       "        vertical-align: top;\n",
       "    }\n",
       "\n",
       "    .dataframe thead th {\n",
       "        text-align: right;\n",
       "    }\n",
       "</style>\n",
       "<table border=\"1\" class=\"dataframe\">\n",
       "  <thead>\n",
       "    <tr style=\"text-align: right;\">\n",
       "      <th></th>\n",
       "      <th>Support Vector Machine (Using SMOTE)</th>\n",
       "    </tr>\n",
       "  </thead>\n",
       "  <tbody>\n",
       "    <tr>\n",
       "      <th>Accuracy</th>\n",
       "      <td>0.832524</td>\n",
       "    </tr>\n",
       "    <tr>\n",
       "      <th>Precision</th>\n",
       "      <td>0.446429</td>\n",
       "    </tr>\n",
       "    <tr>\n",
       "      <th>Recall</th>\n",
       "      <td>0.396825</td>\n",
       "    </tr>\n",
       "    <tr>\n",
       "      <th>F1 Score</th>\n",
       "      <td>0.420168</td>\n",
       "    </tr>\n",
       "    <tr>\n",
       "      <th>ROC AUC</th>\n",
       "      <td>0.809547</td>\n",
       "    </tr>\n",
       "  </tbody>\n",
       "</table>\n",
       "</div>"
      ],
      "text/plain": [
       "           Support Vector Machine (Using SMOTE)\n",
       "Accuracy                               0.832524\n",
       "Precision                              0.446429\n",
       "Recall                                 0.396825\n",
       "F1 Score                               0.420168\n",
       "ROC AUC                                0.809547"
      ]
     },
     "execution_count": 78,
     "metadata": {},
     "output_type": "execute_result"
    }
   ],
   "source": [
    "svm_metric"
   ]
  },
  {
   "cell_type": "markdown",
   "id": "e671e44f",
   "metadata": {},
   "source": [
    "----------------------------------------------------------------------"
   ]
  },
  {
   "cell_type": "code",
   "execution_count": 79,
   "id": "2de20ff2",
   "metadata": {
    "scrolled": true
   },
   "outputs": [
    {
     "data": {
      "text/html": [
       "<style type=\"text/css\">\n",
       "#T_39beb_row0_col0, #T_39beb_row0_col1, #T_39beb_row0_col2, #T_39beb_row0_col3, #T_39beb_row0_col4, #T_39beb_row0_col5, #T_39beb_row0_col6, #T_39beb_row0_col7, #T_39beb_row1_col1, #T_39beb_row1_col4, #T_39beb_row1_col5, #T_39beb_row2_col2, #T_39beb_row2_col3, #T_39beb_row2_col6, #T_39beb_row3_col6, #T_39beb_row4_col0, #T_39beb_row4_col1, #T_39beb_row4_col2, #T_39beb_row4_col3, #T_39beb_row4_col4, #T_39beb_row4_col5, #T_39beb_row4_col6, #T_39beb_row4_col7 {\n",
       "  background-color: lightgreen;\n",
       "}\n",
       "</style>\n",
       "<table id=\"T_39beb_\">\n",
       "  <thead>\n",
       "    <tr>\n",
       "      <th class=\"blank level0\" >&nbsp;</th>\n",
       "      <th class=\"col_heading level0 col0\" >Decision Tree (Using SMOTE)</th>\n",
       "      <th class=\"col_heading level0 col1\" >Random Forest</th>\n",
       "      <th class=\"col_heading level0 col2\" >Random Forest(using SMOTE)</th>\n",
       "      <th class=\"col_heading level0 col3\" >Random Forest(using Random Undersampling)</th>\n",
       "      <th class=\"col_heading level0 col4\" >Gradient Boosting Classifier (Using SMOTE)</th>\n",
       "      <th class=\"col_heading level0 col5\" >XGB (Using SMOTE)</th>\n",
       "      <th class=\"col_heading level0 col6\" >Logistic Regression (Using SMOTE)</th>\n",
       "      <th class=\"col_heading level0 col7\" >Support Vector Machine (Using SMOTE)</th>\n",
       "    </tr>\n",
       "  </thead>\n",
       "  <tbody>\n",
       "    <tr>\n",
       "      <th id=\"T_39beb_level0_row0\" class=\"row_heading level0 row0\" >Accuracy</th>\n",
       "      <td id=\"T_39beb_row0_col0\" class=\"data row0 col0\" >0.796117</td>\n",
       "      <td id=\"T_39beb_row0_col1\" class=\"data row0 col1\" >0.868932</td>\n",
       "      <td id=\"T_39beb_row0_col2\" class=\"data row0 col2\" >0.830097</td>\n",
       "      <td id=\"T_39beb_row0_col3\" class=\"data row0 col3\" >0.771845</td>\n",
       "      <td id=\"T_39beb_row0_col4\" class=\"data row0 col4\" >0.859223</td>\n",
       "      <td id=\"T_39beb_row0_col5\" class=\"data row0 col5\" >0.851942</td>\n",
       "      <td id=\"T_39beb_row0_col6\" class=\"data row0 col6\" >0.798544</td>\n",
       "      <td id=\"T_39beb_row0_col7\" class=\"data row0 col7\" >0.832524</td>\n",
       "    </tr>\n",
       "    <tr>\n",
       "      <th id=\"T_39beb_level0_row1\" class=\"row_heading level0 row1\" >Precision</th>\n",
       "      <td id=\"T_39beb_row1_col0\" class=\"data row1 col0\" >0.370370</td>\n",
       "      <td id=\"T_39beb_row1_col1\" class=\"data row1 col1\" >0.714286</td>\n",
       "      <td id=\"T_39beb_row1_col2\" class=\"data row1 col2\" >0.453333</td>\n",
       "      <td id=\"T_39beb_row1_col3\" class=\"data row1 col3\" >0.369748</td>\n",
       "      <td id=\"T_39beb_row1_col4\" class=\"data row1 col4\" >0.555556</td>\n",
       "      <td id=\"T_39beb_row1_col5\" class=\"data row1 col5\" >0.518519</td>\n",
       "      <td id=\"T_39beb_row1_col6\" class=\"data row1 col6\" >0.403846</td>\n",
       "      <td id=\"T_39beb_row1_col7\" class=\"data row1 col7\" >0.446429</td>\n",
       "    </tr>\n",
       "    <tr>\n",
       "      <th id=\"T_39beb_level0_row2\" class=\"row_heading level0 row2\" >Recall</th>\n",
       "      <td id=\"T_39beb_row2_col0\" class=\"data row2 col0\" >0.476190</td>\n",
       "      <td id=\"T_39beb_row2_col1\" class=\"data row2 col1\" >0.238095</td>\n",
       "      <td id=\"T_39beb_row2_col2\" class=\"data row2 col2\" >0.539683</td>\n",
       "      <td id=\"T_39beb_row2_col3\" class=\"data row2 col3\" >0.698413</td>\n",
       "      <td id=\"T_39beb_row2_col4\" class=\"data row2 col4\" >0.396825</td>\n",
       "      <td id=\"T_39beb_row2_col5\" class=\"data row2 col5\" >0.444444</td>\n",
       "      <td id=\"T_39beb_row2_col6\" class=\"data row2 col6\" >0.666667</td>\n",
       "      <td id=\"T_39beb_row2_col7\" class=\"data row2 col7\" >0.396825</td>\n",
       "    </tr>\n",
       "    <tr>\n",
       "      <th id=\"T_39beb_level0_row3\" class=\"row_heading level0 row3\" >F1 Score</th>\n",
       "      <td id=\"T_39beb_row3_col0\" class=\"data row3 col0\" >0.416667</td>\n",
       "      <td id=\"T_39beb_row3_col1\" class=\"data row3 col1\" >0.357143</td>\n",
       "      <td id=\"T_39beb_row3_col2\" class=\"data row3 col2\" >0.492754</td>\n",
       "      <td id=\"T_39beb_row3_col3\" class=\"data row3 col3\" >0.483516</td>\n",
       "      <td id=\"T_39beb_row3_col4\" class=\"data row3 col4\" >0.462963</td>\n",
       "      <td id=\"T_39beb_row3_col5\" class=\"data row3 col5\" >0.478632</td>\n",
       "      <td id=\"T_39beb_row3_col6\" class=\"data row3 col6\" >0.502994</td>\n",
       "      <td id=\"T_39beb_row3_col7\" class=\"data row3 col7\" >0.420168</td>\n",
       "    </tr>\n",
       "    <tr>\n",
       "      <th id=\"T_39beb_level0_row4\" class=\"row_heading level0 row4\" >ROC AUC</th>\n",
       "      <td id=\"T_39beb_row4_col0\" class=\"data row4 col0\" >0.757038</td>\n",
       "      <td id=\"T_39beb_row4_col1\" class=\"data row4 col1\" >0.831787</td>\n",
       "      <td id=\"T_39beb_row4_col2\" class=\"data row4 col2\" >0.832742</td>\n",
       "      <td id=\"T_39beb_row4_col3\" class=\"data row4 col3\" >0.820280</td>\n",
       "      <td id=\"T_39beb_row4_col4\" class=\"data row4 col4\" >0.851253</td>\n",
       "      <td id=\"T_39beb_row4_col5\" class=\"data row4 col5\" >0.856438</td>\n",
       "      <td id=\"T_39beb_row4_col6\" class=\"data row4 col6\" >0.855938</td>\n",
       "      <td id=\"T_39beb_row4_col7\" class=\"data row4 col7\" >0.809547</td>\n",
       "    </tr>\n",
       "  </tbody>\n",
       "</table>\n"
      ],
      "text/plain": [
       "<pandas.io.formats.style.Styler at 0x1f94478dcd0>"
      ]
     },
     "execution_count": 79,
     "metadata": {},
     "output_type": "execute_result"
    }
   ],
   "source": [
    "all_metric_df = pd.concat([dtree_metric_sm, rf_metric_imbalanced, rf_metric_sm, rf_metric_rus, gbm_sm_metric,xgb_sm_metric,log_reg_metric, svm_metric], axis=1)\n",
    "all_metric_df.style.applymap(lambda x: 'background-color: lightgreen' if x >= 0.5 else '')"
   ]
  },
  {
   "cell_type": "markdown",
   "id": "bbfa44f0",
   "metadata": {},
   "source": [
    "----------------------------------------------------------------------"
   ]
  },
  {
   "cell_type": "markdown",
   "id": "a0ab7857",
   "metadata": {},
   "source": [
    "# <font color='blue'> Model Selected : Logistic Regression (Using SMOTE)</font>"
   ]
  },
  {
   "cell_type": "markdown",
   "id": "eeabc9be",
   "metadata": {},
   "source": [
    "## Extracting the Feature Importance by Model’s Coefficients"
   ]
  },
  {
   "cell_type": "code",
   "execution_count": 80,
   "id": "90fb0f45",
   "metadata": {},
   "outputs": [
    {
     "data": {
      "text/html": [
       "<div>\n",
       "<style scoped>\n",
       "    .dataframe tbody tr th:only-of-type {\n",
       "        vertical-align: middle;\n",
       "    }\n",
       "\n",
       "    .dataframe tbody tr th {\n",
       "        vertical-align: top;\n",
       "    }\n",
       "\n",
       "    .dataframe thead th {\n",
       "        text-align: right;\n",
       "    }\n",
       "</style>\n",
       "<table border=\"1\" class=\"dataframe\">\n",
       "  <thead>\n",
       "    <tr style=\"text-align: right;\">\n",
       "      <th></th>\n",
       "      <th>Attribute</th>\n",
       "      <th>Importance</th>\n",
       "    </tr>\n",
       "  </thead>\n",
       "  <tbody>\n",
       "    <tr>\n",
       "      <th>17</th>\n",
       "      <td>Cust_Tenure</td>\n",
       "      <td>1.104762</td>\n",
       "    </tr>\n",
       "    <tr>\n",
       "      <th>27</th>\n",
       "      <td>Education_PhD</td>\n",
       "      <td>0.840387</td>\n",
       "    </tr>\n",
       "    <tr>\n",
       "      <th>11</th>\n",
       "      <td>AcceptedCmp3</td>\n",
       "      <td>0.659003</td>\n",
       "    </tr>\n",
       "    <tr>\n",
       "      <th>13</th>\n",
       "      <td>AcceptedCmp5</td>\n",
       "      <td>0.613431</td>\n",
       "    </tr>\n",
       "    <tr>\n",
       "      <th>19</th>\n",
       "      <td>Marital_Status_Single</td>\n",
       "      <td>0.606232</td>\n",
       "    </tr>\n",
       "    <tr>\n",
       "      <th>8</th>\n",
       "      <td>NumWebPurchases</td>\n",
       "      <td>0.586186</td>\n",
       "    </tr>\n",
       "    <tr>\n",
       "      <th>26</th>\n",
       "      <td>Education_Master</td>\n",
       "      <td>0.525184</td>\n",
       "    </tr>\n",
       "    <tr>\n",
       "      <th>25</th>\n",
       "      <td>Education_Graduation</td>\n",
       "      <td>0.517843</td>\n",
       "    </tr>\n",
       "    <tr>\n",
       "      <th>4</th>\n",
       "      <td>MntMeatProducts</td>\n",
       "      <td>0.494222</td>\n",
       "    </tr>\n",
       "    <tr>\n",
       "      <th>9</th>\n",
       "      <td>NumCatalogPurchases</td>\n",
       "      <td>0.488747</td>\n",
       "    </tr>\n",
       "    <tr>\n",
       "      <th>14</th>\n",
       "      <td>AcceptedCmp1</td>\n",
       "      <td>0.474477</td>\n",
       "    </tr>\n",
       "    <tr>\n",
       "      <th>18</th>\n",
       "      <td>Marital_Status_Divorced</td>\n",
       "      <td>0.404470</td>\n",
       "    </tr>\n",
       "    <tr>\n",
       "      <th>12</th>\n",
       "      <td>AcceptedCmp4</td>\n",
       "      <td>0.372149</td>\n",
       "    </tr>\n",
       "    <tr>\n",
       "      <th>15</th>\n",
       "      <td>AcceptedCmp2</td>\n",
       "      <td>0.289038</td>\n",
       "    </tr>\n",
       "    <tr>\n",
       "      <th>20</th>\n",
       "      <td>Marital_Status_Widow</td>\n",
       "      <td>0.262410</td>\n",
       "    </tr>\n",
       "    <tr>\n",
       "      <th>6</th>\n",
       "      <td>MntSweetProducts</td>\n",
       "      <td>0.203054</td>\n",
       "    </tr>\n",
       "    <tr>\n",
       "      <th>7</th>\n",
       "      <td>MntGoldProds</td>\n",
       "      <td>0.147392</td>\n",
       "    </tr>\n",
       "    <tr>\n",
       "      <th>22</th>\n",
       "      <td>childhome_2</td>\n",
       "      <td>0.007271</td>\n",
       "    </tr>\n",
       "    <tr>\n",
       "      <th>3</th>\n",
       "      <td>MntFruits</td>\n",
       "      <td>-0.001689</td>\n",
       "    </tr>\n",
       "    <tr>\n",
       "      <th>16</th>\n",
       "      <td>Age</td>\n",
       "      <td>-0.077092</td>\n",
       "    </tr>\n",
       "    <tr>\n",
       "      <th>5</th>\n",
       "      <td>MntFishProducts</td>\n",
       "      <td>-0.212572</td>\n",
       "    </tr>\n",
       "    <tr>\n",
       "      <th>23</th>\n",
       "      <td>childhome_3</td>\n",
       "      <td>-0.237725</td>\n",
       "    </tr>\n",
       "    <tr>\n",
       "      <th>2</th>\n",
       "      <td>MntWines</td>\n",
       "      <td>-0.342801</td>\n",
       "    </tr>\n",
       "    <tr>\n",
       "      <th>24</th>\n",
       "      <td>Education_Basic</td>\n",
       "      <td>-0.355798</td>\n",
       "    </tr>\n",
       "    <tr>\n",
       "      <th>21</th>\n",
       "      <td>childhome_1</td>\n",
       "      <td>-0.359542</td>\n",
       "    </tr>\n",
       "    <tr>\n",
       "      <th>0</th>\n",
       "      <td>Income</td>\n",
       "      <td>-0.444860</td>\n",
       "    </tr>\n",
       "    <tr>\n",
       "      <th>10</th>\n",
       "      <td>NumStorePurchases</td>\n",
       "      <td>-0.750181</td>\n",
       "    </tr>\n",
       "    <tr>\n",
       "      <th>1</th>\n",
       "      <td>Recency</td>\n",
       "      <td>-1.162170</td>\n",
       "    </tr>\n",
       "  </tbody>\n",
       "</table>\n",
       "</div>"
      ],
      "text/plain": [
       "                  Attribute  Importance\n",
       "17              Cust_Tenure    1.104762\n",
       "27            Education_PhD    0.840387\n",
       "11             AcceptedCmp3    0.659003\n",
       "13             AcceptedCmp5    0.613431\n",
       "19    Marital_Status_Single    0.606232\n",
       "8           NumWebPurchases    0.586186\n",
       "26         Education_Master    0.525184\n",
       "25     Education_Graduation    0.517843\n",
       "4           MntMeatProducts    0.494222\n",
       "9       NumCatalogPurchases    0.488747\n",
       "14             AcceptedCmp1    0.474477\n",
       "18  Marital_Status_Divorced    0.404470\n",
       "12             AcceptedCmp4    0.372149\n",
       "15             AcceptedCmp2    0.289038\n",
       "20     Marital_Status_Widow    0.262410\n",
       "6          MntSweetProducts    0.203054\n",
       "7              MntGoldProds    0.147392\n",
       "22              childhome_2    0.007271\n",
       "3                 MntFruits   -0.001689\n",
       "16                      Age   -0.077092\n",
       "5           MntFishProducts   -0.212572\n",
       "23              childhome_3   -0.237725\n",
       "2                  MntWines   -0.342801\n",
       "24          Education_Basic   -0.355798\n",
       "21              childhome_1   -0.359542\n",
       "0                    Income   -0.444860\n",
       "10        NumStorePurchases   -0.750181\n",
       "1                   Recency   -1.162170"
      ]
     },
     "execution_count": 80,
     "metadata": {},
     "output_type": "execute_result"
    }
   ],
   "source": [
    "feature_importances = pd.DataFrame(data={'Attribute': x_train.columns,'Importance': log_reg_sm.coef_[0] })\n",
    "feature_importances = feature_importances.sort_values(by='Importance', ascending=False)\n",
    "feature_importances"
   ]
  },
  {
   "cell_type": "code",
   "execution_count": 81,
   "id": "99039674",
   "metadata": {},
   "outputs": [
    {
     "data": {
      "text/plain": [
       "(28, 2)"
      ]
     },
     "execution_count": 81,
     "metadata": {},
     "output_type": "execute_result"
    }
   ],
   "source": [
    "feature_importances.shape"
   ]
  },
  {
   "cell_type": "code",
   "execution_count": 90,
   "id": "e29c9af6",
   "metadata": {},
   "outputs": [
    {
     "data": {
      "image/png": "[encoded data removed]",
      "text/plain": [
       "<Figure size 864x504 with 1 Axes>"
      ]
     },
     "metadata": {},
     "output_type": "display_data"
    }
   ],
   "source": [
    "import color_gradient as cg\n",
    "c1=\"#3575D5\" #blue\n",
    "c2='#6CBB3C' #green\n",
    "n = 30\n",
    "\n",
    "plt.figure(figsize=(12,7))\n",
    "plt.bar(x=feature_importances['Attribute'], height=feature_importances['Importance'], color = cg.get_color_gradient(c1, c2, n))\n",
    "plt.title('Feature importances obtained from coefficients', size=30)\n",
    "plt.xticks(rotation='vertical')\n",
    "3plt.show()"
   ]
  },
  {
   "cell_type": "markdown",
   "id": "079110fb",
   "metadata": {},
   "source": [
    "##  <font  color='blue'>  NOTE: Here, if an assigned coefficient is a large (negative or positive) number, it has some influence on the prediction. On the contrary, if the coefficient is zero, it does not have any impact on the prediction. </font>"
   ]
  },
  {
   "cell_type": "markdown",
   "id": "b80d87dc",
   "metadata": {},
   "source": [
    "--------------------------------------------------------------------------------------------------------------------------------"
   ]
  },
  {
   "cell_type": "markdown",
   "id": "af1cc6b9",
   "metadata": {},
   "source": [
    "## To find the predicted probablities for Decile Analysis\n",
    "\n",
    "  1) Scale the training data X.\n",
    "  \n",
    "  2) Find predicted probabilities of the scaled X data.\n",
    "  \n",
    "  3) Create a new column named as \"pred_prob\" with predicted probabilities. \n",
    "  \n",
    "  4) Export the data to a csv file."
   ]
  },
  {
   "cell_type": "code",
   "execution_count": 83,
   "id": "32e4693e",
   "metadata": {},
   "outputs": [
    {
     "data": {
      "text/plain": [
       "array([[ 0.30562962,  0.31208818,  0.98404437, ...,  0.99902865,\n",
       "        -0.44564808, -0.52900921],\n",
       "       [-0.26584119, -0.3777539 , -0.87063416, ...,  0.99902865,\n",
       "        -0.44564808, -0.52900921],\n",
       "       [ 0.95855222, -0.79165915,  0.36284595, ...,  0.99902865,\n",
       "        -0.44564808, -0.52900921],\n",
       "       ...,\n",
       "       [ 0.24956791,  1.45032761,  1.79546623, ...,  0.99902865,\n",
       "        -0.44564808, -0.52900921],\n",
       "       [ 0.84381227, -1.41251703,  0.36879044, ..., -1.00097229,\n",
       "         2.24392304, -0.52900921],\n",
       "       [ 0.05032355, -0.3087697 , -0.65366055, ..., -1.00097229,\n",
       "        -0.44564808,  1.89032625]])"
      ]
     },
     "execution_count": 83,
     "metadata": {},
     "output_type": "execute_result"
    }
   ],
   "source": [
    "scaler = StandardScaler()\n",
    "x_scaled = scaler.fit_transform(X)\n",
    "x_scaled"
   ]
  },
  {
   "cell_type": "code",
   "execution_count": 84,
   "id": "d98ccddf",
   "metadata": {},
   "outputs": [],
   "source": [
    "scaled_features_df = pd.DataFrame(x_scaled, index=X.index, columns=X.columns)"
   ]
  },
  {
   "cell_type": "code",
   "execution_count": 85,
   "id": "8888cffc",
   "metadata": {},
   "outputs": [
    {
     "data": {
      "text/html": [
       "<div>\n",
       "<style scoped>\n",
       "    .dataframe tbody tr th:only-of-type {\n",
       "        vertical-align: middle;\n",
       "    }\n",
       "\n",
       "    .dataframe tbody tr th {\n",
       "        vertical-align: top;\n",
       "    }\n",
       "\n",
       "    .dataframe thead th {\n",
       "        text-align: right;\n",
       "    }\n",
       "</style>\n",
       "<table border=\"1\" class=\"dataframe\">\n",
       "  <thead>\n",
       "    <tr style=\"text-align: right;\">\n",
       "      <th></th>\n",
       "      <th>Income</th>\n",
       "      <th>Recency</th>\n",
       "      <th>MntWines</th>\n",
       "      <th>MntFruits</th>\n",
       "      <th>MntMeatProducts</th>\n",
       "      <th>MntFishProducts</th>\n",
       "      <th>MntSweetProducts</th>\n",
       "      <th>MntGoldProds</th>\n",
       "      <th>NumWebPurchases</th>\n",
       "      <th>NumCatalogPurchases</th>\n",
       "      <th>NumStorePurchases</th>\n",
       "      <th>AcceptedCmp3</th>\n",
       "      <th>AcceptedCmp4</th>\n",
       "      <th>AcceptedCmp5</th>\n",
       "      <th>AcceptedCmp1</th>\n",
       "      <th>AcceptedCmp2</th>\n",
       "      <th>Age</th>\n",
       "      <th>Cust_Tenure</th>\n",
       "      <th>Marital_Status_Divorced</th>\n",
       "      <th>Marital_Status_Single</th>\n",
       "      <th>Marital_Status_Widow</th>\n",
       "      <th>childhome_1</th>\n",
       "      <th>childhome_2</th>\n",
       "      <th>childhome_3</th>\n",
       "      <th>Education_Basic</th>\n",
       "      <th>Education_Graduation</th>\n",
       "      <th>Education_Master</th>\n",
       "      <th>Education_PhD</th>\n",
       "    </tr>\n",
       "  </thead>\n",
       "  <tbody>\n",
       "    <tr>\n",
       "      <th>0</th>\n",
       "      <td>0.305630</td>\n",
       "      <td>0.312088</td>\n",
       "      <td>0.984044</td>\n",
       "      <td>1.554193</td>\n",
       "      <td>1.657389</td>\n",
       "      <td>2.464511</td>\n",
       "      <td>1.458453</td>\n",
       "      <td>0.846738</td>\n",
       "      <td>1.394889</td>\n",
       "      <td>2.502177</td>\n",
       "      <td>-0.546780</td>\n",
       "      <td>-0.281393</td>\n",
       "      <td>-0.288371</td>\n",
       "      <td>-0.278365</td>\n",
       "      <td>-0.264958</td>\n",
       "      <td>-0.113116</td>\n",
       "      <td>1.017928</td>\n",
       "      <td>1.500430</td>\n",
       "      <td>-0.342438</td>\n",
       "      <td>1.876986</td>\n",
       "      <td>-0.18903</td>\n",
       "      <td>-1.015672</td>\n",
       "      <td>-0.482012</td>\n",
       "      <td>-0.154533</td>\n",
       "      <td>-0.156174</td>\n",
       "      <td>0.999029</td>\n",
       "      <td>-0.445648</td>\n",
       "      <td>-0.529009</td>\n",
       "    </tr>\n",
       "    <tr>\n",
       "      <th>1</th>\n",
       "      <td>-0.265841</td>\n",
       "      <td>-0.377754</td>\n",
       "      <td>-0.870634</td>\n",
       "      <td>-0.634978</td>\n",
       "      <td>-0.708461</td>\n",
       "      <td>-0.646539</td>\n",
       "      <td>-0.627684</td>\n",
       "      <td>-0.726738</td>\n",
       "      <td>-1.107885</td>\n",
       "      <td>-0.566237</td>\n",
       "      <td>-1.164383</td>\n",
       "      <td>-0.281393</td>\n",
       "      <td>-0.288371</td>\n",
       "      <td>-0.278365</td>\n",
       "      <td>-0.264958</td>\n",
       "      <td>-0.113116</td>\n",
       "      <td>1.275191</td>\n",
       "      <td>-1.416797</td>\n",
       "      <td>-0.342438</td>\n",
       "      <td>1.876986</td>\n",
       "      <td>-0.18903</td>\n",
       "      <td>-1.015672</td>\n",
       "      <td>2.074638</td>\n",
       "      <td>-0.154533</td>\n",
       "      <td>-0.156174</td>\n",
       "      <td>0.999029</td>\n",
       "      <td>-0.445648</td>\n",
       "      <td>-0.529009</td>\n",
       "    </tr>\n",
       "    <tr>\n",
       "      <th>2</th>\n",
       "      <td>0.958552</td>\n",
       "      <td>-0.791659</td>\n",
       "      <td>0.362846</td>\n",
       "      <td>0.572841</td>\n",
       "      <td>-0.178335</td>\n",
       "      <td>1.348193</td>\n",
       "      <td>-0.148113</td>\n",
       "      <td>-0.035944</td>\n",
       "      <td>1.394889</td>\n",
       "      <td>-0.225302</td>\n",
       "      <td>1.306029</td>\n",
       "      <td>-0.281393</td>\n",
       "      <td>-0.288371</td>\n",
       "      <td>-0.278365</td>\n",
       "      <td>-0.264958</td>\n",
       "      <td>-0.113116</td>\n",
       "      <td>0.331892</td>\n",
       "      <td>0.041816</td>\n",
       "      <td>-0.342438</td>\n",
       "      <td>-0.532769</td>\n",
       "      <td>-0.18903</td>\n",
       "      <td>-1.015672</td>\n",
       "      <td>-0.482012</td>\n",
       "      <td>-0.154533</td>\n",
       "      <td>-0.156174</td>\n",
       "      <td>0.999029</td>\n",
       "      <td>-0.445648</td>\n",
       "      <td>-0.529009</td>\n",
       "    </tr>\n",
       "    <tr>\n",
       "      <th>3</th>\n",
       "      <td>-1.220295</td>\n",
       "      <td>-0.791659</td>\n",
       "      <td>-0.870634</td>\n",
       "      <td>-0.559489</td>\n",
       "      <td>-0.647124</td>\n",
       "      <td>-0.500137</td>\n",
       "      <td>-0.579727</td>\n",
       "      <td>-0.745927</td>\n",
       "      <td>-0.750346</td>\n",
       "      <td>-0.907172</td>\n",
       "      <td>-0.546780</td>\n",
       "      <td>-0.281393</td>\n",
       "      <td>-0.288371</td>\n",
       "      <td>-0.278365</td>\n",
       "      <td>-0.264958</td>\n",
       "      <td>-0.113116</td>\n",
       "      <td>-1.297442</td>\n",
       "      <td>-1.416797</td>\n",
       "      <td>-0.342438</td>\n",
       "      <td>-0.532769</td>\n",
       "      <td>-0.18903</td>\n",
       "      <td>0.984570</td>\n",
       "      <td>-0.482012</td>\n",
       "      <td>-0.154533</td>\n",
       "      <td>-0.156174</td>\n",
       "      <td>0.999029</td>\n",
       "      <td>-0.445648</td>\n",
       "      <td>-0.529009</td>\n",
       "    </tr>\n",
       "    <tr>\n",
       "      <th>4</th>\n",
       "      <td>0.313140</td>\n",
       "      <td>1.553804</td>\n",
       "      <td>-0.389131</td>\n",
       "      <td>0.421863</td>\n",
       "      <td>-0.217766</td>\n",
       "      <td>0.158674</td>\n",
       "      <td>-0.004241</td>\n",
       "      <td>-0.554040</td>\n",
       "      <td>0.322272</td>\n",
       "      <td>0.115633</td>\n",
       "      <td>0.070823</td>\n",
       "      <td>-0.281393</td>\n",
       "      <td>-0.288371</td>\n",
       "      <td>-0.278365</td>\n",
       "      <td>-0.264958</td>\n",
       "      <td>-0.113116</td>\n",
       "      <td>-1.040179</td>\n",
       "      <td>-1.416797</td>\n",
       "      <td>-0.342438</td>\n",
       "      <td>-0.532769</td>\n",
       "      <td>-0.18903</td>\n",
       "      <td>0.984570</td>\n",
       "      <td>-0.482012</td>\n",
       "      <td>-0.154533</td>\n",
       "      <td>-0.156174</td>\n",
       "      <td>-1.000972</td>\n",
       "      <td>-0.445648</td>\n",
       "      <td>1.890326</td>\n",
       "    </tr>\n",
       "    <tr>\n",
       "      <th>...</th>\n",
       "      <td>...</td>\n",
       "      <td>...</td>\n",
       "      <td>...</td>\n",
       "      <td>...</td>\n",
       "      <td>...</td>\n",
       "      <td>...</td>\n",
       "      <td>...</td>\n",
       "      <td>...</td>\n",
       "      <td>...</td>\n",
       "      <td>...</td>\n",
       "      <td>...</td>\n",
       "      <td>...</td>\n",
       "      <td>...</td>\n",
       "      <td>...</td>\n",
       "      <td>...</td>\n",
       "      <td>...</td>\n",
       "      <td>...</td>\n",
       "      <td>...</td>\n",
       "      <td>...</td>\n",
       "      <td>...</td>\n",
       "      <td>...</td>\n",
       "      <td>...</td>\n",
       "      <td>...</td>\n",
       "      <td>...</td>\n",
       "      <td>...</td>\n",
       "      <td>...</td>\n",
       "      <td>...</td>\n",
       "      <td>...</td>\n",
       "    </tr>\n",
       "    <tr>\n",
       "      <th>2053</th>\n",
       "      <td>2.069713</td>\n",
       "      <td>-0.895135</td>\n",
       "      <td>-0.876579</td>\n",
       "      <td>-0.307860</td>\n",
       "      <td>-0.655886</td>\n",
       "      <td>-0.536737</td>\n",
       "      <td>-0.627684</td>\n",
       "      <td>-0.611606</td>\n",
       "      <td>-0.392807</td>\n",
       "      <td>-0.566237</td>\n",
       "      <td>-0.855581</td>\n",
       "      <td>-0.281393</td>\n",
       "      <td>-0.288371</td>\n",
       "      <td>-0.278365</td>\n",
       "      <td>-0.264958</td>\n",
       "      <td>-0.113116</td>\n",
       "      <td>-0.697161</td>\n",
       "      <td>0.041816</td>\n",
       "      <td>-0.342438</td>\n",
       "      <td>-0.532769</td>\n",
       "      <td>-0.18903</td>\n",
       "      <td>0.984570</td>\n",
       "      <td>-0.482012</td>\n",
       "      <td>-0.154533</td>\n",
       "      <td>-0.156174</td>\n",
       "      <td>0.999029</td>\n",
       "      <td>-0.445648</td>\n",
       "      <td>-0.529009</td>\n",
       "    </tr>\n",
       "    <tr>\n",
       "      <th>2054</th>\n",
       "      <td>0.455111</td>\n",
       "      <td>-0.101817</td>\n",
       "      <td>1.203990</td>\n",
       "      <td>0.421863</td>\n",
       "      <td>0.062631</td>\n",
       "      <td>0.085473</td>\n",
       "      <td>2.177811</td>\n",
       "      <td>3.897745</td>\n",
       "      <td>1.752428</td>\n",
       "      <td>0.115633</td>\n",
       "      <td>-0.546780</td>\n",
       "      <td>-0.281393</td>\n",
       "      <td>-0.288371</td>\n",
       "      <td>-0.278365</td>\n",
       "      <td>-0.264958</td>\n",
       "      <td>-0.113116</td>\n",
       "      <td>0.160383</td>\n",
       "      <td>0.041816</td>\n",
       "      <td>-0.342438</td>\n",
       "      <td>-0.532769</td>\n",
       "      <td>-0.18903</td>\n",
       "      <td>0.984570</td>\n",
       "      <td>-0.482012</td>\n",
       "      <td>-0.154533</td>\n",
       "      <td>-0.156174</td>\n",
       "      <td>0.999029</td>\n",
       "      <td>-0.445648</td>\n",
       "      <td>-0.529009</td>\n",
       "    </tr>\n",
       "    <tr>\n",
       "      <th>2055</th>\n",
       "      <td>0.249568</td>\n",
       "      <td>1.450328</td>\n",
       "      <td>1.795466</td>\n",
       "      <td>0.547678</td>\n",
       "      <td>0.215973</td>\n",
       "      <td>-0.097530</td>\n",
       "      <td>-0.363920</td>\n",
       "      <td>-0.381341</td>\n",
       "      <td>-0.750346</td>\n",
       "      <td>0.115633</td>\n",
       "      <td>2.232434</td>\n",
       "      <td>-0.281393</td>\n",
       "      <td>3.467754</td>\n",
       "      <td>-0.278365</td>\n",
       "      <td>-0.264958</td>\n",
       "      <td>-0.113116</td>\n",
       "      <td>-1.040179</td>\n",
       "      <td>-1.416797</td>\n",
       "      <td>2.920236</td>\n",
       "      <td>-0.532769</td>\n",
       "      <td>-0.18903</td>\n",
       "      <td>-1.015672</td>\n",
       "      <td>-0.482012</td>\n",
       "      <td>-0.154533</td>\n",
       "      <td>-0.156174</td>\n",
       "      <td>0.999029</td>\n",
       "      <td>-0.445648</td>\n",
       "      <td>-0.529009</td>\n",
       "    </tr>\n",
       "    <tr>\n",
       "      <th>2056</th>\n",
       "      <td>0.843812</td>\n",
       "      <td>-1.412517</td>\n",
       "      <td>0.368790</td>\n",
       "      <td>0.094746</td>\n",
       "      <td>0.202830</td>\n",
       "      <td>0.780884</td>\n",
       "      <td>0.067695</td>\n",
       "      <td>0.328642</td>\n",
       "      <td>0.679811</td>\n",
       "      <td>0.797503</td>\n",
       "      <td>1.306029</td>\n",
       "      <td>-0.281393</td>\n",
       "      <td>-0.288371</td>\n",
       "      <td>-0.278365</td>\n",
       "      <td>-0.264958</td>\n",
       "      <td>-0.113116</td>\n",
       "      <td>1.103682</td>\n",
       "      <td>-1.416797</td>\n",
       "      <td>-0.342438</td>\n",
       "      <td>-0.532769</td>\n",
       "      <td>-0.18903</td>\n",
       "      <td>0.984570</td>\n",
       "      <td>-0.482012</td>\n",
       "      <td>-0.154533</td>\n",
       "      <td>-0.156174</td>\n",
       "      <td>-1.000972</td>\n",
       "      <td>2.243923</td>\n",
       "      <td>-0.529009</td>\n",
       "    </tr>\n",
       "    <tr>\n",
       "      <th>2057</th>\n",
       "      <td>0.050324</td>\n",
       "      <td>-0.308770</td>\n",
       "      <td>-0.653661</td>\n",
       "      <td>-0.584652</td>\n",
       "      <td>-0.467494</td>\n",
       "      <td>-0.646539</td>\n",
       "      <td>-0.627684</td>\n",
       "      <td>-0.438907</td>\n",
       "      <td>-0.392807</td>\n",
       "      <td>-0.566237</td>\n",
       "      <td>-0.546780</td>\n",
       "      <td>-0.281393</td>\n",
       "      <td>-0.288371</td>\n",
       "      <td>-0.278365</td>\n",
       "      <td>-0.264958</td>\n",
       "      <td>-0.113116</td>\n",
       "      <td>1.275191</td>\n",
       "      <td>1.500430</td>\n",
       "      <td>-0.342438</td>\n",
       "      <td>-0.532769</td>\n",
       "      <td>-0.18903</td>\n",
       "      <td>-1.015672</td>\n",
       "      <td>2.074638</td>\n",
       "      <td>-0.154533</td>\n",
       "      <td>-0.156174</td>\n",
       "      <td>-1.000972</td>\n",
       "      <td>-0.445648</td>\n",
       "      <td>1.890326</td>\n",
       "    </tr>\n",
       "  </tbody>\n",
       "</table>\n",
       "<p>2058 rows × 28 columns</p>\n",
       "</div>"
      ],
      "text/plain": [
       "        Income   Recency  MntWines  MntFruits  MntMeatProducts  \\\n",
       "0     0.305630  0.312088  0.984044   1.554193         1.657389   \n",
       "1    -0.265841 -0.377754 -0.870634  -0.634978        -0.708461   \n",
       "2     0.958552 -0.791659  0.362846   0.572841        -0.178335   \n",
       "3    -1.220295 -0.791659 -0.870634  -0.559489        -0.647124   \n",
       "4     0.313140  1.553804 -0.389131   0.421863        -0.217766   \n",
       "...        ...       ...       ...        ...              ...   \n",
       "2053  2.069713 -0.895135 -0.876579  -0.307860        -0.655886   \n",
       "2054  0.455111 -0.101817  1.203990   0.421863         0.062631   \n",
       "2055  0.249568  1.450328  1.795466   0.547678         0.215973   \n",
       "2056  0.843812 -1.412517  0.368790   0.094746         0.202830   \n",
       "2057  0.050324 -0.308770 -0.653661  -0.584652        -0.467494   \n",
       "\n",
       "      MntFishProducts  MntSweetProducts  MntGoldProds  NumWebPurchases  \\\n",
       "0            2.464511          1.458453      0.846738         1.394889   \n",
       "1           -0.646539         -0.627684     -0.726738        -1.107885   \n",
       "2            1.348193         -0.148113     -0.035944         1.394889   \n",
       "3           -0.500137         -0.579727     -0.745927        -0.750346   \n",
       "4            0.158674         -0.004241     -0.554040         0.322272   \n",
       "...               ...               ...           ...              ...   \n",
       "2053        -0.536737         -0.627684     -0.611606        -0.392807   \n",
       "2054         0.085473          2.177811      3.897745         1.752428   \n",
       "2055        -0.097530         -0.363920     -0.381341        -0.750346   \n",
       "2056         0.780884          0.067695      0.328642         0.679811   \n",
       "2057        -0.646539         -0.627684     -0.438907        -0.392807   \n",
       "\n",
       "      NumCatalogPurchases  NumStorePurchases  AcceptedCmp3  AcceptedCmp4  \\\n",
       "0                2.502177          -0.546780     -0.281393     -0.288371   \n",
       "1               -0.566237          -1.164383     -0.281393     -0.288371   \n",
       "2               -0.225302           1.306029     -0.281393     -0.288371   \n",
       "3               -0.907172          -0.546780     -0.281393     -0.288371   \n",
       "4                0.115633           0.070823     -0.281393     -0.288371   \n",
       "...                   ...                ...           ...           ...   \n",
       "2053            -0.566237          -0.855581     -0.281393     -0.288371   \n",
       "2054             0.115633          -0.546780     -0.281393     -0.288371   \n",
       "2055             0.115633           2.232434     -0.281393      3.467754   \n",
       "2056             0.797503           1.306029     -0.281393     -0.288371   \n",
       "2057            -0.566237          -0.546780     -0.281393     -0.288371   \n",
       "\n",
       "      AcceptedCmp5  AcceptedCmp1  AcceptedCmp2       Age  Cust_Tenure  \\\n",
       "0        -0.278365     -0.264958     -0.113116  1.017928     1.500430   \n",
       "1        -0.278365     -0.264958     -0.113116  1.275191    -1.416797   \n",
       "2        -0.278365     -0.264958     -0.113116  0.331892     0.041816   \n",
       "3        -0.278365     -0.264958     -0.113116 -1.297442    -1.416797   \n",
       "4        -0.278365     -0.264958     -0.113116 -1.040179    -1.416797   \n",
       "...            ...           ...           ...       ...          ...   \n",
       "2053     -0.278365     -0.264958     -0.113116 -0.697161     0.041816   \n",
       "2054     -0.278365     -0.264958     -0.113116  0.160383     0.041816   \n",
       "2055     -0.278365     -0.264958     -0.113116 -1.040179    -1.416797   \n",
       "2056     -0.278365     -0.264958     -0.113116  1.103682    -1.416797   \n",
       "2057     -0.278365     -0.264958     -0.113116  1.275191     1.500430   \n",
       "\n",
       "      Marital_Status_Divorced  Marital_Status_Single  Marital_Status_Widow  \\\n",
       "0                   -0.342438               1.876986              -0.18903   \n",
       "1                   -0.342438               1.876986              -0.18903   \n",
       "2                   -0.342438              -0.532769              -0.18903   \n",
       "3                   -0.342438              -0.532769              -0.18903   \n",
       "4                   -0.342438              -0.532769              -0.18903   \n",
       "...                       ...                    ...                   ...   \n",
       "2053                -0.342438              -0.532769              -0.18903   \n",
       "2054                -0.342438              -0.532769              -0.18903   \n",
       "2055                 2.920236              -0.532769              -0.18903   \n",
       "2056                -0.342438              -0.532769              -0.18903   \n",
       "2057                -0.342438              -0.532769              -0.18903   \n",
       "\n",
       "      childhome_1  childhome_2  childhome_3  Education_Basic  \\\n",
       "0       -1.015672    -0.482012    -0.154533        -0.156174   \n",
       "1       -1.015672     2.074638    -0.154533        -0.156174   \n",
       "2       -1.015672    -0.482012    -0.154533        -0.156174   \n",
       "3        0.984570    -0.482012    -0.154533        -0.156174   \n",
       "4        0.984570    -0.482012    -0.154533        -0.156174   \n",
       "...           ...          ...          ...              ...   \n",
       "2053     0.984570    -0.482012    -0.154533        -0.156174   \n",
       "2054     0.984570    -0.482012    -0.154533        -0.156174   \n",
       "2055    -1.015672    -0.482012    -0.154533        -0.156174   \n",
       "2056     0.984570    -0.482012    -0.154533        -0.156174   \n",
       "2057    -1.015672     2.074638    -0.154533        -0.156174   \n",
       "\n",
       "      Education_Graduation  Education_Master  Education_PhD  \n",
       "0                 0.999029         -0.445648      -0.529009  \n",
       "1                 0.999029         -0.445648      -0.529009  \n",
       "2                 0.999029         -0.445648      -0.529009  \n",
       "3                 0.999029         -0.445648      -0.529009  \n",
       "4                -1.000972         -0.445648       1.890326  \n",
       "...                    ...               ...            ...  \n",
       "2053              0.999029         -0.445648      -0.529009  \n",
       "2054              0.999029         -0.445648      -0.529009  \n",
       "2055              0.999029         -0.445648      -0.529009  \n",
       "2056             -1.000972          2.243923      -0.529009  \n",
       "2057             -1.000972         -0.445648       1.890326  \n",
       "\n",
       "[2058 rows x 28 columns]"
      ]
     },
     "execution_count": 85,
     "metadata": {},
     "output_type": "execute_result"
    }
   ],
   "source": [
    "scaled_features_df "
   ]
  },
  {
   "cell_type": "code",
   "execution_count": 86,
   "id": "c17fbb06",
   "metadata": {},
   "outputs": [],
   "source": [
    "y_pred_prob = log_reg_sm.predict_proba(scaled_features_df)[:,1]"
   ]
  },
  {
   "cell_type": "code",
   "execution_count": 87,
   "id": "faaa26d8",
   "metadata": {},
   "outputs": [
    {
     "data": {
      "text/plain": [
       "0       0.959747\n",
       "1       0.116699\n",
       "2       0.076542\n",
       "3       0.028384\n",
       "4       0.005233\n",
       "          ...   \n",
       "2053    0.063666\n",
       "2054    0.298108\n",
       "2055    0.004329\n",
       "2056    0.037509\n",
       "2057    0.635869\n",
       "Name: pred_prob, Length: 2058, dtype: float64"
      ]
     },
     "execution_count": 87,
     "metadata": {},
     "output_type": "execute_result"
    }
   ],
   "source": [
    "X['pred_prob']=pd.DataFrame(y_pred_prob)\n",
    "X['pred_prob']"
   ]
  },
  {
   "cell_type": "code",
   "execution_count": 89,
   "id": "17568030",
   "metadata": {},
   "outputs": [],
   "source": [
    "X.to_csv((r\"C:\\Users\\priya\\PycharmProjects\\Response_modeling_for_supermarket\\Data\\X_pred_prob\"), index=False)"
   ]
  },
  {
   "cell_type": "markdown",
   "id": "516696aa",
   "metadata": {},
   "source": [
    "                                **************************************************"
   ]
  }
 ],
 "metadata": {
  "kernelspec": {
   "display_name": "Python 3 (ipykernel)",
   "language": "python",
   "name": "python3"
  },
  "language_info": {
   "codemirror_mode": {
    "name": "ipython",
    "version": 3
   },
   "file_extension": ".py",
   "mimetype": "text/x-python",
   "name": "python",
   "nbconvert_exporter": "python",
   "pygments_lexer": "ipython3",
   "version": "3.9.7"
  }
 },
 "nbformat": 4,
 "nbformat_minor": 5
}
